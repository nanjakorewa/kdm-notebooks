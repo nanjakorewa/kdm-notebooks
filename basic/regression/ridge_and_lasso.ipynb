{
 "cells": [
  {
   "cell_type": "markdown",
   "id": "2eddaf73",
   "metadata": {},
   "source": [
    "# リッジ回帰とラッソ回帰"
   ]
  },
  {
   "cell_type": "markdown",
   "id": "37c9a5ea",
   "metadata": {},
   "source": [
    "<iframe width=\"560\" height=\"315\" src=\"https://www.youtube.com/embed/rhGYOBrxPXA\" title=\"YouTube video player\" frameborder=\"0\" allow=\"accelerometer; autoplay; clipboard-write; encrypted-media; gyroscope; picture-in-picture\" allowfullscreen></iframe>"
   ]
  },
  {
   "cell_type": "code",
   "execution_count": 1,
   "id": "bfd2fc85",
   "metadata": {
    "tags": [
     "hide-input"
    ]
   },
   "outputs": [],
   "source": [
    "# Google　Colaboratory で実行する場合はインストールする\n",
    "if str(get_ipython()).startswith(\"<google.colab.\"):\n",
    "    !pip install japanize_matplotlib"
   ]
  },
  {
   "cell_type": "code",
   "execution_count": 2,
   "id": "d53e5b09",
   "metadata": {},
   "outputs": [],
   "source": [
    "import numpy as np\n",
    "import matplotlib.pyplot as plt\n",
    "import japanize_matplotlib\n",
    "from sklearn.datasets import make_regression\n",
    "from sklearn.linear_model import LinearRegression, Ridge, Lasso\n",
    "from sklearn.model_selection import cross_val_score\n",
    "from sklearn.pipeline import make_pipeline\n",
    "from sklearn.preprocessing import StandardScaler"
   ]
  },
  {
   "cell_type": "code",
   "execution_count": 3,
   "id": "2b072072",
   "metadata": {
    "tags": [
     "hide-input"
    ]
   },
   "outputs": [],
   "source": [
    "# 表示する文字サイズを調整\n",
    "plt.rc(\"font\", size=20)\n",
    "plt.rc(\"legend\", fontsize=16)\n",
    "plt.rc(\"xtick\", labelsize=14)\n",
    "plt.rc(\"ytick\", labelsize=14)\n",
    "\n",
    "# 乱数\n",
    "np.random.seed(777)"
   ]
  },
  {
   "cell_type": "markdown",
   "id": "75a2608d",
   "metadata": {},
   "source": [
    "# 実験用の回帰データを作成\n",
    "```{hint}\n",
    "[sklearn.datasets.make_regression](https://scikit-learn.org/stable/modules/generated/sklearn.datasets.make_regression.html)\n",
    "```\n",
    "\n",
    "- 予測に必要な特徴量 =  2次元(`n_informative` = 2)\n",
    "- 冗長な特徴量あり"
   ]
  },
  {
   "cell_type": "code",
   "execution_count": 4,
   "id": "af5ce6d2",
   "metadata": {},
   "outputs": [],
   "source": [
    "n_features = 5\n",
    "n_informative = 2\n",
    "X, y = make_regression(\n",
    "    n_samples=500,\n",
    "    n_features=n_features,\n",
    "    n_informative=n_informative,\n",
    "    noise=0.5,\n",
    "    random_state=777,\n",
    ")\n",
    "X = np.concatenate([X, np.log(X + 100)], 1)  # 冗長な特徴量を追加する\n",
    "y_mean = y.mean(keepdims=True)\n",
    "y_std = np.std(y, keepdims=True)\n",
    "y = (y - y_mean) / y_std"
   ]
  },
  {
   "cell_type": "markdown",
   "id": "e7db1625",
   "metadata": {},
   "source": [
    "# 最小二乗法・リッジ回帰・ラッソ回帰モデルを学習\n",
    "```{hint}\n",
    "- [sklearn.pipeline.make_pipeline](https://scikit-learn.org/stable/modules/generated/sklearn.pipeline.make_pipeline.html)\n",
    "- [sklearn.linear_model.LinearRegression](https://scikit-learn.org/stable/modules/generated/sklearn.linear_model.LinearRegression.html)\n",
    "- [sklearn.linear_model.Ridge](https://scikit-learn.org/stable/modules/generated/sklearn.linear_model.Ridge.html#sklearn.linear_model.Ridge)\n",
    "- [sklearn.linear_model.Lasso](https://scikit-learn.org/stable/modules/generated/sklearn.linear_model.Lasso.html#sklearn.linear_model.Lasso)\n",
    "```\n",
    "\n",
    "それぞれのモデルについて、同じデータをつかって訓練します。"
   ]
  },
  {
   "cell_type": "code",
   "execution_count": 5,
   "id": "e03c097d",
   "metadata": {},
   "outputs": [],
   "source": [
    "lin_r = make_pipeline(StandardScaler(with_mean=False), LinearRegression()).fit(X, y)\n",
    "rid_r = make_pipeline(StandardScaler(with_mean=False), Ridge(alpha=2)).fit(X, y)\n",
    "las_r = make_pipeline(StandardScaler(with_mean=False), Lasso(alpha=0.1)).fit(X, y)"
   ]
  },
  {
   "cell_type": "markdown",
   "id": "c0e37b78",
   "metadata": {},
   "source": [
    "# 各モデルの係数の値を比較\n",
    "\n",
    "各係数の絶対値をプロットします。線形回帰は係数がほとんど０にならないことがグラフから見て取れます。\n",
    "また、Lasso回帰は予測に必要な特徴量以外で係数＝０になっていることが確認できます。"
   ]
  },
  {
   "cell_type": "code",
   "execution_count": 6,
   "id": "01fc0847",
   "metadata": {},
   "outputs": [
    {
     "data": {
      "text/plain": [
       "<matplotlib.legend.Legend at 0x7fede15ef4c0>"
      ]
     },
     "execution_count": 6,
     "metadata": {},
     "output_type": "execute_result"
    },
    {
     "data": {
      "image/png": "[encoded data removed]",
      "text/plain": [
       "<Figure size 864x288 with 1 Axes>"
      ]
     },
     "metadata": {
      "needs_background": "light"
     },
     "output_type": "display_data"
    }
   ],
   "source": [
    "feat_index = np.array([i for i in range(X.shape[1])])\n",
    "\n",
    "plt.figure(figsize=(12, 4))\n",
    "plt.bar(\n",
    "    feat_index - 0.2,\n",
    "    np.abs(lin_r.steps[1][1].coef_),\n",
    "    width=0.2,\n",
    "    label=\"LinearRegression\",\n",
    ")\n",
    "plt.bar(feat_index, np.abs(rid_r.steps[1][1].coef_), width=0.2, label=\"RidgeRegression\")\n",
    "plt.bar(\n",
    "    feat_index + 0.2,\n",
    "    np.abs(las_r.steps[1][1].coef_),\n",
    "    width=0.2,\n",
    "    label=\"LassoRegression\",\n",
    ")\n",
    "\n",
    "plt.xlabel(r\"$\\beta$のインデックス\")\n",
    "plt.ylabel(r\"$|\\beta|$\")\n",
    "plt.grid()\n",
    "plt.legend()"
   ]
  }
 ],
 "metadata": {
  "celltoolbar": "Tags",
  "kernelspec": {
   "display_name": "Python 3 (ipykernel)",
   "language": "python",
   "name": "python3"
  },
  "language_info": {
   "codemirror_mode": {
    "name": "ipython",
    "version": 3
   },
   "file_extension": ".py",
   "mimetype": "text/x-python",
   "name": "python",
   "nbconvert_exporter": "python",
   "pygments_lexer": "ipython3",
   "version": "3.8.5"
  }
 },
 "nbformat": 4,
 "nbformat_minor": 5
}
