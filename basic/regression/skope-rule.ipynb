{
 "cells": [
  {
   "cell_type": "code",
   "execution_count": 6,
   "metadata": {},
   "outputs": [
    {
     "name": "stdout",
     "output_type": "stream",
     "text": [
      "Rules for iris setosa\n",
      "('petal_length <= 2.599999964237213', (1.0, 1.0, 5))\n",
      "('petal_width <= 0.75', (1.0, 1.0, 5))\n",
      "====================\n",
      "Rules for iris versicolor\n",
      "('petal_length <= 4.950000047683716 and petal_width <= 1.75 and petal_width > 0.75', (1.0, 0.975609756097561, 1))\n",
      "('petal_length <= 4.75 and petal_length > 2.449999988079071', (0.9718253968253968, 0.8625, 2))\n",
      "('sepal_length > 4.950000047683716 and petal_length <= 4.75 and petal_width > 0.800000011920929', (1.0, 0.8205128205128205, 1))\n",
      "====================\n",
      "Rules for iris virginica\n",
      "('petal_width > 1.6500000357627869', (0.9736842105263158, 0.925, 1))\n",
      "('petal_length > 4.75 and petal_width > 1.75', (0.977073435664767, 0.9028187847667951, 6))\n",
      "('petal_length > 4.950000047683716', (0.956442831215971, 0.8507890961262554, 2))\n",
      "====================\n"
     ]
    }
   ],
   "source": [
    "import warnings\n",
    "\n",
    "from sklearn.datasets import load_iris\n",
    "import six\n",
    "import sys\n",
    "\n",
    "sys.modules[\"sklearn.externals.six\"] = six\n",
    "from skrules import SkopeRules\n",
    "\n",
    "with warnings.catch_warnings(record=True) as w:\n",
    "    dataset = load_iris()\n",
    "    feature_names = [\"sepal_length\", \"sepal_width\", \"petal_length\", \"petal_width\"]\n",
    "    clf = SkopeRules(\n",
    "        max_depth_duplication=2,\n",
    "        n_estimators=30,\n",
    "        precision_min=0.3,\n",
    "        recall_min=0.1,\n",
    "        feature_names=feature_names,\n",
    "    )\n",
    "\n",
    "    for idx, species in enumerate(dataset.target_names):\n",
    "        X, y = dataset.data, dataset.target\n",
    "        clf.fit(X, y == idx)\n",
    "        rules = clf.rules_[0:3]\n",
    "        print(\"Rules for iris\", species)\n",
    "        for rule in rules:\n",
    "            print(rule)\n",
    "        print(20 * \"=\")"
   ]
  }
 ],
 "metadata": {
  "kernelspec": {
   "display_name": "py39",
   "language": "python",
   "name": "python3"
  },
  "language_info": {
   "codemirror_mode": {
    "name": "ipython",
    "version": 3
   },
   "file_extension": ".py",
   "mimetype": "text/x-python",
   "name": "python",
   "nbconvert_exporter": "python",
   "pygments_lexer": "ipython3",
   "version": "3.9.18"
  }
 },
 "nbformat": 4,
 "nbformat_minor": 2
}
