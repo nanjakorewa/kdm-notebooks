{
 "cells": [
  {
   "cell_type": "markdown",
   "id": "b5cb2afe",
   "metadata": {},
   "source": [
    "# SVD"
   ]
  },
  {
   "cell_type": "code",
   "execution_count": 1,
   "id": "4ed409cb",
   "metadata": {},
   "outputs": [],
   "source": [
    "import numpy as np\n",
    "import matplotlib.pyplot as plt\n",
    "import japanize_matplotlib\n",
    "from scipy import linalg\n",
    "from PIL import Image"
   ]
  },
  {
   "cell_type": "code",
   "execution_count": 2,
   "id": "30b4f311",
   "metadata": {
    "tags": [
     "hide-input"
    ]
   },
   "outputs": [],
   "source": [
    "# 表示する文字サイズを調整\n",
    "plt.rc(\"font\", size=20)\n",
    "plt.rc(\"legend\", fontsize=16)\n",
    "plt.rc(\"xtick\", labelsize=14)\n",
    "plt.rc(\"ytick\", labelsize=14)"
   ]
  },
  {
   "cell_type": "markdown",
   "id": "f531f934",
   "metadata": {},
   "source": [
    "# 実験用のデータ\n",
    "「実験」という文字の画像をデータの系列（グレースケールなので[0, 0, 1, 1, 0 ...]のようなベクトルの集まり）に見立てて、特異値分解してみます。\n",
    "\n",
    "ドキュメント：[https://docs.scipy.org/doc/scipy/tutorial/linalg.html](https://docs.scipy.org/doc/scipy/tutorial/linalg.html)"
   ]
  },
  {
   "cell_type": "code",
   "execution_count": 3,
   "id": "21d37913",
   "metadata": {},
   "outputs": [
    {
     "data": {
      "image/png": "[encoded data removed]",
      "text/plain": [
       "<PIL.Image.Image image mode=L size=372x163 at 0x7F8D9F1B0100>"
      ]
     },
     "execution_count": 3,
     "metadata": {},
     "output_type": "execute_result"
    }
   ],
   "source": [
    "img = Image.open(\"./sample.png\").convert(\"L\").resize((163, 372)).rotate(90, expand=True)\n",
    "img"
   ]
  },
  {
   "cell_type": "markdown",
   "id": "59be7396",
   "metadata": {},
   "source": [
    "# 特異値分解を実行"
   ]
  },
  {
   "cell_type": "code",
   "execution_count": 4,
   "id": "ac303bac",
   "metadata": {},
   "outputs": [
    {
     "name": "stdout",
     "output_type": "stream",
     "text": [
      "A: (163, 372), U: (163, 163), Σ:(163,), V^T:(372, 372)\n"
     ]
    }
   ],
   "source": [
    "# 文字のデータが入った行列Aを特異値分解する\n",
    "X = np.asarray(img)\n",
    "U, Sigma, VT = linalg.svd(X, full_matrices=True)\n",
    "\n",
    "print(f\"A: {X.shape}, U: {U.shape}, Σ:{Sigma.shape}, V^T:{VT.shape}\")"
   ]
  },
  {
   "cell_type": "markdown",
   "id": "e4cc38ff",
   "metadata": {},
   "source": [
    "# 低ランクで画像を近似"
   ]
  },
  {
   "cell_type": "code",
   "execution_count": null,
   "id": "49c616c6",
   "metadata": {
    "scrolled": false
   },
   "outputs": [],
   "source": [
    "# ランクを増やすと元の文字がより精密に復元される\n",
    "for rank in [1, 2, 3, 4, 5, 10, 20, 50]:\n",
    "    # rank番目までの要素を抽出\n",
    "    U_i = U[:, :rank]\n",
    "    Sigma_i = np.matrix(linalg.diagsvd(Sigma[:rank], rank, rank))\n",
    "    VT_i = VT[:rank, :]\n",
    "\n",
    "    # 画像を復元\n",
    "    temp_image = np.asarray(U_i * Sigma_i * VT_i)\n",
    "    Image.fromarray(np.uint8(temp_image))\n",
    "    plt.title(f\"rank={rank}\")\n",
    "    plt.imshow(temp_image, cmap=\"gray\")\n",
    "    plt.show()"
   ]
  },
  {
   "cell_type": "markdown",
   "id": "7079ed63",
   "metadata": {},
   "source": [
    "# Vの中身"
   ]
  },
  {
   "cell_type": "code",
   "execution_count": null,
   "id": "f80a89f4",
   "metadata": {},
   "outputs": [],
   "source": [
    "total = np.zeros((163, 372))\n",
    "\n",
    "for rank in [1, 2, 3, 4, 5]:\n",
    "    # rank番目までの要素を抽出\n",
    "    U_i = U[:, :rank]\n",
    "    Sigma_i = np.matrix(linalg.diagsvd(Sigma[:rank], rank, rank))\n",
    "    VT_i = VT[:rank, :]\n",
    "\n",
    "    # rank番目の特異値以外をすべて０にして、rank番目の要素のみ残す\n",
    "    if rank > 1:\n",
    "        for ri in range(rank - 1):\n",
    "            Sigma_i[ri, ri] = 0\n",
    "\n",
    "    # 画像を復元\n",
    "    temp_image = np.asarray(U_i * Sigma_i * VT_i)\n",
    "    Image.fromarray(np.uint8(temp_image))\n",
    "\n",
    "    # rank番目の要素のみを足す\n",
    "    total += temp_image\n",
    "\n",
    "    # rank番目までの要素で復元した画像と、行列Vのrank列目の値のプロットを比較してみる\n",
    "    plt.figure(figsize=(5, 5))\n",
    "    plt.suptitle(f\"$u_{rank}$\")\n",
    "    plt.subplot(211)\n",
    "    plt.imshow(temp_image, cmap=\"gray\")\n",
    "    plt.subplot(212)\n",
    "    plt.plot(VT[0])\n",
    "    plt.show()"
   ]
  },
  {
   "cell_type": "code",
   "execution_count": null,
   "id": "d2bdd109",
   "metadata": {},
   "outputs": [],
   "source": [
    "# 1~5番目の要素を足し合わせると、ちゃんと元の画像を復元できることを確認する\n",
    "plt.imshow(total)"
   ]
  }
 ],
 "metadata": {
  "celltoolbar": "Tags",
  "kernelspec": {
   "display_name": "Python 3 (ipykernel)",
   "language": "python",
   "name": "python3"
  },
  "language_info": {
   "codemirror_mode": {
    "name": "ipython",
    "version": 3
   },
   "file_extension": ".py",
   "mimetype": "text/x-python",
   "name": "python",
   "nbconvert_exporter": "python",
   "pygments_lexer": "ipython3",
   "version": "3.8.5"
  }
 },
 "nbformat": 4,
 "nbformat_minor": 5
}
