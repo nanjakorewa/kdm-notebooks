{
 "cells": [
  {
   "cell_type": "markdown",
   "id": "ec4cdbe6",
   "metadata": {},
   "source": [
    "# ツリーマップを作成する\n",
    "このnotebookでは[squarify | Pure Python implementation of the squarify treemap layout algorithm.](https://github.com/laserson/squarify) を使用します。\n",
    "\n",
    "<iframe width=\"560\" height=\"315\" src=\"https://www.youtube.com/embed/vrqGixbnKj4\" title=\"YouTube video player\" frameborder=\"0\" allow=\"accelerometer; autoplay; clipboard-write; encrypted-media; gyroscope; picture-in-picture\" allowfullscreen></iframe>\n",
    "\n",
    "\n",
    "```{note}\n",
    "ツリーマップはplotlyを使うことでも作成できます。\n",
    "\n",
    "[Treemap charts with Python - Plotly](https://plotly.com/python/treemaps/)\n",
    "```"
   ]
  },
  {
   "cell_type": "code",
   "execution_count": 1,
   "id": "803519a2",
   "metadata": {},
   "outputs": [],
   "source": [
    "# Google　Colaboratory で実行する場合はインストールする\n",
    "if str(get_ipython()).startswith(\"<google.colab.\"):\n",
    "    !pip install japanize_matplotlib\n",
    "    !pip install squarify"
   ]
  },
  {
   "cell_type": "code",
   "execution_count": 2,
   "id": "95a209de",
   "metadata": {},
   "outputs": [
    {
     "data": {
      "image/png": "[encoded data removed]",
      "text/plain": [
       "<Figure size 360x360 with 1 Axes>"
      ]
     },
     "metadata": {
      "needs_background": "light"
     },
     "output_type": "display_data"
    }
   ],
   "source": [
    "import numpy as np\n",
    "import matplotlib.pyplot as plt\n",
    "import japanize_matplotlib\n",
    "import squarify\n",
    "\n",
    "np.random.seed(0)  # 乱数を固定する\n",
    "\n",
    "labels = [\"A\" * i for i in range(1, 5)]\n",
    "sizes = [i * 10 for i in range(1, 5)]\n",
    "colors = [\"#%02x%02x%02x\" % (i * 50, 0, 0) for i in range(1, 5)]\n",
    "\n",
    "plt.figure(figsize=(5, 5))\n",
    "squarify.plot(sizes, color=colors, label=labels)\n",
    "plt.axis(\"off\")\n",
    "plt.show()"
   ]
  },
  {
   "cell_type": "markdown",
   "id": "78979bb4",
   "metadata": {},
   "source": [
    "## ポートフォリオを可視化する\n",
    "持っている銘柄ごとの取得価格・現在価格のデータがあったとします。\n",
    "そこから、[finviz](https://finviz.com/)のようなヒートマップを作ってみます。\n",
    "\n",
    "### データを作成する\n",
    "仮に、csvから以下のようなデータを読み込んだとします。\n",
    "\n",
    "<b>※ここに示しているのは架空のデータです</b>"
   ]
  },
  {
   "cell_type": "code",
   "execution_count": 3,
   "id": "9432f183",
   "metadata": {},
   "outputs": [
    {
     "data": {
      "text/html": [
       "<div>\n",
       "<style scoped>\n",
       "    .dataframe tbody tr th:only-of-type {\n",
       "        vertical-align: middle;\n",
       "    }\n",
       "\n",
       "    .dataframe tbody tr th {\n",
       "        vertical-align: top;\n",
       "    }\n",
       "\n",
       "    .dataframe thead th {\n",
       "        text-align: right;\n",
       "    }\n",
       "</style>\n",
       "<table border=\"1\" class=\"dataframe\">\n",
       "  <thead>\n",
       "    <tr style=\"text-align: right;\">\n",
       "      <th></th>\n",
       "      <th>銘柄名</th>\n",
       "      <th>取得価額</th>\n",
       "      <th>現在の価額</th>\n",
       "      <th>評価損益</th>\n",
       "    </tr>\n",
       "  </thead>\n",
       "  <tbody>\n",
       "    <tr>\n",
       "      <th>0</th>\n",
       "      <td>PBR</td>\n",
       "      <td>80.20</td>\n",
       "      <td>130.0</td>\n",
       "      <td>49.80</td>\n",
       "    </tr>\n",
       "    <tr>\n",
       "      <th>1</th>\n",
       "      <td>GOOG</td>\n",
       "      <td>1188.00</td>\n",
       "      <td>1588.0</td>\n",
       "      <td>400.00</td>\n",
       "    </tr>\n",
       "    <tr>\n",
       "      <th>2</th>\n",
       "      <td>FLNG</td>\n",
       "      <td>70.90</td>\n",
       "      <td>230.0</td>\n",
       "      <td>159.10</td>\n",
       "    </tr>\n",
       "    <tr>\n",
       "      <th>3</th>\n",
       "      <td>ZIM</td>\n",
       "      <td>400.22</td>\n",
       "      <td>630.1</td>\n",
       "      <td>229.88</td>\n",
       "    </tr>\n",
       "    <tr>\n",
       "      <th>4</th>\n",
       "      <td>GOGL</td>\n",
       "      <td>120.20</td>\n",
       "      <td>90.9</td>\n",
       "      <td>-29.30</td>\n",
       "    </tr>\n",
       "    <tr>\n",
       "      <th>5</th>\n",
       "      <td>3466\\nラサールロジ</td>\n",
       "      <td>156.20</td>\n",
       "      <td>147.0</td>\n",
       "      <td>-9.20</td>\n",
       "    </tr>\n",
       "  </tbody>\n",
       "</table>\n",
       "</div>"
      ],
      "text/plain": [
       "            銘柄名     取得価額   現在の価額    評価損益\n",
       "0           PBR    80.20   130.0   49.80\n",
       "1          GOOG  1188.00  1588.0  400.00\n",
       "2          FLNG    70.90   230.0  159.10\n",
       "3           ZIM   400.22   630.1  229.88\n",
       "4          GOGL   120.20    90.9  -29.30\n",
       "5  3466\\nラサールロジ   156.20   147.0   -9.20"
      ]
     },
     "execution_count": 3,
     "metadata": {},
     "output_type": "execute_result"
    }
   ],
   "source": [
    "import pandas as pd\n",
    "\n",
    "data = [\n",
    "    [\"PBR\", 80.20, 130.00],\n",
    "    [\"GOOG\", 1188.0, 1588.0],\n",
    "    [\"FLNG\", 70.90, 230.00],\n",
    "    [\"ZIM\", 400.22, 630.10],\n",
    "    [\"GOGL\", 120.20, 90.90],\n",
    "    [\"3466\\nラサールロジ\", 156.20, 147.00],  # 日本語表示のテスト用\n",
    "]\n",
    "\n",
    "df = pd.DataFrame(data)\n",
    "df.columns = [\"銘柄名\", \"取得価額\", \"現在の価額\"]\n",
    "df[\"評価損益\"] = df[\"現在の価額\"] - df[\"取得価額\"]\n",
    "df.head(6)"
   ]
  },
  {
   "cell_type": "markdown",
   "id": "b1f3cdf6",
   "metadata": {},
   "source": [
    "### ツリーマップの色を指定する\n",
    "利益が出ている箇所を緑色、損が出ている箇所を赤色にします。"
   ]
  },
  {
   "cell_type": "code",
   "execution_count": 4,
   "id": "cca78aec",
   "metadata": {},
   "outputs": [
    {
     "name": "stdout",
     "output_type": "stream",
     "text": [
      "['PBR' 'GOOG' 'FLNG' 'ZIM' 'GOGL' '3466\\nラサールロジ']\n",
      "['#00ff00', '#00b900', '#00ff00', '#00f600', '#a20000', '#730000']\n",
      "[62.094763092269325, 33.670033670033675, 224.4005641748942, 57.43840887511868, -24.376039933444257, -5.8898847631241935]\n"
     ]
    }
   ],
   "source": [
    "colors = []\n",
    "percents = []\n",
    "for p_or_l, oac in zip(df[\"評価損益\"], df[\"取得価額\"]):\n",
    "    percent = p_or_l / oac * 100\n",
    "\n",
    "    if p_or_l > 0:\n",
    "        g = np.min([percent * 255 / 100 + 100, 255.0])\n",
    "        color = \"#%02x%02x%02x\" % (0, int(g), 0)\n",
    "        colors.append(color)\n",
    "    else:\n",
    "        r = np.min([-percent * 255 / 100 + 100, 255])\n",
    "        color = \"#%02x%02x%02x\" % (int(r), 0, 0)\n",
    "        colors.append(color)\n",
    "\n",
    "    percents.append(percent)\n",
    "\n",
    "print(df[\"銘柄名\"].values)\n",
    "print(colors)\n",
    "print(percents)"
   ]
  },
  {
   "cell_type": "markdown",
   "id": "e526587a",
   "metadata": {},
   "source": [
    "### ツリーマップを表示する\n",
    "損益を色で表現し、損益の割合もツリーマップ上に表示してみます。\n",
    "日本語が文字化けしていないのは冒頭で `import japanize_matplotlib` としているためです。"
   ]
  },
  {
   "cell_type": "code",
   "execution_count": 5,
   "id": "3af45a71",
   "metadata": {},
   "outputs": [
    {
     "data": {
      "image/png": "[encoded data removed]",
      "text/plain": [
       "<Figure size 720x720 with 1 Axes>"
      ]
     },
     "metadata": {
      "needs_background": "light"
     },
     "output_type": "display_data"
    }
   ],
   "source": [
    "current_prices = [cp for cp in df[\"現在の価額\"]]\n",
    "labels = [\n",
    "    f\"{name}\\n{np.round(percent, 2)}％\".replace(\"-\", \"▼\")\n",
    "    for name, percent in zip(df[\"銘柄名\"], percents)\n",
    "]\n",
    "\n",
    "plt.figure(figsize=(10, 10))\n",
    "plt.rcParams[\"font.size\"] = 18\n",
    "squarify.plot(current_prices, color=colors, label=labels)\n",
    "plt.axis(\"off\")\n",
    "plt.show()"
   ]
  },
  {
   "cell_type": "markdown",
   "id": "4a575ce3",
   "metadata": {},
   "source": [
    "### キャッシュの表示を追加する\n",
    "キャッシュの表示も追加してみます。色はグレーにします。"
   ]
  },
  {
   "cell_type": "code",
   "execution_count": 6,
   "id": "86d13f03",
   "metadata": {},
   "outputs": [
    {
     "data": {
      "image/png": "[encoded data removed]",
      "text/plain": [
       "<Figure size 720x720 with 1 Axes>"
      ]
     },
     "metadata": {
      "needs_background": "light"
     },
     "output_type": "display_data"
    }
   ],
   "source": [
    "plt.figure(figsize=(10, 10))\n",
    "plt.rcParams[\"font.size\"] = 18\n",
    "squarify.plot(\n",
    "    current_prices + [3500], color=colors + [\"#ccc\"], label=labels + [\"キャッシュ\"]\n",
    ")\n",
    "plt.axis(\"off\")\n",
    "plt.show()"
   ]
  }
 ],
 "metadata": {
  "kernelspec": {
   "display_name": "Python 3 (ipykernel)",
   "language": "python",
   "name": "python3"
  },
  "language_info": {
   "codemirror_mode": {
    "name": "ipython",
    "version": 3
   },
   "file_extension": ".py",
   "mimetype": "text/x-python",
   "name": "python",
   "nbconvert_exporter": "python",
   "pygments_lexer": "ipython3",
   "version": "3.8.5"
  }
 },
 "nbformat": 4,
 "nbformat_minor": 5
}
