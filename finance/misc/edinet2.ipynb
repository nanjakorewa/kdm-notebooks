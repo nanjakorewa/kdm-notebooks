{
 "cells": [
  {
   "cell_type": "markdown",
   "id": "b2f5045a-2ebe-45fd-b51f-7e0079c9d9a4",
   "metadata": {},
   "source": [
    "# EDINETのAPIを使用してみる\n",
    "本書のゴール＝四半期報告書のpdfを取得する\n",
    "\n",
    "以下のコンテンツではEDINET閲覧サイト（[url](https://disclosure2.edinet-fsa.go.jp/WEEE0030.aspx?bXVsPeWVhuiIueS4ieS6lSZjdGY9b2ZmJmZscz1vbiZscHI9b2ZmJnJwcj1vZmYmb3RoPW9mZiZwZnM9NiZ5ZXI9Jm1vbj0=)）から取得できる情報をもとにデータを加工して作成しています。本ページに記載されているコードの実行や取得したデータの利用についてはEDINETの利用規約を確認し理解した上で利用してください。また、Version2のAPIを使用する際はログイン認証＋APIキーの発行が必要になります。\n",
    "\n",
    "※注意：使用時には必ず利用規約（[pdf](https://disclosure2dl.edinet-fsa.go.jp/guide/static/disclosure/download/ESE140191.pdf)・[web](https://disclosure2dl.edinet-fsa.go.jp/guide/static/submit/WZEK0030.html))を確認した上で常識の範囲内での使用にとどめてください。"
   ]
  },
  {
   "cell_type": "code",
   "execution_count": 1,
   "id": "d509f429-7153-4940-bd26-d940329de6c8",
   "metadata": {},
   "outputs": [],
   "source": [
    "import os\n",
    "import time\n",
    "import zipfile\n",
    "\n",
    "import pandas as pd\n",
    "import requests\n",
    "\n",
    "API_ENDPOINT = \"https://disclosure.edinet-fsa.go.jp/api/v2\"  # v2を使用する\n",
    "\n",
    "\n",
    "def save_csv(docID, type=5):\n",
    "    \"\"\"EDINETからデータを取得してフォルダに保存する\n",
    "\n",
    "    Args:\n",
    "        docID (str): DocID\n",
    "    \"\"\"\n",
    "    assert type in [1, 2, 3, 4, 5], \"typeの指定が間違っている\"\n",
    "    if type == 1:\n",
    "        print(f\"{docID}のXBRLデータを取得中\")\n",
    "    elif type == 2:\n",
    "        print(f\"{docID}のpdfデータを取得中\")\n",
    "    elif type in {3, 4}:\n",
    "        print(f\"{docID}のデータを取得中\")\n",
    "    elif type == 5:\n",
    "        print(f\"{docID}のcsvデータを取得中\")\n",
    "        time.sleep(5)\n",
    "\n",
    "    r = requests.get(\n",
    "        f\"{API_ENDPOINT}/documents/{docID}\",\n",
    "        {\n",
    "            \"type\": type,\n",
    "            \"Subscription-Key\": os.environ.get(\"EDINET_API_KEY\"),\n",
    "        },\n",
    "    )\n",
    "\n",
    "    if r is None:\n",
    "        print(\"データの取得に失敗しました。csvFlag==1かどうか確認してください。\")\n",
    "    else:\n",
    "        os.makedirs(f\"{docID}\", exist_ok=True)\n",
    "        temp_zip = \"uuid_89FD71B5_CD7B_4833-B30D‗5AA5006097E2.zip\"\n",
    "\n",
    "        with open(temp_zip, \"wb\") as f:\n",
    "            for chunk in r.iter_content(chunk_size=1024):\n",
    "                f.write(chunk)\n",
    "\n",
    "        with zipfile.ZipFile(temp_zip) as z:\n",
    "            z.extractall(f\"{docID}\")\n",
    "\n",
    "        os.remove(temp_zip)"
   ]
  },
  {
   "cell_type": "markdown",
   "id": "e61d32b1-2db1-4161-a49c-9bbd0326d9b5",
   "metadata": {},
   "source": [
    "### 書類取得API\n",
    "csvデータをAPI経由で取得してzipファイルに保存します。"
   ]
  },
  {
   "cell_type": "code",
   "execution_count": 2,
   "id": "059bf7e0-5434-4d05-b909-130b169ff229",
   "metadata": {},
   "outputs": [
    {
     "name": "stdout",
     "output_type": "stream",
     "text": [
      "S100STH6のcsvデータを取得中\n",
      "S100SS7Pのcsvデータを取得中\n",
      "S100STLSのcsvデータを取得中\n",
      "S100SRTIのcsvデータを取得中\n",
      "S100SP9Oのcsvデータを取得中\n"
     ]
    }
   ],
   "source": [
    "docID_dict = {\n",
    "    \"商船三井\": \"S100STH6\",\n",
    "    \"日本郵船\": \"S100SS7P\",\n",
    "    \"玉井商船株式会社\": \"S100STLS\",\n",
    "    \"川崎汽船\": \"S100SRTI\",\n",
    "    \"飯野海運\": \"S100SP9O\",\n",
    "}\n",
    "\n",
    "for docID in docID_dict.values():\n",
    "    save_csv(docID, type=5)"
   ]
  },
  {
   "cell_type": "markdown",
   "id": "57df5823-5bf1-4aab-9fa3-40c9c2b10b45",
   "metadata": {},
   "source": [
    "### 取得したデータの確認"
   ]
  },
  {
   "cell_type": "code",
   "execution_count": 3,
   "id": "f3f45dc8-bac5-4351-840b-1440c08a124f",
   "metadata": {},
   "outputs": [
    {
     "data": {
      "text/html": [
       "<div>\n",
       "<style scoped>\n",
       "    .dataframe tbody tr th:only-of-type {\n",
       "        vertical-align: middle;\n",
       "    }\n",
       "\n",
       "    .dataframe tbody tr th {\n",
       "        vertical-align: top;\n",
       "    }\n",
       "\n",
       "    .dataframe thead th {\n",
       "        text-align: right;\n",
       "    }\n",
       "</style>\n",
       "<table border=\"1\" class=\"dataframe\">\n",
       "  <thead>\n",
       "    <tr style=\"text-align: right;\">\n",
       "      <th></th>\n",
       "      <th>要素ID</th>\n",
       "      <th>項目名</th>\n",
       "      <th>コンテキストID</th>\n",
       "      <th>相対年度</th>\n",
       "      <th>連結・個別</th>\n",
       "      <th>期間・時点</th>\n",
       "      <th>ユニットID</th>\n",
       "      <th>単位</th>\n",
       "      <th>値</th>\n",
       "      <th>会社名</th>\n",
       "    </tr>\n",
       "  </thead>\n",
       "  <tbody>\n",
       "    <tr>\n",
       "      <th>0</th>\n",
       "      <td>jpdei_cor:NumberOfSubmissionDEI</td>\n",
       "      <td>提出回数、DEI</td>\n",
       "      <td>FilingDateInstant</td>\n",
       "      <td>提出日時点</td>\n",
       "      <td>その他</td>\n",
       "      <td>時点</td>\n",
       "      <td>pure</td>\n",
       "      <td>NaN</td>\n",
       "      <td>1</td>\n",
       "      <td>商船三井</td>\n",
       "    </tr>\n",
       "    <tr>\n",
       "      <th>1</th>\n",
       "      <td>jpcrp_cor:NetSalesSummaryOfBusinessResults</td>\n",
       "      <td>売上高、経営指標等</td>\n",
       "      <td>Prior1YTDDuration</td>\n",
       "      <td>前年度同四半期累計期間</td>\n",
       "      <td>その他</td>\n",
       "      <td>期間</td>\n",
       "      <td>JPY</td>\n",
       "      <td>円</td>\n",
       "      <td>1257968000000</td>\n",
       "      <td>商船三井</td>\n",
       "    </tr>\n",
       "    <tr>\n",
       "      <th>2</th>\n",
       "      <td>jpcrp_cor:NetSalesSummaryOfBusinessResults</td>\n",
       "      <td>売上高、経営指標等</td>\n",
       "      <td>CurrentYTDDuration</td>\n",
       "      <td>当四半期累計期間</td>\n",
       "      <td>その他</td>\n",
       "      <td>期間</td>\n",
       "      <td>JPY</td>\n",
       "      <td>円</td>\n",
       "      <td>1218664000000</td>\n",
       "      <td>商船三井</td>\n",
       "    </tr>\n",
       "    <tr>\n",
       "      <th>3</th>\n",
       "      <td>jpcrp_cor:NetSalesSummaryOfBusinessResults</td>\n",
       "      <td>売上高、経営指標等</td>\n",
       "      <td>Prior1YearDuration</td>\n",
       "      <td>前期</td>\n",
       "      <td>その他</td>\n",
       "      <td>期間</td>\n",
       "      <td>JPY</td>\n",
       "      <td>円</td>\n",
       "      <td>1611984000000</td>\n",
       "      <td>商船三井</td>\n",
       "    </tr>\n",
       "    <tr>\n",
       "      <th>4</th>\n",
       "      <td>jpcrp_cor:OrdinaryIncomeLossSummaryOfBusinessR...</td>\n",
       "      <td>経常利益又は経常損失（△）、経営指標等</td>\n",
       "      <td>Prior1YTDDuration</td>\n",
       "      <td>前年度同四半期累計期間</td>\n",
       "      <td>その他</td>\n",
       "      <td>期間</td>\n",
       "      <td>JPY</td>\n",
       "      <td>円</td>\n",
       "      <td>739254000000</td>\n",
       "      <td>商船三井</td>\n",
       "    </tr>\n",
       "  </tbody>\n",
       "</table>\n",
       "</div>"
      ],
      "text/plain": [
       "                                                要素ID                  項目名  \\\n",
       "0                    jpdei_cor:NumberOfSubmissionDEI             提出回数、DEI   \n",
       "1         jpcrp_cor:NetSalesSummaryOfBusinessResults            売上高、経営指標等   \n",
       "2         jpcrp_cor:NetSalesSummaryOfBusinessResults            売上高、経営指標等   \n",
       "3         jpcrp_cor:NetSalesSummaryOfBusinessResults            売上高、経営指標等   \n",
       "4  jpcrp_cor:OrdinaryIncomeLossSummaryOfBusinessR...  経常利益又は経常損失（△）、経営指標等   \n",
       "\n",
       "             コンテキストID         相対年度 連結・個別 期間・時点 ユニットID   単位              値  \\\n",
       "0   FilingDateInstant        提出日時点   その他    時点   pure  NaN              1   \n",
       "1   Prior1YTDDuration  前年度同四半期累計期間   その他    期間    JPY    円  1257968000000   \n",
       "2  CurrentYTDDuration     当四半期累計期間   その他    期間    JPY    円  1218664000000   \n",
       "3  Prior1YearDuration           前期   その他    期間    JPY    円  1611984000000   \n",
       "4   Prior1YTDDuration  前年度同四半期累計期間   その他    期間    JPY    円   739254000000   \n",
       "\n",
       "    会社名  \n",
       "0  商船三井  \n",
       "1  商船三井  \n",
       "2  商船三井  \n",
       "3  商船三井  \n",
       "4  商船三井  "
      ]
     },
     "execution_count": 3,
     "metadata": {},
     "output_type": "execute_result"
    }
   ],
   "source": [
    "dfs = []\n",
    "\n",
    "for companyName, docID in docID_dict.items():\n",
    "    csv_savedir = os.path.join(docID, \"XBRL_TO_CSV\")\n",
    "    filelist = [f for f in os.listdir(csv_savedir) if f.startswith(\"jpcrp\")]\n",
    "    if len(filelist) > 0:\n",
    "        df = pd.read_csv(\n",
    "            os.path.join(csv_savedir, filelist[0]), encoding=\"utf-16\", sep=\"\\t\"\n",
    "        )\n",
    "        df[\"会社名\"] = [companyName for _ in range(df.shape[0])]\n",
    "        dfs.append(df)\n",
    "\n",
    "all_data = pd.concat(dfs)\n",
    "all_data.head()"
   ]
  },
  {
   "cell_type": "markdown",
   "id": "e8258102-83c1-416d-8f47-94dc02c8bd65",
   "metadata": {},
   "source": [
    "#### 取得したデータを確認してみる\n",
    "\n",
    "[EDINET タクソノミ の概要説明](https://www.fsa.go.jp/search/20221108/1b-1_GaiyoSetsumei.pdf)を見ながらデータのある項目を抽出してみます。"
   ]
  },
  {
   "cell_type": "code",
   "execution_count": 4,
   "id": "c1d8d22e-b2ff-44d3-9617-faaddc5e8f86",
   "metadata": {},
   "outputs": [
    {
     "name": "stdout",
     "output_type": "stream",
     "text": [
      "          会社名                                                  値\n",
      "462      商船三井  １．配当金支払額（決議）株式の種類配当金の総額（百万円）１株当たり配当額（円）基準日効力発生...\n",
      "463      商船三井  １．配当金支払額（決議）株式の種類配当金の総額（百万円）１株当たり配当額（円）基準日効力発生...\n",
      "431      日本郵船  配当金支払額（決議）株式の種類配当金の総額（百万円）配当の原資１株当たり配当額（円）基準日効...\n",
      "432      日本郵船  配当金支払額（決議）株式の種類配当金の総額（百万円）配当の原資１株当たり配当額（円）基準日効...\n",
      "334  玉井商船株式会社  前第３四半期連結累計期間（自　2022年４月１日　至　2022年12月31日）１．配当金支払...\n",
      "335  玉井商船株式会社  当第３四半期連結累計期間（自　2023年４月１日　至　2023年12月31日）１．配当金支払...\n",
      "380      川崎汽船  １．配当金支払額（決議）株式の種類配当金の総額（百万円）１株当たり配当額（円）基準日効力発生...\n",
      "382      川崎汽船  １．配当金支払額（決議）株式の種類配当金の総額（百万円）１株当たり配当額（円）基準日効力発生...\n",
      "385      飯野海運  １　配当金支払額（決議）株式の種類配当金の総額（百万円）１株当たり配当額（円）基準日効力発生...\n",
      "386      飯野海運  １　配当金支払額（決議）株式の種類配当金の総額（百万円）１株当たり配当額（円）基準日効力発生...\n"
     ]
    }
   ],
   "source": [
    "print(\n",
    "    all_data.query(f\"要素ID=='jpcrp_cor:NotesRegardingDividendTextBlock'\")[[\"会社名\", \"値\"]]\n",
    ")"
   ]
  },
  {
   "cell_type": "markdown",
   "id": "9e7d0322-c9de-414d-bf49-d6bf244683e3",
   "metadata": {},
   "source": [
    "#### グラフを作る\n",
    "１株当たり当期純利益又は当期純損失(いわゆるEPS)の変化を可視化して比較したいと思います。\n"
   ]
  },
  {
   "cell_type": "code",
   "execution_count": 5,
   "id": "a5a704bd-29ea-4020-be89-bfdde92691dc",
   "metadata": {},
   "outputs": [
    {
     "data": {
      "image/png": "[encoded data removed]",
      "text/plain": [
       "<Figure size 640x480 with 1 Axes>"
      ]
     },
     "metadata": {},
     "output_type": "display_data"
    },
    {
     "data": {
      "image/png": "[encoded data removed]",
      "text/plain": [
       "<Figure size 640x480 with 1 Axes>"
      ]
     },
     "metadata": {},
     "output_type": "display_data"
    }
   ],
   "source": [
    "import japanize_matplotlib\n",
    "import matplotlib.pyplot as plt\n",
    "import seaborn as sns\n",
    "\n",
    "\n",
    "def compare_company_IR(data, contextId, elementId, elementJpName):\n",
    "    plot_data = data.query(f\"要素ID=='{elementId}' and コンテキストID=='{contextId}'\").copy()\n",
    "    plot_data[elementJpName] = pd.to_numeric(plot_data[\"値\"])\n",
    "    sns.barplot(data=plot_data, x=\"会社名\", y=elementJpName)\n",
    "    plt.ylabel(elementJpName)\n",
    "    plt.show()\n",
    "\n",
    "\n",
    "compare_company_IR(\n",
    "    all_data,\n",
    "    \"CurrentQuarterDuration\",\n",
    "    \"jpcrp_cor:BasicEarningsLossPerShareSummaryOfBusinessResults\",\n",
    "    \"EPS\",\n",
    ")\n",
    "\n",
    "compare_company_IR(all_data, \"CurrentYTDDuration\", \"jppfs_cor:GrossProfit\", \"粗利益\")"
   ]
  },
  {
   "cell_type": "markdown",
   "id": "33515b7e",
   "metadata": {},
   "source": [
    "## XBRLファイルからデータを取得する\n",
    "\n",
    "`pip install edinet-xbrl`にてライブラリをインストールし使用します。\n",
    "参考文献：[EDINETのXBRL用のPythonライブラリを作った - Parser編](https://qiita.com/shoe116/items/dd362ad880f2b6baa96f)\n",
    "\n",
    "コンテキストIDを指定することで指定した時期のデータを取得できます。以下の`__NUM__`には0~9の値が入ります（[ドキュメント](https://disclosure2dl.edinet-fsa.go.jp/guide/static/submit/download/ESE140119.pdf)）。\n",
    "\n",
    "\n",
    "```\n",
    "Prior__NUM__YearDuration\n",
    "CurrentYearDuration\n",
    "Prior__NUM__YearInstant\n",
    "CurrentYearInstant\n",
    "CurrentQuarterDuration\n",
    "CurrentQuarterInstant\n",
    "Prior__NUM__QuarterDuration\n",
    "Prior__NUM__QuarterInstant\n",
    "CurrentYTDDuration\n",
    "Prior__NUM__YTDDuration\n",
    "InterimDuration\n",
    "InterimInstant\n",
    "Prior__NUM__InterimDuration\n",
    "Prior__NUM__InterimInstant\n",
    "```"
   ]
  },
  {
   "cell_type": "code",
   "execution_count": 6,
   "id": "0a0091fd",
   "metadata": {},
   "outputs": [
    {
     "name": "stdout",
     "output_type": "stream",
     "text": [
      "S100STH6のXBRLデータを取得中\n",
      "S100SS7PのXBRLデータを取得中\n",
      "S100STLSのXBRLデータを取得中\n",
      "S100SRTIのXBRLデータを取得中\n",
      "S100SP9OのXBRLデータを取得中\n"
     ]
    }
   ],
   "source": [
    "for docID in docID_dict.values():\n",
    "    save_csv(docID, type=1)"
   ]
  },
  {
   "cell_type": "code",
   "execution_count": 7,
   "id": "061e5490",
   "metadata": {},
   "outputs": [
    {
     "name": "stderr",
     "output_type": "stream",
     "text": [
      "c:\\Users\\nanja-win-ms\\miniconda3\\envs\\py39\\lib\\site-packages\\bs4\\builder\\__init__.py:545: XMLParsedAsHTMLWarning: It looks like you're parsing an XML document using an HTML parser. If this really is an HTML document (maybe it's XHTML?), you can ignore or filter this warning. If it's XML, you should know that using an XML parser will be more reliable. To parse this document as XML, make sure you have the lxml package installed, and pass the keyword argument `features=\"xml\"` into the BeautifulSoup constructor.\n",
      "  warnings.warn(\n"
     ]
    },
    {
     "data": {
      "text/plain": [
       "'2686701000000'"
      ]
     },
     "execution_count": 7,
     "metadata": {},
     "output_type": "execute_result"
    }
   ],
   "source": [
    "from edinet_xbrl.edinet_xbrl_parser import EdinetXbrlParser\n",
    "\n",
    "parser = EdinetXbrlParser()\n",
    "edinet_xbrl_object = parser.parse_file(\n",
    "    \"S100QZLI/XBRL/PublicDoc/jpcrp030000-asr-001_E04236-000_2023-03-31_01_2023-06-20.xbrl\"\n",
    ")\n",
    "\n",
    "key = \"jppfs_cor:Assets\"\n",
    "context_ref = \"Prior1YearInstant\"\n",
    "current_year_assets = edinet_xbrl_object.get_data_by_context_ref(\n",
    "    key, context_ref\n",
    ").get_value()\n",
    "current_year_assets"
   ]
  },
  {
   "cell_type": "markdown",
   "id": "463d5c92",
   "metadata": {},
   "source": [
    "## 配当の推移\n",
    "１株当たり配当額（`DividendPaidPerShareSummaryOfBusinessResults`）をプロットしてみます。"
   ]
  },
  {
   "cell_type": "code",
   "execution_count": 8,
   "id": "520e00db",
   "metadata": {},
   "outputs": [
    {
     "data": {
      "text/plain": [
       "<BarContainer object of 5 artists>"
      ]
     },
     "execution_count": 8,
     "metadata": {},
     "output_type": "execute_result"
    },
    {
     "data": {
      "image/png": "[encoded data removed]",
      "text/plain": [
       "<Figure size 640x480 with 1 Axes>"
      ]
     },
     "metadata": {},
     "output_type": "display_data"
    }
   ],
   "source": [
    "key = \"jpcrp_cor:DividendPaidPerShareSummaryOfBusinessResults\"\n",
    "edinet_xbrl_object = parser.parse_file(\n",
    "    r\"S100QZLI\\XBRL\\PublicDoc\\jpcrp030000-asr-001_E04236-000_2023-03-31_01_2023-06-20.xbrl\"\n",
    ")\n",
    "interimDividendPaidPerShares = []\n",
    "context_refs = [\n",
    "    \"Prior4YearDuration_NonConsolidatedMember\",\n",
    "    \"Prior3YearDuration_NonConsolidatedMember\",\n",
    "    \"Prior2YearDuration_NonConsolidatedMember\",\n",
    "    \"Prior1YearDuration_NonConsolidatedMember\",\n",
    "    \"CurrentYearDuration_NonConsolidatedMember\",\n",
    "]\n",
    "\n",
    "for context_ref in context_refs:\n",
    "    current_year_assets = edinet_xbrl_object.get_data_by_context_ref(\n",
    "        key, context_ref\n",
    "    ).get_value()\n",
    "    interimDividendPaidPerShares.append(pd.to_numeric(current_year_assets))\n",
    "\n",
    "\n",
    "plt.bar(\n",
    "    [i for i in range(len(interimDividendPaidPerShares))], interimDividendPaidPerShares\n",
    ")"
   ]
  }
 ],
 "metadata": {
  "kernelspec": {
   "display_name": "Python 3 (ipykernel)",
   "language": "python",
   "name": "python3"
  },
  "language_info": {
   "codemirror_mode": {
    "name": "ipython",
    "version": 3
   },
   "file_extension": ".py",
   "mimetype": "text/x-python",
   "name": "python",
   "nbconvert_exporter": "python",
   "pygments_lexer": "ipython3",
   "version": "3.9.18"
  }
 },
 "nbformat": 4,
 "nbformat_minor": 5
}
