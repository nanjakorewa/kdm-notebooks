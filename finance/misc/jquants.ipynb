{
 "cells": [
  {
   "cell_type": "markdown",
   "id": "028dbf68",
   "metadata": {},
   "source": [
    "## J-Quants APIを使ってみる\n",
    "- [J-Quants](https://jpx-jquants.com/dashboard/menu/?lang=ja)\n",
    "- [jquants-api-client](https://github.com/J-Quants/jquants-api-client-python)\n",
    "- [API仕様書](https://jpx.gitbook.io/j-quants-ja/api-reference)"
   ]
  },
  {
   "cell_type": "code",
   "execution_count": 1,
   "id": "e7017c7a-9227-40bb-9fb4-8f7dceca5af1",
   "metadata": {},
   "outputs": [
    {
     "name": "stdout",
     "output_type": "stream",
     "text": [
      "           Date   Code    Open    High     Low   Close UpperLimit LowerLimit  \\\n",
      "0    2022-07-25  13010  3615.0  3660.0  3615.0  3630.0          0          0   \n",
      "0    2022-07-26  13010  3615.0  3640.0  3610.0  3635.0          0          0   \n",
      "1    2022-07-25  13050  2026.5  2037.0  2022.0  2023.0          0          0   \n",
      "1    2022-07-26  13050  2026.0  2029.5  2022.0  2023.5          0          0   \n",
      "2    2022-07-25  13060  2002.5  2015.0  2000.0  2001.0          0          0   \n",
      "...         ...    ...     ...     ...     ...     ...        ...        ...   \n",
      "4191 2022-07-26  99950   403.0   404.0   402.0   404.0          0          0   \n",
      "4192 2022-07-25  99960  1274.0  1274.0  1263.0  1267.0          0          0   \n",
      "4192 2022-07-26  99960  1254.0  1266.0  1254.0  1255.0          0          0   \n",
      "4193 2022-07-25  99970   829.0   831.0   816.0   826.0          0          0   \n",
      "4193 2022-07-26  99970   826.0   827.0   816.0   825.0          0          0   \n",
      "\n",
      "        Volume  TurnoverValue  AdjustmentFactor  AdjustmentOpen  \\\n",
      "0       8100.0   2.942050e+07               1.0          3615.0   \n",
      "0       8500.0   3.083550e+07               1.0          3615.0   \n",
      "1      54410.0   1.103787e+08               1.0          2026.5   \n",
      "1      22950.0   4.646586e+07               1.0          2026.0   \n",
      "2     943830.0   1.891360e+09               1.0          2002.5   \n",
      "...        ...            ...               ...             ...   \n",
      "4191   13000.0   5.240900e+06               1.0           403.0   \n",
      "4192    1500.0   1.902700e+06               1.0          1274.0   \n",
      "4192    4000.0   5.021300e+06               1.0          1254.0   \n",
      "4193  151200.0   1.245601e+08               1.0           829.0   \n",
      "4193  133600.0   1.099946e+08               1.0           826.0   \n",
      "\n",
      "      AdjustmentHigh  AdjustmentLow  AdjustmentClose  AdjustmentVolume  \n",
      "0             3660.0         3615.0           3630.0            8100.0  \n",
      "0             3640.0         3610.0           3635.0            8500.0  \n",
      "1             2037.0         2022.0           2023.0           54410.0  \n",
      "1             2029.5         2022.0           2023.5           22950.0  \n",
      "2             2015.0         2000.0           2001.0          943830.0  \n",
      "...              ...            ...              ...               ...  \n",
      "4191           404.0          402.0            404.0           13000.0  \n",
      "4192          1274.0         1263.0           1267.0            1500.0  \n",
      "4192          1266.0         1254.0           1255.0            4000.0  \n",
      "4193           831.0          816.0            826.0          151200.0  \n",
      "4193           827.0          816.0            825.0          133600.0  \n",
      "\n",
      "[8388 rows x 16 columns]\n"
     ]
    }
   ],
   "source": [
    "import os\n",
    "import time\n",
    "from datetime import datetime\n",
    "\n",
    "import jquantsapi\n",
    "import pandas as pd\n",
    "import requests\n",
    "from dateutil import tz\n",
    "\n",
    "REFRESH_TOKEN: str = os.environ.get(\"JQ_REFRESH_TOKEN\")\n",
    "my_mail_address: str = os.environ.get(\"JQ_MAIL_ADDRESS\")\n",
    "my_password: str = os.environ.get(\"JQ_PASSWORD\")\n",
    "cli = jquantsapi.Client(mail_address=my_mail_address, password=my_password)\n",
    "df = cli.get_price_range(\n",
    "    start_dt=datetime(2022, 7, 25, tzinfo=tz.gettz(\"Asia/Tokyo\")),\n",
    "    end_dt=datetime(2022, 7, 26, tzinfo=tz.gettz(\"Asia/Tokyo\")),\n",
    ")\n",
    "print(df)"
   ]
  },
  {
   "cell_type": "markdown",
   "id": "b30491fb",
   "metadata": {},
   "source": [
    "## 上場銘柄一覧(/listed/info)\n",
    "- [J-Quants API - listed info](https://jpx.gitbook.io/j-quants-ja/api-reference/listed_info)"
   ]
  },
  {
   "cell_type": "code",
   "execution_count": 2,
   "id": "fa988590",
   "metadata": {},
   "outputs": [],
   "source": [
    "def get_listed_companies(idToken: str):\n",
    "    \"\"\"上場銘柄一覧を習得する\n",
    "\n",
    "    Args:\n",
    "        idToken (str): idToken\n",
    "\n",
    "    Returns:\n",
    "        listed_companies (pd.DataFrame): 上場銘柄が記録されたデータフレーム\n",
    "    \"\"\"\n",
    "    r = requests.get(\n",
    "        \"https://api.jquants.com/v1/listed/info\",\n",
    "        headers={\"Authorization\": \"Bearer {}\".format(idToken)},\n",
    "    )\n",
    "    if r.status_code == requests.codes.ok:\n",
    "        listed_companies = pd.DataFrame(r.json()[\"info\"]).set_index(\"Code\")\n",
    "        return listed_companies\n",
    "    else:\n",
    "        return None"
   ]
  },
  {
   "cell_type": "code",
   "execution_count": 3,
   "id": "5796272d",
   "metadata": {},
   "outputs": [
    {
     "data": {
      "text/html": [
       "<div>\n",
       "<style scoped>\n",
       "    .dataframe tbody tr th:only-of-type {\n",
       "        vertical-align: middle;\n",
       "    }\n",
       "\n",
       "    .dataframe tbody tr th {\n",
       "        vertical-align: top;\n",
       "    }\n",
       "\n",
       "    .dataframe thead th {\n",
       "        text-align: right;\n",
       "    }\n",
       "</style>\n",
       "<table border=\"1\" class=\"dataframe\">\n",
       "  <thead>\n",
       "    <tr style=\"text-align: right;\">\n",
       "      <th></th>\n",
       "      <th>Date</th>\n",
       "      <th>CompanyName</th>\n",
       "      <th>CompanyNameEnglish</th>\n",
       "      <th>Sector17Code</th>\n",
       "      <th>Sector17CodeName</th>\n",
       "      <th>Sector33Code</th>\n",
       "      <th>Sector33CodeName</th>\n",
       "      <th>ScaleCategory</th>\n",
       "      <th>MarketCode</th>\n",
       "      <th>MarketCodeName</th>\n",
       "    </tr>\n",
       "    <tr>\n",
       "      <th>Code</th>\n",
       "      <th></th>\n",
       "      <th></th>\n",
       "      <th></th>\n",
       "      <th></th>\n",
       "      <th></th>\n",
       "      <th></th>\n",
       "      <th></th>\n",
       "      <th></th>\n",
       "      <th></th>\n",
       "      <th></th>\n",
       "    </tr>\n",
       "  </thead>\n",
       "  <tbody>\n",
       "    <tr>\n",
       "      <th>13010</th>\n",
       "      <td>2023-12-06</td>\n",
       "      <td>極洋</td>\n",
       "      <td>KYOKUYO CO.,LTD.</td>\n",
       "      <td>1</td>\n",
       "      <td>食品</td>\n",
       "      <td>0050</td>\n",
       "      <td>水産・農林業</td>\n",
       "      <td>TOPIX Small 2</td>\n",
       "      <td>0111</td>\n",
       "      <td>プライム</td>\n",
       "    </tr>\n",
       "    <tr>\n",
       "      <th>13050</th>\n",
       "      <td>2023-12-06</td>\n",
       "      <td>大和アセットマネジメント株式会社　ｉＦｒｅｅＥＴＦ　ＴＯＰＩＸ（年１回決算型）</td>\n",
       "      <td>iFreeETF TOPIX (Yearly Dividend Type)</td>\n",
       "      <td>99</td>\n",
       "      <td>その他</td>\n",
       "      <td>9999</td>\n",
       "      <td>その他</td>\n",
       "      <td>-</td>\n",
       "      <td>0109</td>\n",
       "      <td>その他</td>\n",
       "    </tr>\n",
       "    <tr>\n",
       "      <th>13060</th>\n",
       "      <td>2023-12-06</td>\n",
       "      <td>野村アセットマネジメント株式会社　ＮＥＸＴ　ＦＵＮＤＳ　ＴＯＰＩＸ連動型上場投信</td>\n",
       "      <td>NEXT FUNDS TOPIX Exchange Traded Fund</td>\n",
       "      <td>99</td>\n",
       "      <td>その他</td>\n",
       "      <td>9999</td>\n",
       "      <td>その他</td>\n",
       "      <td>-</td>\n",
       "      <td>0109</td>\n",
       "      <td>その他</td>\n",
       "    </tr>\n",
       "    <tr>\n",
       "      <th>13080</th>\n",
       "      <td>2023-12-06</td>\n",
       "      <td>日興アセットマネジメント株式会社　　上場インデックスファンドＴＯＰＩＸ</td>\n",
       "      <td>Nikko Exchange Traded Index Fund TOPIX</td>\n",
       "      <td>99</td>\n",
       "      <td>その他</td>\n",
       "      <td>9999</td>\n",
       "      <td>その他</td>\n",
       "      <td>-</td>\n",
       "      <td>0109</td>\n",
       "      <td>その他</td>\n",
       "    </tr>\n",
       "    <tr>\n",
       "      <th>13090</th>\n",
       "      <td>2023-12-06</td>\n",
       "      <td>野村アセットマネジメント株式会社　ＮＥＸＴ　ＦＵＮＤＳ　ＣｈｉｎａＡＭＣ・中国株式・上証５０...</td>\n",
       "      <td>NEXT FUNDS ChinaAMC SSE50 Index Exchange Trade...</td>\n",
       "      <td>99</td>\n",
       "      <td>その他</td>\n",
       "      <td>9999</td>\n",
       "      <td>その他</td>\n",
       "      <td>-</td>\n",
       "      <td>0109</td>\n",
       "      <td>その他</td>\n",
       "    </tr>\n",
       "  </tbody>\n",
       "</table>\n",
       "</div>"
      ],
      "text/plain": [
       "             Date                                        CompanyName  \\\n",
       "Code                                                                   \n",
       "13010  2023-12-06                                                 極洋   \n",
       "13050  2023-12-06            大和アセットマネジメント株式会社　ｉＦｒｅｅＥＴＦ　ＴＯＰＩＸ（年１回決算型）   \n",
       "13060  2023-12-06           野村アセットマネジメント株式会社　ＮＥＸＴ　ＦＵＮＤＳ　ＴＯＰＩＸ連動型上場投信   \n",
       "13080  2023-12-06                日興アセットマネジメント株式会社　　上場インデックスファンドＴＯＰＩＸ   \n",
       "13090  2023-12-06  野村アセットマネジメント株式会社　ＮＥＸＴ　ＦＵＮＤＳ　ＣｈｉｎａＡＭＣ・中国株式・上証５０...   \n",
       "\n",
       "                                      CompanyNameEnglish Sector17Code  \\\n",
       "Code                                                                    \n",
       "13010                                   KYOKUYO CO.,LTD.            1   \n",
       "13050              iFreeETF TOPIX (Yearly Dividend Type)           99   \n",
       "13060              NEXT FUNDS TOPIX Exchange Traded Fund           99   \n",
       "13080             Nikko Exchange Traded Index Fund TOPIX           99   \n",
       "13090  NEXT FUNDS ChinaAMC SSE50 Index Exchange Trade...           99   \n",
       "\n",
       "      Sector17CodeName Sector33Code Sector33CodeName  ScaleCategory  \\\n",
       "Code                                                                  \n",
       "13010               食品         0050           水産・農林業  TOPIX Small 2   \n",
       "13050              その他         9999              その他              -   \n",
       "13060              その他         9999              その他              -   \n",
       "13080              その他         9999              その他              -   \n",
       "13090              その他         9999              その他              -   \n",
       "\n",
       "      MarketCode MarketCodeName  \n",
       "Code                             \n",
       "13010       0111           プライム  \n",
       "13050       0109            その他  \n",
       "13060       0109            その他  \n",
       "13080       0109            その他  \n",
       "13090       0109            その他  "
      ]
     },
     "execution_count": 3,
     "metadata": {},
     "output_type": "execute_result"
    }
   ],
   "source": [
    "r_post = requests.post(\n",
    "    f\"https://api.jquants.com/v1/token/auth_refresh?refreshtoken={REFRESH_TOKEN}\"\n",
    ")\n",
    "idToken = r_post.json()[\"idToken\"]\n",
    "\n",
    "listed_companies = get_listed_companies(idToken)\n",
    "listed_companies.head()"
   ]
  },
  {
   "cell_type": "code",
   "execution_count": 4,
   "id": "68fc1df2",
   "metadata": {},
   "outputs": [
    {
     "data": {
      "text/html": [
       "<div>\n",
       "<style scoped>\n",
       "    .dataframe tbody tr th:only-of-type {\n",
       "        vertical-align: middle;\n",
       "    }\n",
       "\n",
       "    .dataframe tbody tr th {\n",
       "        vertical-align: top;\n",
       "    }\n",
       "\n",
       "    .dataframe thead th {\n",
       "        text-align: right;\n",
       "    }\n",
       "</style>\n",
       "<table border=\"1\" class=\"dataframe\">\n",
       "  <thead>\n",
       "    <tr style=\"text-align: right;\">\n",
       "      <th></th>\n",
       "      <th>Date</th>\n",
       "      <th>CompanyName</th>\n",
       "      <th>CompanyNameEnglish</th>\n",
       "      <th>Sector17Code</th>\n",
       "      <th>Sector17CodeName</th>\n",
       "      <th>Sector33Code</th>\n",
       "      <th>Sector33CodeName</th>\n",
       "      <th>ScaleCategory</th>\n",
       "      <th>MarketCode</th>\n",
       "      <th>MarketCodeName</th>\n",
       "    </tr>\n",
       "    <tr>\n",
       "      <th>Code</th>\n",
       "      <th></th>\n",
       "      <th></th>\n",
       "      <th></th>\n",
       "      <th></th>\n",
       "      <th></th>\n",
       "      <th></th>\n",
       "      <th></th>\n",
       "      <th></th>\n",
       "      <th></th>\n",
       "      <th></th>\n",
       "    </tr>\n",
       "  </thead>\n",
       "  <tbody>\n",
       "    <tr>\n",
       "      <th>46110</th>\n",
       "      <td>2023-12-06</td>\n",
       "      <td>大日本塗料</td>\n",
       "      <td>Dai Nippon Toryo Company,Limited</td>\n",
       "      <td>4</td>\n",
       "      <td>素材・化学</td>\n",
       "      <td>3200</td>\n",
       "      <td>化学</td>\n",
       "      <td>TOPIX Small 2</td>\n",
       "      <td>0111</td>\n",
       "      <td>プライム</td>\n",
       "    </tr>\n",
       "    <tr>\n",
       "      <th>46120</th>\n",
       "      <td>2023-12-06</td>\n",
       "      <td>日本ペイントホールディングス</td>\n",
       "      <td>NIPPON PAINT HOLDINGS CO.,LTD.</td>\n",
       "      <td>4</td>\n",
       "      <td>素材・化学</td>\n",
       "      <td>3200</td>\n",
       "      <td>化学</td>\n",
       "      <td>TOPIX Mid400</td>\n",
       "      <td>0111</td>\n",
       "      <td>プライム</td>\n",
       "    </tr>\n",
       "    <tr>\n",
       "      <th>46130</th>\n",
       "      <td>2023-12-06</td>\n",
       "      <td>関西ペイント</td>\n",
       "      <td>KANSAI PAINT CO.,LTD.</td>\n",
       "      <td>4</td>\n",
       "      <td>素材・化学</td>\n",
       "      <td>3200</td>\n",
       "      <td>化学</td>\n",
       "      <td>TOPIX Mid400</td>\n",
       "      <td>0111</td>\n",
       "      <td>プライム</td>\n",
       "    </tr>\n",
       "    <tr>\n",
       "      <th>46150</th>\n",
       "      <td>2023-12-06</td>\n",
       "      <td>神東塗料</td>\n",
       "      <td>SHINTO PAINT COMPANY,LIMITED</td>\n",
       "      <td>4</td>\n",
       "      <td>素材・化学</td>\n",
       "      <td>3200</td>\n",
       "      <td>化学</td>\n",
       "      <td>TOPIX Small 2</td>\n",
       "      <td>0112</td>\n",
       "      <td>スタンダード</td>\n",
       "    </tr>\n",
       "    <tr>\n",
       "      <th>46160</th>\n",
       "      <td>2023-12-06</td>\n",
       "      <td>川上塗料</td>\n",
       "      <td>KAWAKAMI PAINT MANUFACTURING CO.,LTD.</td>\n",
       "      <td>4</td>\n",
       "      <td>素材・化学</td>\n",
       "      <td>3200</td>\n",
       "      <td>化学</td>\n",
       "      <td>-</td>\n",
       "      <td>0112</td>\n",
       "      <td>スタンダード</td>\n",
       "    </tr>\n",
       "    <tr>\n",
       "      <th>46170</th>\n",
       "      <td>2023-12-06</td>\n",
       "      <td>中国塗料</td>\n",
       "      <td>Chugoku Marine Paints,Ltd.</td>\n",
       "      <td>4</td>\n",
       "      <td>素材・化学</td>\n",
       "      <td>3200</td>\n",
       "      <td>化学</td>\n",
       "      <td>TOPIX Small 1</td>\n",
       "      <td>0111</td>\n",
       "      <td>プライム</td>\n",
       "    </tr>\n",
       "    <tr>\n",
       "      <th>46190</th>\n",
       "      <td>2023-12-06</td>\n",
       "      <td>日本特殊塗料</td>\n",
       "      <td>Nihon Tokushu Toryo Co.,Ltd.</td>\n",
       "      <td>4</td>\n",
       "      <td>素材・化学</td>\n",
       "      <td>3200</td>\n",
       "      <td>化学</td>\n",
       "      <td>TOPIX Small 2</td>\n",
       "      <td>0112</td>\n",
       "      <td>スタンダード</td>\n",
       "    </tr>\n",
       "    <tr>\n",
       "      <th>46210</th>\n",
       "      <td>2023-12-06</td>\n",
       "      <td>ロックペイント</td>\n",
       "      <td>ROCK PAINT CO.,LTD.</td>\n",
       "      <td>4</td>\n",
       "      <td>素材・化学</td>\n",
       "      <td>3200</td>\n",
       "      <td>化学</td>\n",
       "      <td>-</td>\n",
       "      <td>0112</td>\n",
       "      <td>スタンダード</td>\n",
       "    </tr>\n",
       "    <tr>\n",
       "      <th>46240</th>\n",
       "      <td>2023-12-06</td>\n",
       "      <td>イサム塗料</td>\n",
       "      <td>Isamu Paint Co.,Ltd.</td>\n",
       "      <td>4</td>\n",
       "      <td>素材・化学</td>\n",
       "      <td>3200</td>\n",
       "      <td>化学</td>\n",
       "      <td>-</td>\n",
       "      <td>0112</td>\n",
       "      <td>スタンダード</td>\n",
       "    </tr>\n",
       "  </tbody>\n",
       "</table>\n",
       "</div>"
      ],
      "text/plain": [
       "             Date     CompanyName                     CompanyNameEnglish  \\\n",
       "Code                                                                       \n",
       "46110  2023-12-06           大日本塗料       Dai Nippon Toryo Company,Limited   \n",
       "46120  2023-12-06  日本ペイントホールディングス         NIPPON PAINT HOLDINGS CO.,LTD.   \n",
       "46130  2023-12-06          関西ペイント                  KANSAI PAINT CO.,LTD.   \n",
       "46150  2023-12-06            神東塗料           SHINTO PAINT COMPANY,LIMITED   \n",
       "46160  2023-12-06            川上塗料  KAWAKAMI PAINT MANUFACTURING CO.,LTD.   \n",
       "46170  2023-12-06            中国塗料             Chugoku Marine Paints,Ltd.   \n",
       "46190  2023-12-06          日本特殊塗料           Nihon Tokushu Toryo Co.,Ltd.   \n",
       "46210  2023-12-06         ロックペイント                    ROCK PAINT CO.,LTD.   \n",
       "46240  2023-12-06           イサム塗料                   Isamu Paint Co.,Ltd.   \n",
       "\n",
       "      Sector17Code Sector17CodeName Sector33Code Sector33CodeName  \\\n",
       "Code                                                                \n",
       "46110            4            素材・化学         3200               化学   \n",
       "46120            4            素材・化学         3200               化学   \n",
       "46130            4            素材・化学         3200               化学   \n",
       "46150            4            素材・化学         3200               化学   \n",
       "46160            4            素材・化学         3200               化学   \n",
       "46170            4            素材・化学         3200               化学   \n",
       "46190            4            素材・化学         3200               化学   \n",
       "46210            4            素材・化学         3200               化学   \n",
       "46240            4            素材・化学         3200               化学   \n",
       "\n",
       "       ScaleCategory MarketCode MarketCodeName  \n",
       "Code                                            \n",
       "46110  TOPIX Small 2       0111           プライム  \n",
       "46120   TOPIX Mid400       0111           プライム  \n",
       "46130   TOPIX Mid400       0111           プライム  \n",
       "46150  TOPIX Small 2       0112         スタンダード  \n",
       "46160              -       0112         スタンダード  \n",
       "46170  TOPIX Small 1       0111           プライム  \n",
       "46190  TOPIX Small 2       0112         スタンダード  \n",
       "46210              -       0112         スタンダード  \n",
       "46240              -       0112         スタンダード  "
      ]
     },
     "execution_count": 4,
     "metadata": {},
     "output_type": "execute_result"
    }
   ],
   "source": [
    "paint_companies = listed_companies[\n",
    "    listed_companies[\"CompanyName\"].str.contains(\"塗料|ペイント\")\n",
    "]\n",
    "paint_companies"
   ]
  },
  {
   "cell_type": "markdown",
   "id": "2b06bcb5",
   "metadata": {},
   "source": [
    "## セクターの分布\n",
    "- [東証業種別株価指数・TOPIX-17シリーズ](https://www.jpx.co.jp/markets/indices/line-up/files/fac_13_sector.pdf)\n",
    "- [matplotlib.pyplot.pie — Matplotlib 3.8.3 documentation](https://matplotlib.org/stable/api/_as_gen/matplotlib.pyplot.pie.html)"
   ]
  },
  {
   "cell_type": "code",
   "execution_count": 5,
   "id": "f6cac66a",
   "metadata": {},
   "outputs": [
    {
     "data": {
      "image/png": "[encoded data removed]",
      "text/plain": [
       "<Figure size 1000x1000 with 1 Axes>"
      ]
     },
     "metadata": {},
     "output_type": "display_data"
    }
   ],
   "source": [
    "import japanize_matplotlib\n",
    "import matplotlib.pyplot as plt\n",
    "import seaborn as sns\n",
    "\n",
    "sector17_distribution = listed_companies[\"Sector17CodeName\"].value_counts()\n",
    "colors = sns.color_palette(\"Set2\")\n",
    "\n",
    "plt.figure(figsize=(10, 10))\n",
    "plt.pie(\n",
    "    sector17_distribution,\n",
    "    labels=sector17_distribution.index,\n",
    "    colors=colors,\n",
    "    autopct=\"%.0f%%\",\n",
    ")\n",
    "plt.show()"
   ]
  },
  {
   "cell_type": "markdown",
   "id": "c51a6694",
   "metadata": {},
   "source": [
    "## 規模コード\n",
    "- [東証規模別株価指数](https://www.jpx.co.jp/markets/indices/line-up/files/fac_12_size.pdf)\n",
    "- [上場銘柄一覧(/listed/info)](https://jpx.gitbook.io/j-quants-ja/api-reference/listed_info)"
   ]
  },
  {
   "cell_type": "code",
   "execution_count": 6,
   "id": "3c1c8ad1",
   "metadata": {},
   "outputs": [
    {
     "data": {
      "application/vnd.plotly.v1+json": {
       "config": {
        "plotlyServerURL": "https://plot.ly"
       },
       "data": [
        {
         "branchvalues": "total",
         "domain": {
          "x": [
           0,
           1
          ],
          "y": [
           0,
           1
          ]
         },
         "hovertemplate": "labels=%{label}<br>count=%{value}<br>parent=%{parent}<br>id=%{id}<extra></extra>",
         "ids": [
          "情報通信・サービスその他/その他製品",
          "金融（除く銀行）/その他金融業",
          "建設・資材/ガラス･土石製品",
          "自動車・輸送機/ゴム製品",
          "情報通信・サービスその他/サービス業",
          "素材・化学/パルプ・紙",
          "不動産/不動産業",
          "金融（除く銀行）/保険業",
          "運輸・物流/倉庫･運輸関連業",
          "素材・化学/化学",
          "医薬品/医薬品",
          "商社・卸売/卸売業",
          "小売/小売業",
          "建設・資材/建設業",
          "情報通信・サービスその他/情報･通信業",
          "機械/機械",
          "食品/水産・農林業",
          "運輸・物流/海運業",
          "エネルギー資源/石油･石炭製品",
          "運輸・物流/空運業",
          "電機・精密/精密機器",
          "素材・化学/繊維製品",
          "金融（除く銀行）/証券･商品先物取引業",
          "自動車・輸送機/輸送用機器",
          "建設・資材/金属製品",
          "鉄鋼・非鉄/鉄鋼",
          "エネルギー資源/鉱業",
          "銀行/銀行業",
          "運輸・物流/陸運業",
          "電機・精密/電気機器",
          "電気・ガス/電気･ガス業",
          "鉄鋼・非鉄/非鉄金属",
          "食品/食料品",
          "エネルギー資源",
          "不動産",
          "医薬品",
          "商社・卸売",
          "小売",
          "建設・資材",
          "情報通信・サービスその他",
          "機械",
          "素材・化学",
          "自動車・輸送機",
          "運輸・物流",
          "金融（除く銀行）",
          "鉄鋼・非鉄",
          "銀行",
          "電機・精密",
          "電気・ガス",
          "食品"
         ],
         "labels": [
          "その他製品",
          "その他金融業",
          "ガラス･土石製品",
          "ゴム製品",
          "サービス業",
          "パルプ・紙",
          "不動産業",
          "保険業",
          "倉庫･運輸関連業",
          "化学",
          "医薬品",
          "卸売業",
          "小売業",
          "建設業",
          "情報･通信業",
          "機械",
          "水産・農林業",
          "海運業",
          "石油･石炭製品",
          "空運業",
          "精密機器",
          "繊維製品",
          "証券･商品先物取引業",
          "輸送用機器",
          "金属製品",
          "鉄鋼",
          "鉱業",
          "銀行業",
          "陸運業",
          "電気機器",
          "電気･ガス業",
          "非鉄金属",
          "食料品",
          "エネルギー資源",
          "不動産",
          "医薬品",
          "商社・卸売",
          "小売",
          "建設・資材",
          "情報通信・サービスその他",
          "機械",
          "素材・化学",
          "自動車・輸送機",
          "運輸・物流",
          "金融（除く銀行）",
          "鉄鋼・非鉄",
          "銀行",
          "電機・精密",
          "電気・ガス",
          "食品"
         ],
         "name": "",
         "parents": [
          "情報通信・サービスその他",
          "金融（除く銀行）",
          "建設・資材",
          "自動車・輸送機",
          "情報通信・サービスその他",
          "素材・化学",
          "不動産",
          "金融（除く銀行）",
          "運輸・物流",
          "素材・化学",
          "医薬品",
          "商社・卸売",
          "小売",
          "建設・資材",
          "情報通信・サービスその他",
          "機械",
          "食品",
          "運輸・物流",
          "エネルギー資源",
          "運輸・物流",
          "電機・精密",
          "素材・化学",
          "金融（除く銀行）",
          "自動車・輸送機",
          "建設・資材",
          "鉄鋼・非鉄",
          "エネルギー資源",
          "銀行",
          "運輸・物流",
          "電機・精密",
          "電気・ガス",
          "鉄鋼・非鉄",
          "食品",
          "",
          "",
          "",
          "",
          "",
          "",
          "",
          "",
          "",
          "",
          "",
          "",
          "",
          "",
          "",
          "",
          ""
         ],
         "type": "treemap",
         "values": [
          10,
          9,
          8,
          4,
          27,
          3,
          13,
          6,
          2,
          45,
          18,
          24,
          34,
          19,
          37,
          32,
          2,
          3,
          3,
          2,
          11,
          4,
          4,
          19,
          6,
          6,
          1,
          22,
          24,
          53,
          13,
          7,
          27,
          4,
          13,
          18,
          24,
          34,
          33,
          74,
          32,
          52,
          23,
          31,
          19,
          13,
          22,
          64,
          13,
          29
         ]
        }
       ],
       "layout": {
        "legend": {
         "tracegroupgap": 0
        },
        "margin": {
         "t": 60
        },
        "template": {
         "data": {
          "bar": [
           {
            "error_x": {
             "color": "#2a3f5f"
            },
            "error_y": {
             "color": "#2a3f5f"
            },
            "marker": {
             "line": {
              "color": "#E5ECF6",
              "width": 0.5
             },
             "pattern": {
              "fillmode": "overlay",
              "size": 10,
              "solidity": 0.2
             }
            },
            "type": "bar"
           }
          ],
          "barpolar": [
           {
            "marker": {
             "line": {
              "color": "#E5ECF6",
              "width": 0.5
             },
             "pattern": {
              "fillmode": "overlay",
              "size": 10,
              "solidity": 0.2
             }
            },
            "type": "barpolar"
           }
          ],
          "carpet": [
           {
            "aaxis": {
             "endlinecolor": "#2a3f5f",
             "gridcolor": "white",
             "linecolor": "white",
             "minorgridcolor": "white",
             "startlinecolor": "#2a3f5f"
            },
            "baxis": {
             "endlinecolor": "#2a3f5f",
             "gridcolor": "white",
             "linecolor": "white",
             "minorgridcolor": "white",
             "startlinecolor": "#2a3f5f"
            },
            "type": "carpet"
           }
          ],
          "choropleth": [
           {
            "colorbar": {
             "outlinewidth": 0,
             "ticks": ""
            },
            "type": "choropleth"
           }
          ],
          "contour": [
           {
            "colorbar": {
             "outlinewidth": 0,
             "ticks": ""
            },
            "colorscale": [
             [
              0,
              "#0d0887"
             ],
             [
              0.1111111111111111,
              "#46039f"
             ],
             [
              0.2222222222222222,
              "#7201a8"
             ],
             [
              0.3333333333333333,
              "#9c179e"
             ],
             [
              0.4444444444444444,
              "#bd3786"
             ],
             [
              0.5555555555555556,
              "#d8576b"
             ],
             [
              0.6666666666666666,
              "#ed7953"
             ],
             [
              0.7777777777777778,
              "#fb9f3a"
             ],
             [
              0.8888888888888888,
              "#fdca26"
             ],
             [
              1,
              "#f0f921"
             ]
            ],
            "type": "contour"
           }
          ],
          "contourcarpet": [
           {
            "colorbar": {
             "outlinewidth": 0,
             "ticks": ""
            },
            "type": "contourcarpet"
           }
          ],
          "heatmap": [
           {
            "colorbar": {
             "outlinewidth": 0,
             "ticks": ""
            },
            "colorscale": [
             [
              0,
              "#0d0887"
             ],
             [
              0.1111111111111111,
              "#46039f"
             ],
             [
              0.2222222222222222,
              "#7201a8"
             ],
             [
              0.3333333333333333,
              "#9c179e"
             ],
             [
              0.4444444444444444,
              "#bd3786"
             ],
             [
              0.5555555555555556,
              "#d8576b"
             ],
             [
              0.6666666666666666,
              "#ed7953"
             ],
             [
              0.7777777777777778,
              "#fb9f3a"
             ],
             [
              0.8888888888888888,
              "#fdca26"
             ],
             [
              1,
              "#f0f921"
             ]
            ],
            "type": "heatmap"
           }
          ],
          "heatmapgl": [
           {
            "colorbar": {
             "outlinewidth": 0,
             "ticks": ""
            },
            "colorscale": [
             [
              0,
              "#0d0887"
             ],
             [
              0.1111111111111111,
              "#46039f"
             ],
             [
              0.2222222222222222,
              "#7201a8"
             ],
             [
              0.3333333333333333,
              "#9c179e"
             ],
             [
              0.4444444444444444,
              "#bd3786"
             ],
             [
              0.5555555555555556,
              "#d8576b"
             ],
             [
              0.6666666666666666,
              "#ed7953"
             ],
             [
              0.7777777777777778,
              "#fb9f3a"
             ],
             [
              0.8888888888888888,
              "#fdca26"
             ],
             [
              1,
              "#f0f921"
             ]
            ],
            "type": "heatmapgl"
           }
          ],
          "histogram": [
           {
            "marker": {
             "pattern": {
              "fillmode": "overlay",
              "size": 10,
              "solidity": 0.2
             }
            },
            "type": "histogram"
           }
          ],
          "histogram2d": [
           {
            "colorbar": {
             "outlinewidth": 0,
             "ticks": ""
            },
            "colorscale": [
             [
              0,
              "#0d0887"
             ],
             [
              0.1111111111111111,
              "#46039f"
             ],
             [
              0.2222222222222222,
              "#7201a8"
             ],
             [
              0.3333333333333333,
              "#9c179e"
             ],
             [
              0.4444444444444444,
              "#bd3786"
             ],
             [
              0.5555555555555556,
              "#d8576b"
             ],
             [
              0.6666666666666666,
              "#ed7953"
             ],
             [
              0.7777777777777778,
              "#fb9f3a"
             ],
             [
              0.8888888888888888,
              "#fdca26"
             ],
             [
              1,
              "#f0f921"
             ]
            ],
            "type": "histogram2d"
           }
          ],
          "histogram2dcontour": [
           {
            "colorbar": {
             "outlinewidth": 0,
             "ticks": ""
            },
            "colorscale": [
             [
              0,
              "#0d0887"
             ],
             [
              0.1111111111111111,
              "#46039f"
             ],
             [
              0.2222222222222222,
              "#7201a8"
             ],
             [
              0.3333333333333333,
              "#9c179e"
             ],
             [
              0.4444444444444444,
              "#bd3786"
             ],
             [
              0.5555555555555556,
              "#d8576b"
             ],
             [
              0.6666666666666666,
              "#ed7953"
             ],
             [
              0.7777777777777778,
              "#fb9f3a"
             ],
             [
              0.8888888888888888,
              "#fdca26"
             ],
             [
              1,
              "#f0f921"
             ]
            ],
            "type": "histogram2dcontour"
           }
          ],
          "mesh3d": [
           {
            "colorbar": {
             "outlinewidth": 0,
             "ticks": ""
            },
            "type": "mesh3d"
           }
          ],
          "parcoords": [
           {
            "line": {
             "colorbar": {
              "outlinewidth": 0,
              "ticks": ""
             }
            },
            "type": "parcoords"
           }
          ],
          "pie": [
           {
            "automargin": true,
            "type": "pie"
           }
          ],
          "scatter": [
           {
            "fillpattern": {
             "fillmode": "overlay",
             "size": 10,
             "solidity": 0.2
            },
            "type": "scatter"
           }
          ],
          "scatter3d": [
           {
            "line": {
             "colorbar": {
              "outlinewidth": 0,
              "ticks": ""
             }
            },
            "marker": {
             "colorbar": {
              "outlinewidth": 0,
              "ticks": ""
             }
            },
            "type": "scatter3d"
           }
          ],
          "scattercarpet": [
           {
            "marker": {
             "colorbar": {
              "outlinewidth": 0,
              "ticks": ""
             }
            },
            "type": "scattercarpet"
           }
          ],
          "scattergeo": [
           {
            "marker": {
             "colorbar": {
              "outlinewidth": 0,
              "ticks": ""
             }
            },
            "type": "scattergeo"
           }
          ],
          "scattergl": [
           {
            "marker": {
             "colorbar": {
              "outlinewidth": 0,
              "ticks": ""
             }
            },
            "type": "scattergl"
           }
          ],
          "scattermapbox": [
           {
            "marker": {
             "colorbar": {
              "outlinewidth": 0,
              "ticks": ""
             }
            },
            "type": "scattermapbox"
           }
          ],
          "scatterpolar": [
           {
            "marker": {
             "colorbar": {
              "outlinewidth": 0,
              "ticks": ""
             }
            },
            "type": "scatterpolar"
           }
          ],
          "scatterpolargl": [
           {
            "marker": {
             "colorbar": {
              "outlinewidth": 0,
              "ticks": ""
             }
            },
            "type": "scatterpolargl"
           }
          ],
          "scatterternary": [
           {
            "marker": {
             "colorbar": {
              "outlinewidth": 0,
              "ticks": ""
             }
            },
            "type": "scatterternary"
           }
          ],
          "surface": [
           {
            "colorbar": {
             "outlinewidth": 0,
             "ticks": ""
            },
            "colorscale": [
             [
              0,
              "#0d0887"
             ],
             [
              0.1111111111111111,
              "#46039f"
             ],
             [
              0.2222222222222222,
              "#7201a8"
             ],
             [
              0.3333333333333333,
              "#9c179e"
             ],
             [
              0.4444444444444444,
              "#bd3786"
             ],
             [
              0.5555555555555556,
              "#d8576b"
             ],
             [
              0.6666666666666666,
              "#ed7953"
             ],
             [
              0.7777777777777778,
              "#fb9f3a"
             ],
             [
              0.8888888888888888,
              "#fdca26"
             ],
             [
              1,
              "#f0f921"
             ]
            ],
            "type": "surface"
           }
          ],
          "table": [
           {
            "cells": {
             "fill": {
              "color": "#EBF0F8"
             },
             "line": {
              "color": "white"
             }
            },
            "header": {
             "fill": {
              "color": "#C8D4E3"
             },
             "line": {
              "color": "white"
             }
            },
            "type": "table"
           }
          ]
         },
         "layout": {
          "annotationdefaults": {
           "arrowcolor": "#2a3f5f",
           "arrowhead": 0,
           "arrowwidth": 1
          },
          "autotypenumbers": "strict",
          "coloraxis": {
           "colorbar": {
            "outlinewidth": 0,
            "ticks": ""
           }
          },
          "colorscale": {
           "diverging": [
            [
             0,
             "#8e0152"
            ],
            [
             0.1,
             "#c51b7d"
            ],
            [
             0.2,
             "#de77ae"
            ],
            [
             0.3,
             "#f1b6da"
            ],
            [
             0.4,
             "#fde0ef"
            ],
            [
             0.5,
             "#f7f7f7"
            ],
            [
             0.6,
             "#e6f5d0"
            ],
            [
             0.7,
             "#b8e186"
            ],
            [
             0.8,
             "#7fbc41"
            ],
            [
             0.9,
             "#4d9221"
            ],
            [
             1,
             "#276419"
            ]
           ],
           "sequential": [
            [
             0,
             "#0d0887"
            ],
            [
             0.1111111111111111,
             "#46039f"
            ],
            [
             0.2222222222222222,
             "#7201a8"
            ],
            [
             0.3333333333333333,
             "#9c179e"
            ],
            [
             0.4444444444444444,
             "#bd3786"
            ],
            [
             0.5555555555555556,
             "#d8576b"
            ],
            [
             0.6666666666666666,
             "#ed7953"
            ],
            [
             0.7777777777777778,
             "#fb9f3a"
            ],
            [
             0.8888888888888888,
             "#fdca26"
            ],
            [
             1,
             "#f0f921"
            ]
           ],
           "sequentialminus": [
            [
             0,
             "#0d0887"
            ],
            [
             0.1111111111111111,
             "#46039f"
            ],
            [
             0.2222222222222222,
             "#7201a8"
            ],
            [
             0.3333333333333333,
             "#9c179e"
            ],
            [
             0.4444444444444444,
             "#bd3786"
            ],
            [
             0.5555555555555556,
             "#d8576b"
            ],
            [
             0.6666666666666666,
             "#ed7953"
            ],
            [
             0.7777777777777778,
             "#fb9f3a"
            ],
            [
             0.8888888888888888,
             "#fdca26"
            ],
            [
             1,
             "#f0f921"
            ]
           ]
          },
          "colorway": [
           "#636efa",
           "#EF553B",
           "#00cc96",
           "#ab63fa",
           "#FFA15A",
           "#19d3f3",
           "#FF6692",
           "#B6E880",
           "#FF97FF",
           "#FECB52"
          ],
          "font": {
           "color": "#2a3f5f"
          },
          "geo": {
           "bgcolor": "white",
           "lakecolor": "white",
           "landcolor": "#E5ECF6",
           "showlakes": true,
           "showland": true,
           "subunitcolor": "white"
          },
          "hoverlabel": {
           "align": "left"
          },
          "hovermode": "closest",
          "mapbox": {
           "style": "light"
          },
          "paper_bgcolor": "white",
          "plot_bgcolor": "#E5ECF6",
          "polar": {
           "angularaxis": {
            "gridcolor": "white",
            "linecolor": "white",
            "ticks": ""
           },
           "bgcolor": "#E5ECF6",
           "radialaxis": {
            "gridcolor": "white",
            "linecolor": "white",
            "ticks": ""
           }
          },
          "scene": {
           "xaxis": {
            "backgroundcolor": "#E5ECF6",
            "gridcolor": "white",
            "gridwidth": 2,
            "linecolor": "white",
            "showbackground": true,
            "ticks": "",
            "zerolinecolor": "white"
           },
           "yaxis": {
            "backgroundcolor": "#E5ECF6",
            "gridcolor": "white",
            "gridwidth": 2,
            "linecolor": "white",
            "showbackground": true,
            "ticks": "",
            "zerolinecolor": "white"
           },
           "zaxis": {
            "backgroundcolor": "#E5ECF6",
            "gridcolor": "white",
            "gridwidth": 2,
            "linecolor": "white",
            "showbackground": true,
            "ticks": "",
            "zerolinecolor": "white"
           }
          },
          "shapedefaults": {
           "line": {
            "color": "#2a3f5f"
           }
          },
          "ternary": {
           "aaxis": {
            "gridcolor": "white",
            "linecolor": "white",
            "ticks": ""
           },
           "baxis": {
            "gridcolor": "white",
            "linecolor": "white",
            "ticks": ""
           },
           "bgcolor": "#E5ECF6",
           "caxis": {
            "gridcolor": "white",
            "linecolor": "white",
            "ticks": ""
           }
          },
          "title": {
           "x": 0.05
          },
          "xaxis": {
           "automargin": true,
           "gridcolor": "white",
           "linecolor": "white",
           "ticks": "",
           "title": {
            "standoff": 15
           },
           "zerolinecolor": "white",
           "zerolinewidth": 2
          },
          "yaxis": {
           "automargin": true,
           "gridcolor": "white",
           "linecolor": "white",
           "ticks": "",
           "title": {
            "standoff": 15
           },
           "zerolinecolor": "white",
           "zerolinewidth": 2
          }
         }
        }
       }
      }
     },
     "metadata": {},
     "output_type": "display_data"
    },
    {
     "data": {
      "application/vnd.plotly.v1+json": {
       "config": {
        "plotlyServerURL": "https://plot.ly"
       },
       "data": [
        {
         "branchvalues": "total",
         "domain": {
          "x": [
           0,
           1
          ],
          "y": [
           0,
           1
          ]
         },
         "hovertemplate": "labels=%{label}<br>count=%{value}<br>parent=%{parent}<br>id=%{id}<extra></extra>",
         "ids": [
          "情報通信・サービスその他/その他製品/TOPIX Core30",
          "情報通信・サービスその他/サービス業/TOPIX Core30",
          "金融（除く銀行）/保険業/TOPIX Core30",
          "素材・化学/化学/TOPIX Core30",
          "医薬品/医薬品/TOPIX Core30",
          "商社・卸売/卸売業/TOPIX Core30",
          "小売/小売業/TOPIX Core30",
          "情報通信・サービスその他/情報･通信業/TOPIX Core30",
          "機械/機械/TOPIX Core30",
          "電機・精密/精密機器/TOPIX Core30",
          "自動車・輸送機/輸送用機器/TOPIX Core30",
          "銀行/銀行業/TOPIX Core30",
          "電機・精密/電気機器/TOPIX Core30",
          "情報通信・サービスその他/その他製品/TOPIX Large70",
          "金融（除く銀行）/その他金融業/TOPIX Large70",
          "自動車・輸送機/ゴム製品/TOPIX Large70",
          "情報通信・サービスその他/サービス業/TOPIX Large70",
          "不動産/不動産業/TOPIX Large70",
          "金融（除く銀行）/保険業/TOPIX Large70",
          "素材・化学/化学/TOPIX Large70",
          "医薬品/医薬品/TOPIX Large70",
          "商社・卸売/卸売業/TOPIX Large70",
          "小売/小売業/TOPIX Large70",
          "建設・資材/建設業/TOPIX Large70",
          "情報通信・サービスその他/情報･通信業/TOPIX Large70",
          "機械/機械/TOPIX Large70",
          "運輸・物流/海運業/TOPIX Large70",
          "エネルギー資源/石油･石炭製品/TOPIX Large70",
          "運輸・物流/空運業/TOPIX Large70",
          "電機・精密/精密機器/TOPIX Large70",
          "金融（除く銀行）/証券･商品先物取引業/TOPIX Large70",
          "自動車・輸送機/輸送用機器/TOPIX Large70",
          "鉄鋼・非鉄/鉄鋼/TOPIX Large70",
          "銀行/銀行業/TOPIX Large70",
          "運輸・物流/陸運業/TOPIX Large70",
          "電機・精密/電気機器/TOPIX Large70",
          "鉄鋼・非鉄/非鉄金属/TOPIX Large70",
          "食品/食料品/TOPIX Large70",
          "情報通信・サービスその他/その他製品/TOPIX Mid400",
          "金融（除く銀行）/その他金融業/TOPIX Mid400",
          "建設・資材/ガラス･土石製品/TOPIX Mid400",
          "自動車・輸送機/ゴム製品/TOPIX Mid400",
          "情報通信・サービスその他/サービス業/TOPIX Mid400",
          "素材・化学/パルプ・紙/TOPIX Mid400",
          "不動産/不動産業/TOPIX Mid400",
          "金融（除く銀行）/保険業/TOPIX Mid400",
          "運輸・物流/倉庫･運輸関連業/TOPIX Mid400",
          "素材・化学/化学/TOPIX Mid400",
          "医薬品/医薬品/TOPIX Mid400",
          "商社・卸売/卸売業/TOPIX Mid400",
          "小売/小売業/TOPIX Mid400",
          "建設・資材/建設業/TOPIX Mid400",
          "情報通信・サービスその他/情報･通信業/TOPIX Mid400",
          "機械/機械/TOPIX Mid400",
          "食品/水産・農林業/TOPIX Mid400",
          "運輸・物流/海運業/TOPIX Mid400",
          "エネルギー資源/石油･石炭製品/TOPIX Mid400",
          "運輸・物流/空運業/TOPIX Mid400",
          "電機・精密/精密機器/TOPIX Mid400",
          "素材・化学/繊維製品/TOPIX Mid400",
          "金融（除く銀行）/証券･商品先物取引業/TOPIX Mid400",
          "自動車・輸送機/輸送用機器/TOPIX Mid400",
          "建設・資材/金属製品/TOPIX Mid400",
          "鉄鋼・非鉄/鉄鋼/TOPIX Mid400",
          "エネルギー資源/鉱業/TOPIX Mid400",
          "銀行/銀行業/TOPIX Mid400",
          "運輸・物流/陸運業/TOPIX Mid400",
          "電機・精密/電気機器/TOPIX Mid400",
          "電気・ガス/電気･ガス業/TOPIX Mid400",
          "鉄鋼・非鉄/非鉄金属/TOPIX Mid400",
          "食品/食料品/TOPIX Mid400",
          "情報通信・サービスその他/その他製品",
          "金融（除く銀行）/その他金融業",
          "建設・資材/ガラス･土石製品",
          "自動車・輸送機/ゴム製品",
          "情報通信・サービスその他/サービス業",
          "素材・化学/パルプ・紙",
          "不動産/不動産業",
          "金融（除く銀行）/保険業",
          "運輸・物流/倉庫･運輸関連業",
          "素材・化学/化学",
          "医薬品/医薬品",
          "商社・卸売/卸売業",
          "小売/小売業",
          "建設・資材/建設業",
          "情報通信・サービスその他/情報･通信業",
          "機械/機械",
          "食品/水産・農林業",
          "運輸・物流/海運業",
          "エネルギー資源/石油･石炭製品",
          "運輸・物流/空運業",
          "電機・精密/精密機器",
          "素材・化学/繊維製品",
          "金融（除く銀行）/証券･商品先物取引業",
          "自動車・輸送機/輸送用機器",
          "建設・資材/金属製品",
          "鉄鋼・非鉄/鉄鋼",
          "エネルギー資源/鉱業",
          "銀行/銀行業",
          "運輸・物流/陸運業",
          "電機・精密/電気機器",
          "電気・ガス/電気･ガス業",
          "鉄鋼・非鉄/非鉄金属",
          "食品/食料品",
          "エネルギー資源",
          "不動産",
          "医薬品",
          "商社・卸売",
          "小売",
          "建設・資材",
          "情報通信・サービスその他",
          "機械",
          "素材・化学",
          "自動車・輸送機",
          "運輸・物流",
          "金融（除く銀行）",
          "鉄鋼・非鉄",
          "銀行",
          "電機・精密",
          "電気・ガス",
          "食品"
         ],
         "labels": [
          "TOPIX Core30",
          "TOPIX Core30",
          "TOPIX Core30",
          "TOPIX Core30",
          "TOPIX Core30",
          "TOPIX Core30",
          "TOPIX Core30",
          "TOPIX Core30",
          "TOPIX Core30",
          "TOPIX Core30",
          "TOPIX Core30",
          "TOPIX Core30",
          "TOPIX Core30",
          "TOPIX Large70",
          "TOPIX Large70",
          "TOPIX Large70",
          "TOPIX Large70",
          "TOPIX Large70",
          "TOPIX Large70",
          "TOPIX Large70",
          "TOPIX Large70",
          "TOPIX Large70",
          "TOPIX Large70",
          "TOPIX Large70",
          "TOPIX Large70",
          "TOPIX Large70",
          "TOPIX Large70",
          "TOPIX Large70",
          "TOPIX Large70",
          "TOPIX Large70",
          "TOPIX Large70",
          "TOPIX Large70",
          "TOPIX Large70",
          "TOPIX Large70",
          "TOPIX Large70",
          "TOPIX Large70",
          "TOPIX Large70",
          "TOPIX Large70",
          "TOPIX Mid400",
          "TOPIX Mid400",
          "TOPIX Mid400",
          "TOPIX Mid400",
          "TOPIX Mid400",
          "TOPIX Mid400",
          "TOPIX Mid400",
          "TOPIX Mid400",
          "TOPIX Mid400",
          "TOPIX Mid400",
          "TOPIX Mid400",
          "TOPIX Mid400",
          "TOPIX Mid400",
          "TOPIX Mid400",
          "TOPIX Mid400",
          "TOPIX Mid400",
          "TOPIX Mid400",
          "TOPIX Mid400",
          "TOPIX Mid400",
          "TOPIX Mid400",
          "TOPIX Mid400",
          "TOPIX Mid400",
          "TOPIX Mid400",
          "TOPIX Mid400",
          "TOPIX Mid400",
          "TOPIX Mid400",
          "TOPIX Mid400",
          "TOPIX Mid400",
          "TOPIX Mid400",
          "TOPIX Mid400",
          "TOPIX Mid400",
          "TOPIX Mid400",
          "TOPIX Mid400",
          "その他製品",
          "その他金融業",
          "ガラス･土石製品",
          "ゴム製品",
          "サービス業",
          "パルプ・紙",
          "不動産業",
          "保険業",
          "倉庫･運輸関連業",
          "化学",
          "医薬品",
          "卸売業",
          "小売業",
          "建設業",
          "情報･通信業",
          "機械",
          "水産・農林業",
          "海運業",
          "石油･石炭製品",
          "空運業",
          "精密機器",
          "繊維製品",
          "証券･商品先物取引業",
          "輸送用機器",
          "金属製品",
          "鉄鋼",
          "鉱業",
          "銀行業",
          "陸運業",
          "電気機器",
          "電気･ガス業",
          "非鉄金属",
          "食料品",
          "エネルギー資源",
          "不動産",
          "医薬品",
          "商社・卸売",
          "小売",
          "建設・資材",
          "情報通信・サービスその他",
          "機械",
          "素材・化学",
          "自動車・輸送機",
          "運輸・物流",
          "金融（除く銀行）",
          "鉄鋼・非鉄",
          "銀行",
          "電機・精密",
          "電気・ガス",
          "食品"
         ],
         "name": "",
         "parents": [
          "情報通信・サービスその他/その他製品",
          "情報通信・サービスその他/サービス業",
          "金融（除く銀行）/保険業",
          "素材・化学/化学",
          "医薬品/医薬品",
          "商社・卸売/卸売業",
          "小売/小売業",
          "情報通信・サービスその他/情報･通信業",
          "機械/機械",
          "電機・精密/精密機器",
          "自動車・輸送機/輸送用機器",
          "銀行/銀行業",
          "電機・精密/電気機器",
          "情報通信・サービスその他/その他製品",
          "金融（除く銀行）/その他金融業",
          "自動車・輸送機/ゴム製品",
          "情報通信・サービスその他/サービス業",
          "不動産/不動産業",
          "金融（除く銀行）/保険業",
          "素材・化学/化学",
          "医薬品/医薬品",
          "商社・卸売/卸売業",
          "小売/小売業",
          "建設・資材/建設業",
          "情報通信・サービスその他/情報･通信業",
          "機械/機械",
          "運輸・物流/海運業",
          "エネルギー資源/石油･石炭製品",
          "運輸・物流/空運業",
          "電機・精密/精密機器",
          "金融（除く銀行）/証券･商品先物取引業",
          "自動車・輸送機/輸送用機器",
          "鉄鋼・非鉄/鉄鋼",
          "銀行/銀行業",
          "運輸・物流/陸運業",
          "電機・精密/電気機器",
          "鉄鋼・非鉄/非鉄金属",
          "食品/食料品",
          "情報通信・サービスその他/その他製品",
          "金融（除く銀行）/その他金融業",
          "建設・資材/ガラス･土石製品",
          "自動車・輸送機/ゴム製品",
          "情報通信・サービスその他/サービス業",
          "素材・化学/パルプ・紙",
          "不動産/不動産業",
          "金融（除く銀行）/保険業",
          "運輸・物流/倉庫･運輸関連業",
          "素材・化学/化学",
          "医薬品/医薬品",
          "商社・卸売/卸売業",
          "小売/小売業",
          "建設・資材/建設業",
          "情報通信・サービスその他/情報･通信業",
          "機械/機械",
          "食品/水産・農林業",
          "運輸・物流/海運業",
          "エネルギー資源/石油･石炭製品",
          "運輸・物流/空運業",
          "電機・精密/精密機器",
          "素材・化学/繊維製品",
          "金融（除く銀行）/証券･商品先物取引業",
          "自動車・輸送機/輸送用機器",
          "建設・資材/金属製品",
          "鉄鋼・非鉄/鉄鋼",
          "エネルギー資源/鉱業",
          "銀行/銀行業",
          "運輸・物流/陸運業",
          "電機・精密/電気機器",
          "電気・ガス/電気･ガス業",
          "鉄鋼・非鉄/非鉄金属",
          "食品/食料品",
          "情報通信・サービスその他",
          "金融（除く銀行）",
          "建設・資材",
          "自動車・輸送機",
          "情報通信・サービスその他",
          "素材・化学",
          "不動産",
          "金融（除く銀行）",
          "運輸・物流",
          "素材・化学",
          "医薬品",
          "商社・卸売",
          "小売",
          "建設・資材",
          "情報通信・サービスその他",
          "機械",
          "食品",
          "運輸・物流",
          "エネルギー資源",
          "運輸・物流",
          "電機・精密",
          "素材・化学",
          "金融（除く銀行）",
          "自動車・輸送機",
          "建設・資材",
          "鉄鋼・非鉄",
          "エネルギー資源",
          "銀行",
          "運輸・物流",
          "電機・精密",
          "電気・ガス",
          "鉄鋼・非鉄",
          "食品",
          "",
          "",
          "",
          "",
          "",
          "",
          "",
          "",
          "",
          "",
          "",
          "",
          "",
          "",
          "",
          "",
          ""
         ],
         "type": "treemap",
         "values": [
          1,
          1,
          1,
          1,
          3,
          3,
          1,
          4,
          2,
          1,
          2,
          3,
          7,
          1,
          2,
          1,
          4,
          3,
          3,
          6,
          4,
          2,
          3,
          2,
          1,
          4,
          1,
          1,
          1,
          2,
          1,
          5,
          1,
          2,
          3,
          11,
          1,
          4,
          8,
          7,
          8,
          3,
          22,
          3,
          10,
          2,
          2,
          38,
          11,
          19,
          30,
          17,
          32,
          26,
          2,
          2,
          2,
          1,
          8,
          4,
          3,
          12,
          6,
          5,
          1,
          17,
          21,
          35,
          13,
          6,
          23,
          10,
          9,
          8,
          4,
          27,
          3,
          13,
          6,
          2,
          45,
          18,
          24,
          34,
          19,
          37,
          32,
          2,
          3,
          3,
          2,
          11,
          4,
          4,
          19,
          6,
          6,
          1,
          22,
          24,
          53,
          13,
          7,
          27,
          4,
          13,
          18,
          24,
          34,
          33,
          74,
          32,
          52,
          23,
          31,
          19,
          13,
          22,
          64,
          13,
          29
         ]
        }
       ],
       "layout": {
        "legend": {
         "tracegroupgap": 0
        },
        "margin": {
         "t": 60
        },
        "template": {
         "data": {
          "bar": [
           {
            "error_x": {
             "color": "#2a3f5f"
            },
            "error_y": {
             "color": "#2a3f5f"
            },
            "marker": {
             "line": {
              "color": "#E5ECF6",
              "width": 0.5
             },
             "pattern": {
              "fillmode": "overlay",
              "size": 10,
              "solidity": 0.2
             }
            },
            "type": "bar"
           }
          ],
          "barpolar": [
           {
            "marker": {
             "line": {
              "color": "#E5ECF6",
              "width": 0.5
             },
             "pattern": {
              "fillmode": "overlay",
              "size": 10,
              "solidity": 0.2
             }
            },
            "type": "barpolar"
           }
          ],
          "carpet": [
           {
            "aaxis": {
             "endlinecolor": "#2a3f5f",
             "gridcolor": "white",
             "linecolor": "white",
             "minorgridcolor": "white",
             "startlinecolor": "#2a3f5f"
            },
            "baxis": {
             "endlinecolor": "#2a3f5f",
             "gridcolor": "white",
             "linecolor": "white",
             "minorgridcolor": "white",
             "startlinecolor": "#2a3f5f"
            },
            "type": "carpet"
           }
          ],
          "choropleth": [
           {
            "colorbar": {
             "outlinewidth": 0,
             "ticks": ""
            },
            "type": "choropleth"
           }
          ],
          "contour": [
           {
            "colorbar": {
             "outlinewidth": 0,
             "ticks": ""
            },
            "colorscale": [
             [
              0,
              "#0d0887"
             ],
             [
              0.1111111111111111,
              "#46039f"
             ],
             [
              0.2222222222222222,
              "#7201a8"
             ],
             [
              0.3333333333333333,
              "#9c179e"
             ],
             [
              0.4444444444444444,
              "#bd3786"
             ],
             [
              0.5555555555555556,
              "#d8576b"
             ],
             [
              0.6666666666666666,
              "#ed7953"
             ],
             [
              0.7777777777777778,
              "#fb9f3a"
             ],
             [
              0.8888888888888888,
              "#fdca26"
             ],
             [
              1,
              "#f0f921"
             ]
            ],
            "type": "contour"
           }
          ],
          "contourcarpet": [
           {
            "colorbar": {
             "outlinewidth": 0,
             "ticks": ""
            },
            "type": "contourcarpet"
           }
          ],
          "heatmap": [
           {
            "colorbar": {
             "outlinewidth": 0,
             "ticks": ""
            },
            "colorscale": [
             [
              0,
              "#0d0887"
             ],
             [
              0.1111111111111111,
              "#46039f"
             ],
             [
              0.2222222222222222,
              "#7201a8"
             ],
             [
              0.3333333333333333,
              "#9c179e"
             ],
             [
              0.4444444444444444,
              "#bd3786"
             ],
             [
              0.5555555555555556,
              "#d8576b"
             ],
             [
              0.6666666666666666,
              "#ed7953"
             ],
             [
              0.7777777777777778,
              "#fb9f3a"
             ],
             [
              0.8888888888888888,
              "#fdca26"
             ],
             [
              1,
              "#f0f921"
             ]
            ],
            "type": "heatmap"
           }
          ],
          "heatmapgl": [
           {
            "colorbar": {
             "outlinewidth": 0,
             "ticks": ""
            },
            "colorscale": [
             [
              0,
              "#0d0887"
             ],
             [
              0.1111111111111111,
              "#46039f"
             ],
             [
              0.2222222222222222,
              "#7201a8"
             ],
             [
              0.3333333333333333,
              "#9c179e"
             ],
             [
              0.4444444444444444,
              "#bd3786"
             ],
             [
              0.5555555555555556,
              "#d8576b"
             ],
             [
              0.6666666666666666,
              "#ed7953"
             ],
             [
              0.7777777777777778,
              "#fb9f3a"
             ],
             [
              0.8888888888888888,
              "#fdca26"
             ],
             [
              1,
              "#f0f921"
             ]
            ],
            "type": "heatmapgl"
           }
          ],
          "histogram": [
           {
            "marker": {
             "pattern": {
              "fillmode": "overlay",
              "size": 10,
              "solidity": 0.2
             }
            },
            "type": "histogram"
           }
          ],
          "histogram2d": [
           {
            "colorbar": {
             "outlinewidth": 0,
             "ticks": ""
            },
            "colorscale": [
             [
              0,
              "#0d0887"
             ],
             [
              0.1111111111111111,
              "#46039f"
             ],
             [
              0.2222222222222222,
              "#7201a8"
             ],
             [
              0.3333333333333333,
              "#9c179e"
             ],
             [
              0.4444444444444444,
              "#bd3786"
             ],
             [
              0.5555555555555556,
              "#d8576b"
             ],
             [
              0.6666666666666666,
              "#ed7953"
             ],
             [
              0.7777777777777778,
              "#fb9f3a"
             ],
             [
              0.8888888888888888,
              "#fdca26"
             ],
             [
              1,
              "#f0f921"
             ]
            ],
            "type": "histogram2d"
           }
          ],
          "histogram2dcontour": [
           {
            "colorbar": {
             "outlinewidth": 0,
             "ticks": ""
            },
            "colorscale": [
             [
              0,
              "#0d0887"
             ],
             [
              0.1111111111111111,
              "#46039f"
             ],
             [
              0.2222222222222222,
              "#7201a8"
             ],
             [
              0.3333333333333333,
              "#9c179e"
             ],
             [
              0.4444444444444444,
              "#bd3786"
             ],
             [
              0.5555555555555556,
              "#d8576b"
             ],
             [
              0.6666666666666666,
              "#ed7953"
             ],
             [
              0.7777777777777778,
              "#fb9f3a"
             ],
             [
              0.8888888888888888,
              "#fdca26"
             ],
             [
              1,
              "#f0f921"
             ]
            ],
            "type": "histogram2dcontour"
           }
          ],
          "mesh3d": [
           {
            "colorbar": {
             "outlinewidth": 0,
             "ticks": ""
            },
            "type": "mesh3d"
           }
          ],
          "parcoords": [
           {
            "line": {
             "colorbar": {
              "outlinewidth": 0,
              "ticks": ""
             }
            },
            "type": "parcoords"
           }
          ],
          "pie": [
           {
            "automargin": true,
            "type": "pie"
           }
          ],
          "scatter": [
           {
            "fillpattern": {
             "fillmode": "overlay",
             "size": 10,
             "solidity": 0.2
            },
            "type": "scatter"
           }
          ],
          "scatter3d": [
           {
            "line": {
             "colorbar": {
              "outlinewidth": 0,
              "ticks": ""
             }
            },
            "marker": {
             "colorbar": {
              "outlinewidth": 0,
              "ticks": ""
             }
            },
            "type": "scatter3d"
           }
          ],
          "scattercarpet": [
           {
            "marker": {
             "colorbar": {
              "outlinewidth": 0,
              "ticks": ""
             }
            },
            "type": "scattercarpet"
           }
          ],
          "scattergeo": [
           {
            "marker": {
             "colorbar": {
              "outlinewidth": 0,
              "ticks": ""
             }
            },
            "type": "scattergeo"
           }
          ],
          "scattergl": [
           {
            "marker": {
             "colorbar": {
              "outlinewidth": 0,
              "ticks": ""
             }
            },
            "type": "scattergl"
           }
          ],
          "scattermapbox": [
           {
            "marker": {
             "colorbar": {
              "outlinewidth": 0,
              "ticks": ""
             }
            },
            "type": "scattermapbox"
           }
          ],
          "scatterpolar": [
           {
            "marker": {
             "colorbar": {
              "outlinewidth": 0,
              "ticks": ""
             }
            },
            "type": "scatterpolar"
           }
          ],
          "scatterpolargl": [
           {
            "marker": {
             "colorbar": {
              "outlinewidth": 0,
              "ticks": ""
             }
            },
            "type": "scatterpolargl"
           }
          ],
          "scatterternary": [
           {
            "marker": {
             "colorbar": {
              "outlinewidth": 0,
              "ticks": ""
             }
            },
            "type": "scatterternary"
           }
          ],
          "surface": [
           {
            "colorbar": {
             "outlinewidth": 0,
             "ticks": ""
            },
            "colorscale": [
             [
              0,
              "#0d0887"
             ],
             [
              0.1111111111111111,
              "#46039f"
             ],
             [
              0.2222222222222222,
              "#7201a8"
             ],
             [
              0.3333333333333333,
              "#9c179e"
             ],
             [
              0.4444444444444444,
              "#bd3786"
             ],
             [
              0.5555555555555556,
              "#d8576b"
             ],
             [
              0.6666666666666666,
              "#ed7953"
             ],
             [
              0.7777777777777778,
              "#fb9f3a"
             ],
             [
              0.8888888888888888,
              "#fdca26"
             ],
             [
              1,
              "#f0f921"
             ]
            ],
            "type": "surface"
           }
          ],
          "table": [
           {
            "cells": {
             "fill": {
              "color": "#EBF0F8"
             },
             "line": {
              "color": "white"
             }
            },
            "header": {
             "fill": {
              "color": "#C8D4E3"
             },
             "line": {
              "color": "white"
             }
            },
            "type": "table"
           }
          ]
         },
         "layout": {
          "annotationdefaults": {
           "arrowcolor": "#2a3f5f",
           "arrowhead": 0,
           "arrowwidth": 1
          },
          "autotypenumbers": "strict",
          "coloraxis": {
           "colorbar": {
            "outlinewidth": 0,
            "ticks": ""
           }
          },
          "colorscale": {
           "diverging": [
            [
             0,
             "#8e0152"
            ],
            [
             0.1,
             "#c51b7d"
            ],
            [
             0.2,
             "#de77ae"
            ],
            [
             0.3,
             "#f1b6da"
            ],
            [
             0.4,
             "#fde0ef"
            ],
            [
             0.5,
             "#f7f7f7"
            ],
            [
             0.6,
             "#e6f5d0"
            ],
            [
             0.7,
             "#b8e186"
            ],
            [
             0.8,
             "#7fbc41"
            ],
            [
             0.9,
             "#4d9221"
            ],
            [
             1,
             "#276419"
            ]
           ],
           "sequential": [
            [
             0,
             "#0d0887"
            ],
            [
             0.1111111111111111,
             "#46039f"
            ],
            [
             0.2222222222222222,
             "#7201a8"
            ],
            [
             0.3333333333333333,
             "#9c179e"
            ],
            [
             0.4444444444444444,
             "#bd3786"
            ],
            [
             0.5555555555555556,
             "#d8576b"
            ],
            [
             0.6666666666666666,
             "#ed7953"
            ],
            [
             0.7777777777777778,
             "#fb9f3a"
            ],
            [
             0.8888888888888888,
             "#fdca26"
            ],
            [
             1,
             "#f0f921"
            ]
           ],
           "sequentialminus": [
            [
             0,
             "#0d0887"
            ],
            [
             0.1111111111111111,
             "#46039f"
            ],
            [
             0.2222222222222222,
             "#7201a8"
            ],
            [
             0.3333333333333333,
             "#9c179e"
            ],
            [
             0.4444444444444444,
             "#bd3786"
            ],
            [
             0.5555555555555556,
             "#d8576b"
            ],
            [
             0.6666666666666666,
             "#ed7953"
            ],
            [
             0.7777777777777778,
             "#fb9f3a"
            ],
            [
             0.8888888888888888,
             "#fdca26"
            ],
            [
             1,
             "#f0f921"
            ]
           ]
          },
          "colorway": [
           "#636efa",
           "#EF553B",
           "#00cc96",
           "#ab63fa",
           "#FFA15A",
           "#19d3f3",
           "#FF6692",
           "#B6E880",
           "#FF97FF",
           "#FECB52"
          ],
          "font": {
           "color": "#2a3f5f"
          },
          "geo": {
           "bgcolor": "white",
           "lakecolor": "white",
           "landcolor": "#E5ECF6",
           "showlakes": true,
           "showland": true,
           "subunitcolor": "white"
          },
          "hoverlabel": {
           "align": "left"
          },
          "hovermode": "closest",
          "mapbox": {
           "style": "light"
          },
          "paper_bgcolor": "white",
          "plot_bgcolor": "#E5ECF6",
          "polar": {
           "angularaxis": {
            "gridcolor": "white",
            "linecolor": "white",
            "ticks": ""
           },
           "bgcolor": "#E5ECF6",
           "radialaxis": {
            "gridcolor": "white",
            "linecolor": "white",
            "ticks": ""
           }
          },
          "scene": {
           "xaxis": {
            "backgroundcolor": "#E5ECF6",
            "gridcolor": "white",
            "gridwidth": 2,
            "linecolor": "white",
            "showbackground": true,
            "ticks": "",
            "zerolinecolor": "white"
           },
           "yaxis": {
            "backgroundcolor": "#E5ECF6",
            "gridcolor": "white",
            "gridwidth": 2,
            "linecolor": "white",
            "showbackground": true,
            "ticks": "",
            "zerolinecolor": "white"
           },
           "zaxis": {
            "backgroundcolor": "#E5ECF6",
            "gridcolor": "white",
            "gridwidth": 2,
            "linecolor": "white",
            "showbackground": true,
            "ticks": "",
            "zerolinecolor": "white"
           }
          },
          "shapedefaults": {
           "line": {
            "color": "#2a3f5f"
           }
          },
          "ternary": {
           "aaxis": {
            "gridcolor": "white",
            "linecolor": "white",
            "ticks": ""
           },
           "baxis": {
            "gridcolor": "white",
            "linecolor": "white",
            "ticks": ""
           },
           "bgcolor": "#E5ECF6",
           "caxis": {
            "gridcolor": "white",
            "linecolor": "white",
            "ticks": ""
           }
          },
          "title": {
           "x": 0.05
          },
          "xaxis": {
           "automargin": true,
           "gridcolor": "white",
           "linecolor": "white",
           "ticks": "",
           "title": {
            "standoff": 15
           },
           "zerolinecolor": "white",
           "zerolinewidth": 2
          },
          "yaxis": {
           "automargin": true,
           "gridcolor": "white",
           "linecolor": "white",
           "ticks": "",
           "title": {
            "standoff": 15
           },
           "zerolinecolor": "white",
           "zerolinewidth": 2
          }
         }
        }
       }
      }
     },
     "metadata": {},
     "output_type": "display_data"
    }
   ],
   "source": [
    "import plotly.express as px\n",
    "\n",
    "midcap_categories = [\"TOPIX Mid400\", \"TOPIX Large70\", \"TOPIX Core30\"]\n",
    "\n",
    "df = px.data.tips()\n",
    "fig = px.treemap(\n",
    "    listed_companies[listed_companies[\"ScaleCategory\"].isin(midcap_categories)],\n",
    "    path=[\"Sector17CodeName\", \"Sector33CodeName\"],\n",
    ")\n",
    "fig.show()\n",
    "\n",
    "df = px.data.tips()\n",
    "fig = px.treemap(\n",
    "    listed_companies[listed_companies[\"ScaleCategory\"].isin(midcap_categories)],\n",
    "    path=[\"Sector17CodeName\", \"Sector33CodeName\", \"ScaleCategory\"],\n",
    ")\n",
    "fig.show()"
   ]
  },
  {
   "cell_type": "markdown",
   "id": "928388a1",
   "metadata": {},
   "source": [
    "## 財務情報の取得\n",
    "- [財務情報(/fins/statements)](https://jpx.gitbook.io/j-quants-ja/api-reference/statements)\n",
    "- [Ⅰ．インターフェイス仕様](https://www.jpx.co.jp/markets/paid-info-equities/listing/co3pgt0000005o97-att/tdnetapi_specifications.pdf)"
   ]
  },
  {
   "cell_type": "code",
   "execution_count": 7,
   "id": "a0650cd8",
   "metadata": {},
   "outputs": [],
   "source": [
    "def get_statements(idToken, code):\n",
    "    time.sleep(0.5)\n",
    "    r = requests.get(\n",
    "        f\"https://api.jquants.com/v1/fins/statements?code={code}\",\n",
    "        headers={\"Authorization\": \"Bearer {}\".format(idToken)},\n",
    "    )\n",
    "    if r.status_code == requests.codes.ok:\n",
    "        return r.json()[\"statements\"]\n",
    "    else:\n",
    "        return None"
   ]
  },
  {
   "cell_type": "code",
   "execution_count": 8,
   "id": "b0bab279",
   "metadata": {},
   "outputs": [
    {
     "data": {
      "text/plain": [
       "[{'DisclosedDate': '2022-01-27',\n",
       "  'DisclosedTime': '12:00:00',\n",
       "  'LocalCode': '86970',\n",
       "  'DisclosureNumber': '20220126573026',\n",
       "  'TypeOfDocument': '3QFinancialStatements_Consolidated_IFRS',\n",
       "  'TypeOfCurrentPeriod': '3Q',\n",
       "  'CurrentPeriodStartDate': '2021-04-01',\n",
       "  'CurrentPeriodEndDate': '2021-12-31',\n",
       "  'CurrentFiscalYearStartDate': '2021-04-01',\n",
       "  'CurrentFiscalYearEndDate': '2022-03-31',\n",
       "  'NextFiscalYearStartDate': '',\n",
       "  'NextFiscalYearEndDate': '',\n",
       "  'NetSales': '100586000000',\n",
       "  'OperatingProfit': '55967000000',\n",
       "  'OrdinaryProfit': '',\n",
       "  'Profit': '38013000000',\n",
       "  'EarningsPerShare': '71.71',\n",
       "  'DilutedEarningsPerShare': '',\n",
       "  'TotalAssets': '62076519000000',\n",
       "  'Equity': '311381000000',\n",
       "  'EquityToAssetRatio': '0.005',\n",
       "  'BookValuePerShare': '',\n",
       "  'CashFlowsFromOperatingActivities': '',\n",
       "  'CashFlowsFromInvestingActivities': '',\n",
       "  'CashFlowsFromFinancingActivities': '',\n",
       "  'CashAndEquivalents': '73158000000',\n",
       "  'ResultDividendPerShare1stQuarter': '',\n",
       "  'ResultDividendPerShare2ndQuarter': '26.0',\n",
       "  'ResultDividendPerShare3rdQuarter': '',\n",
       "  'ResultDividendPerShareFiscalYearEnd': '',\n",
       "  'ResultDividendPerShareAnnual': '',\n",
       "  'DistributionsPerUnit(REIT)': '',\n",
       "  'ResultTotalDividendPaidAnnual': '',\n",
       "  'ResultPayoutRatioAnnual': '',\n",
       "  'ForecastDividendPerShare1stQuarter': '',\n",
       "  'ForecastDividendPerShare2ndQuarter': '',\n",
       "  'ForecastDividendPerShare3rdQuarter': '',\n",
       "  'ForecastDividendPerShareFiscalYearEnd': '27.0',\n",
       "  'ForecastDividendPerShareAnnual': '53.0',\n",
       "  'ForecastDistributionsPerUnit(REIT)': '',\n",
       "  'ForecastTotalDividendPaidAnnual': '',\n",
       "  'ForecastPayoutRatioAnnual': '',\n",
       "  'NextYearForecastDividendPerShare1stQuarter': '',\n",
       "  'NextYearForecastDividendPerShare2ndQuarter': '',\n",
       "  'NextYearForecastDividendPerShare3rdQuarter': '',\n",
       "  'NextYearForecastDividendPerShareFiscalYearEnd': '',\n",
       "  'NextYearForecastDividendPerShareAnnual': '',\n",
       "  'NextYearForecastDistributionsPerUnit(REIT)': '',\n",
       "  'NextYearForecastPayoutRatioAnnual': '',\n",
       "  'ForecastNetSales2ndQuarter': '',\n",
       "  'ForecastOperatingProfit2ndQuarter': '',\n",
       "  'ForecastOrdinaryProfit2ndQuarter': '',\n",
       "  'ForecastProfit2ndQuarter': '',\n",
       "  'ForecastEarningsPerShare2ndQuarter': '',\n",
       "  'NextYearForecastNetSales2ndQuarter': '',\n",
       "  'NextYearForecastOperatingProfit2ndQuarter': '',\n",
       "  'NextYearForecastOrdinaryProfit2ndQuarter': '',\n",
       "  'NextYearForecastProfit2ndQuarter': '',\n",
       "  'NextYearForecastEarningsPerShare2ndQuarter': '',\n",
       "  'ForecastNetSales': '131000000000',\n",
       "  'ForecastOperatingProfit': '67500000000',\n",
       "  'ForecastOrdinaryProfit': '',\n",
       "  'ForecastProfit': '46000000000',\n",
       "  'ForecastEarningsPerShare': '86.88',\n",
       "  'NextYearForecastNetSales': '',\n",
       "  'NextYearForecastOperatingProfit': '',\n",
       "  'NextYearForecastOrdinaryProfit': '',\n",
       "  'NextYearForecastProfit': '',\n",
       "  'NextYearForecastEarningsPerShare': '',\n",
       "  'MaterialChangesInSubsidiaries': 'false',\n",
       "  'ChangesBasedOnRevisionsOfAccountingStandard': 'false',\n",
       "  'ChangesOtherThanOnesBasedOnRevisionsOfAccountingStandard': 'false',\n",
       "  'ChangesInAccountingEstimates': 'false',\n",
       "  'RetrospectiveRestatement': '',\n",
       "  'NumberOfIssuedAndOutstandingSharesAtTheEndOfFiscalYearIncludingTreasuryStock': '536351448',\n",
       "  'NumberOfTreasuryStockAtTheEndOfFiscalYear': '8822727',\n",
       "  'AverageNumberOfShares': '530119112',\n",
       "  'NonConsolidatedNetSales': '',\n",
       "  'NonConsolidatedOperatingProfit': '',\n",
       "  'NonConsolidatedOrdinaryProfit': '',\n",
       "  'NonConsolidatedProfit': '',\n",
       "  'NonConsolidatedEarningsPerShare': '',\n",
       "  'NonConsolidatedTotalAssets': '',\n",
       "  'NonConsolidatedEquity': '',\n",
       "  'NonConsolidatedEquityToAssetRatio': '',\n",
       "  'NonConsolidatedBookValuePerShare': '',\n",
       "  'ForecastNonConsolidatedNetSales2ndQuarter': '',\n",
       "  'ForecastNonConsolidatedOperatingProfit2ndQuarter': '',\n",
       "  'ForecastNonConsolidatedOrdinaryProfit2ndQuarter': '',\n",
       "  'ForecastNonConsolidatedProfit2ndQuarter': '',\n",
       "  'ForecastNonConsolidatedEarningsPerShare2ndQuarter': '',\n",
       "  'NextYearForecastNonConsolidatedNetSales2ndQuarter': '',\n",
       "  'NextYearForecastNonConsolidatedOperatingProfit2ndQuarter': '',\n",
       "  'NextYearForecastNonConsolidatedOrdinaryProfit2ndQuarter': '',\n",
       "  'NextYearForecastNonConsolidatedProfit2ndQuarter': '',\n",
       "  'NextYearForecastNonConsolidatedEarningsPerShare2ndQuarter': '',\n",
       "  'ForecastNonConsolidatedNetSales': '',\n",
       "  'ForecastNonConsolidatedOperatingProfit': '',\n",
       "  'ForecastNonConsolidatedOrdinaryProfit': '',\n",
       "  'ForecastNonConsolidatedProfit': '',\n",
       "  'ForecastNonConsolidatedEarningsPerShare': '',\n",
       "  'NextYearForecastNonConsolidatedNetSales': '',\n",
       "  'NextYearForecastNonConsolidatedOperatingProfit': '',\n",
       "  'NextYearForecastNonConsolidatedOrdinaryProfit': '',\n",
       "  'NextYearForecastNonConsolidatedProfit': '',\n",
       "  'NextYearForecastNonConsolidatedEarningsPerShare': ''},\n",
       " {'DisclosedDate': '2022-03-22',\n",
       "  'DisclosedTime': '12:00:00',\n",
       "  'LocalCode': '86970',\n",
       "  'DisclosureNumber': '20220318508090',\n",
       "  'TypeOfDocument': 'EarnForecastRevision',\n",
       "  'TypeOfCurrentPeriod': 'FY',\n",
       "  'CurrentPeriodStartDate': '2021-04-01',\n",
       "  'CurrentPeriodEndDate': '2022-03-31',\n",
       "  'CurrentFiscalYearStartDate': '2021-04-01',\n",
       "  'CurrentFiscalYearEndDate': '2022-03-31',\n",
       "  'NextFiscalYearStartDate': '',\n",
       "  'NextFiscalYearEndDate': '',\n",
       "  'NetSales': '',\n",
       "  'OperatingProfit': '',\n",
       "  'OrdinaryProfit': '',\n",
       "  'Profit': '',\n",
       "  'EarningsPerShare': '',\n",
       "  'DilutedEarningsPerShare': '',\n",
       "  'TotalAssets': '',\n",
       "  'Equity': '',\n",
       "  'EquityToAssetRatio': '',\n",
       "  'BookValuePerShare': '',\n",
       "  'CashFlowsFromOperatingActivities': '',\n",
       "  'CashFlowsFromInvestingActivities': '',\n",
       "  'CashFlowsFromFinancingActivities': '',\n",
       "  'CashAndEquivalents': '',\n",
       "  'ResultDividendPerShare1stQuarter': '',\n",
       "  'ResultDividendPerShare2ndQuarter': '',\n",
       "  'ResultDividendPerShare3rdQuarter': '',\n",
       "  'ResultDividendPerShareFiscalYearEnd': '',\n",
       "  'ResultDividendPerShareAnnual': '',\n",
       "  'DistributionsPerUnit(REIT)': '',\n",
       "  'ResultTotalDividendPaidAnnual': '',\n",
       "  'ResultPayoutRatioAnnual': '',\n",
       "  'ForecastDividendPerShare1stQuarter': '',\n",
       "  'ForecastDividendPerShare2ndQuarter': '',\n",
       "  'ForecastDividendPerShare3rdQuarter': '',\n",
       "  'ForecastDividendPerShareFiscalYearEnd': '46.0',\n",
       "  'ForecastDividendPerShareAnnual': '72.0',\n",
       "  'ForecastDistributionsPerUnit(REIT)': '',\n",
       "  'ForecastTotalDividendPaidAnnual': '',\n",
       "  'ForecastPayoutRatioAnnual': '',\n",
       "  'NextYearForecastDividendPerShare1stQuarter': '',\n",
       "  'NextYearForecastDividendPerShare2ndQuarter': '',\n",
       "  'NextYearForecastDividendPerShare3rdQuarter': '',\n",
       "  'NextYearForecastDividendPerShareFiscalYearEnd': '',\n",
       "  'NextYearForecastDividendPerShareAnnual': '',\n",
       "  'NextYearForecastDistributionsPerUnit(REIT)': '',\n",
       "  'NextYearForecastPayoutRatioAnnual': '',\n",
       "  'ForecastNetSales2ndQuarter': '',\n",
       "  'ForecastOperatingProfit2ndQuarter': '',\n",
       "  'ForecastOrdinaryProfit2ndQuarter': '',\n",
       "  'ForecastProfit2ndQuarter': '',\n",
       "  'ForecastEarningsPerShare2ndQuarter': '',\n",
       "  'NextYearForecastNetSales2ndQuarter': '',\n",
       "  'NextYearForecastOperatingProfit2ndQuarter': '',\n",
       "  'NextYearForecastOrdinaryProfit2ndQuarter': '',\n",
       "  'NextYearForecastProfit2ndQuarter': '',\n",
       "  'NextYearForecastEarningsPerShare2ndQuarter': '',\n",
       "  'ForecastNetSales': '135500000000',\n",
       "  'ForecastOperatingProfit': '73500000000',\n",
       "  'ForecastOrdinaryProfit': '',\n",
       "  'ForecastProfit': '50000000000',\n",
       "  'ForecastEarningsPerShare': '94.43',\n",
       "  'NextYearForecastNetSales': '',\n",
       "  'NextYearForecastOperatingProfit': '',\n",
       "  'NextYearForecastOrdinaryProfit': '',\n",
       "  'NextYearForecastProfit': '',\n",
       "  'NextYearForecastEarningsPerShare': '',\n",
       "  'MaterialChangesInSubsidiaries': '',\n",
       "  'ChangesBasedOnRevisionsOfAccountingStandard': '',\n",
       "  'ChangesOtherThanOnesBasedOnRevisionsOfAccountingStandard': '',\n",
       "  'ChangesInAccountingEstimates': '',\n",
       "  'RetrospectiveRestatement': '',\n",
       "  'NumberOfIssuedAndOutstandingSharesAtTheEndOfFiscalYearIncludingTreasuryStock': '',\n",
       "  'NumberOfTreasuryStockAtTheEndOfFiscalYear': '',\n",
       "  'AverageNumberOfShares': '',\n",
       "  'NonConsolidatedNetSales': '',\n",
       "  'NonConsolidatedOperatingProfit': '',\n",
       "  'NonConsolidatedOrdinaryProfit': '',\n",
       "  'NonConsolidatedProfit': '',\n",
       "  'NonConsolidatedEarningsPerShare': '',\n",
       "  'NonConsolidatedTotalAssets': '',\n",
       "  'NonConsolidatedEquity': '',\n",
       "  'NonConsolidatedEquityToAssetRatio': '',\n",
       "  'NonConsolidatedBookValuePerShare': '',\n",
       "  'ForecastNonConsolidatedNetSales2ndQuarter': '',\n",
       "  'ForecastNonConsolidatedOperatingProfit2ndQuarter': '',\n",
       "  'ForecastNonConsolidatedOrdinaryProfit2ndQuarter': '',\n",
       "  'ForecastNonConsolidatedProfit2ndQuarter': '',\n",
       "  'ForecastNonConsolidatedEarningsPerShare2ndQuarter': '',\n",
       "  'NextYearForecastNonConsolidatedNetSales2ndQuarter': '',\n",
       "  'NextYearForecastNonConsolidatedOperatingProfit2ndQuarter': '',\n",
       "  'NextYearForecastNonConsolidatedOrdinaryProfit2ndQuarter': '',\n",
       "  'NextYearForecastNonConsolidatedProfit2ndQuarter': '',\n",
       "  'NextYearForecastNonConsolidatedEarningsPerShare2ndQuarter': '',\n",
       "  'ForecastNonConsolidatedNetSales': '',\n",
       "  'ForecastNonConsolidatedOperatingProfit': '',\n",
       "  'ForecastNonConsolidatedOrdinaryProfit': '',\n",
       "  'ForecastNonConsolidatedProfit': '',\n",
       "  'ForecastNonConsolidatedEarningsPerShare': '',\n",
       "  'NextYearForecastNonConsolidatedNetSales': '',\n",
       "  'NextYearForecastNonConsolidatedOperatingProfit': '',\n",
       "  'NextYearForecastNonConsolidatedOrdinaryProfit': '',\n",
       "  'NextYearForecastNonConsolidatedProfit': '',\n",
       "  'NextYearForecastNonConsolidatedEarningsPerShare': ''},\n",
       " {'DisclosedDate': '2022-04-26',\n",
       "  'DisclosedTime': '12:00:00',\n",
       "  'LocalCode': '86970',\n",
       "  'DisclosureNumber': '20220425527054',\n",
       "  'TypeOfDocument': 'FYFinancialStatements_Consolidated_IFRS',\n",
       "  'TypeOfCurrentPeriod': 'FY',\n",
       "  'CurrentPeriodStartDate': '2021-04-01',\n",
       "  'CurrentPeriodEndDate': '2022-03-31',\n",
       "  'CurrentFiscalYearStartDate': '2021-04-01',\n",
       "  'CurrentFiscalYearEndDate': '2022-03-31',\n",
       "  'NextFiscalYearStartDate': '2022-04-01',\n",
       "  'NextFiscalYearEndDate': '2023-03-31',\n",
       "  'NetSales': '135432000000',\n",
       "  'OperatingProfit': '73473000000',\n",
       "  'OrdinaryProfit': '',\n",
       "  'Profit': '49955000000',\n",
       "  'EarningsPerShare': '94.35',\n",
       "  'DilutedEarningsPerShare': '',\n",
       "  'TotalAssets': '71463434000000',\n",
       "  'Equity': '323852000000',\n",
       "  'EquityToAssetRatio': '0.004',\n",
       "  'BookValuePerShare': '598.35',\n",
       "  'CashFlowsFromOperatingActivities': '58191000000',\n",
       "  'CashFlowsFromInvestingActivities': '-13299000000',\n",
       "  'CashFlowsFromFinancingActivities': '-59747000000',\n",
       "  'CashAndEquivalents': '93354000000',\n",
       "  'ResultDividendPerShare1stQuarter': '',\n",
       "  'ResultDividendPerShare2ndQuarter': '26.0',\n",
       "  'ResultDividendPerShare3rdQuarter': '',\n",
       "  'ResultDividendPerShareFiscalYearEnd': '46.0',\n",
       "  'ResultDividendPerShareAnnual': '72.0',\n",
       "  'DistributionsPerUnit(REIT)': '',\n",
       "  'ResultTotalDividendPaidAnnual': '38057000000',\n",
       "  'ResultPayoutRatioAnnual': '0.763',\n",
       "  'ForecastDividendPerShare1stQuarter': '',\n",
       "  'ForecastDividendPerShare2ndQuarter': '',\n",
       "  'ForecastDividendPerShare3rdQuarter': '',\n",
       "  'ForecastDividendPerShareFiscalYearEnd': '',\n",
       "  'ForecastDividendPerShareAnnual': '',\n",
       "  'ForecastDistributionsPerUnit(REIT)': '',\n",
       "  'ForecastTotalDividendPaidAnnual': '',\n",
       "  'ForecastPayoutRatioAnnual': '',\n",
       "  'NextYearForecastDividendPerShare1stQuarter': '',\n",
       "  'NextYearForecastDividendPerShare2ndQuarter': '26.0',\n",
       "  'NextYearForecastDividendPerShare3rdQuarter': '',\n",
       "  'NextYearForecastDividendPerShareFiscalYearEnd': '26.0',\n",
       "  'NextYearForecastDividendPerShareAnnual': '52.0',\n",
       "  'NextYearForecastDistributionsPerUnit(REIT)': '',\n",
       "  'NextYearForecastPayoutRatioAnnual': '0.61',\n",
       "  'ForecastNetSales2ndQuarter': '',\n",
       "  'ForecastOperatingProfit2ndQuarter': '',\n",
       "  'ForecastOrdinaryProfit2ndQuarter': '',\n",
       "  'ForecastProfit2ndQuarter': '',\n",
       "  'ForecastEarningsPerShare2ndQuarter': '',\n",
       "  'NextYearForecastNetSales2ndQuarter': '',\n",
       "  'NextYearForecastOperatingProfit2ndQuarter': '',\n",
       "  'NextYearForecastOrdinaryProfit2ndQuarter': '',\n",
       "  'NextYearForecastProfit2ndQuarter': '',\n",
       "  'NextYearForecastEarningsPerShare2ndQuarter': '',\n",
       "  'ForecastNetSales': '',\n",
       "  'ForecastOperatingProfit': '',\n",
       "  'ForecastOrdinaryProfit': '',\n",
       "  'ForecastProfit': '',\n",
       "  'ForecastEarningsPerShare': '',\n",
       "  'NextYearForecastNetSales': '132500000000',\n",
       "  'NextYearForecastOperatingProfit': '65500000000',\n",
       "  'NextYearForecastOrdinaryProfit': '',\n",
       "  'NextYearForecastProfit': '45000000000',\n",
       "  'NextYearForecastEarningsPerShare': '85.3',\n",
       "  'MaterialChangesInSubsidiaries': 'false',\n",
       "  'ChangesBasedOnRevisionsOfAccountingStandard': 'false',\n",
       "  'ChangesOtherThanOnesBasedOnRevisionsOfAccountingStandard': 'false',\n",
       "  'ChangesInAccountingEstimates': 'false',\n",
       "  'RetrospectiveRestatement': '',\n",
       "  'NumberOfIssuedAndOutstandingSharesAtTheEndOfFiscalYearIncludingTreasuryStock': '528578441',\n",
       "  'NumberOfTreasuryStockAtTheEndOfFiscalYear': '1037782',\n",
       "  'AverageNumberOfShares': '529487172',\n",
       "  'NonConsolidatedNetSales': '52727000000',\n",
       "  'NonConsolidatedOperatingProfit': '46339000000',\n",
       "  'NonConsolidatedOrdinaryProfit': '46451000000',\n",
       "  'NonConsolidatedProfit': '43365000000',\n",
       "  'NonConsolidatedEarningsPerShare': '81.9',\n",
       "  'NonConsolidatedTotalAssets': '233153000000',\n",
       "  'NonConsolidatedEquity': '121796000000',\n",
       "  'NonConsolidatedEquityToAssetRatio': '0.522',\n",
       "  'NonConsolidatedBookValuePerShare': '230.88',\n",
       "  'ForecastNonConsolidatedNetSales2ndQuarter': '',\n",
       "  'ForecastNonConsolidatedOperatingProfit2ndQuarter': '',\n",
       "  'ForecastNonConsolidatedOrdinaryProfit2ndQuarter': '',\n",
       "  'ForecastNonConsolidatedProfit2ndQuarter': '',\n",
       "  'ForecastNonConsolidatedEarningsPerShare2ndQuarter': '',\n",
       "  'NextYearForecastNonConsolidatedNetSales2ndQuarter': '',\n",
       "  'NextYearForecastNonConsolidatedOperatingProfit2ndQuarter': '',\n",
       "  'NextYearForecastNonConsolidatedOrdinaryProfit2ndQuarter': '',\n",
       "  'NextYearForecastNonConsolidatedProfit2ndQuarter': '',\n",
       "  'NextYearForecastNonConsolidatedEarningsPerShare2ndQuarter': '',\n",
       "  'ForecastNonConsolidatedNetSales': '',\n",
       "  'ForecastNonConsolidatedOperatingProfit': '',\n",
       "  'ForecastNonConsolidatedOrdinaryProfit': '',\n",
       "  'ForecastNonConsolidatedProfit': '',\n",
       "  'ForecastNonConsolidatedEarningsPerShare': '',\n",
       "  'NextYearForecastNonConsolidatedNetSales': '',\n",
       "  'NextYearForecastNonConsolidatedOperatingProfit': '',\n",
       "  'NextYearForecastNonConsolidatedOrdinaryProfit': '',\n",
       "  'NextYearForecastNonConsolidatedProfit': '',\n",
       "  'NextYearForecastNonConsolidatedEarningsPerShare': ''},\n",
       " {'DisclosedDate': '2022-07-27',\n",
       "  'DisclosedTime': '12:00:00',\n",
       "  'LocalCode': '86970',\n",
       "  'DisclosureNumber': '20220726504583',\n",
       "  'TypeOfDocument': '1QFinancialStatements_Consolidated_IFRS',\n",
       "  'TypeOfCurrentPeriod': '1Q',\n",
       "  'CurrentPeriodStartDate': '2022-04-01',\n",
       "  'CurrentPeriodEndDate': '2022-06-30',\n",
       "  'CurrentFiscalYearStartDate': '2022-04-01',\n",
       "  'CurrentFiscalYearEndDate': '2023-03-31',\n",
       "  'NextFiscalYearStartDate': '',\n",
       "  'NextFiscalYearEndDate': '',\n",
       "  'NetSales': '33576000000',\n",
       "  'OperatingProfit': '17777000000',\n",
       "  'OrdinaryProfit': '',\n",
       "  'Profit': '12089000000',\n",
       "  'EarningsPerShare': '22.93',\n",
       "  'DilutedEarningsPerShare': '',\n",
       "  'TotalAssets': '76048180000000',\n",
       "  'Equity': '310098000000',\n",
       "  'EquityToAssetRatio': '0.004',\n",
       "  'BookValuePerShare': '',\n",
       "  'CashFlowsFromOperatingActivities': '',\n",
       "  'CashFlowsFromInvestingActivities': '',\n",
       "  'CashFlowsFromFinancingActivities': '',\n",
       "  'CashAndEquivalents': '80470000000',\n",
       "  'ResultDividendPerShare1stQuarter': '',\n",
       "  'ResultDividendPerShare2ndQuarter': '',\n",
       "  'ResultDividendPerShare3rdQuarter': '',\n",
       "  'ResultDividendPerShareFiscalYearEnd': '',\n",
       "  'ResultDividendPerShareAnnual': '',\n",
       "  'DistributionsPerUnit(REIT)': '',\n",
       "  'ResultTotalDividendPaidAnnual': '',\n",
       "  'ResultPayoutRatioAnnual': '',\n",
       "  'ForecastDividendPerShare1stQuarter': '',\n",
       "  'ForecastDividendPerShare2ndQuarter': '26.0',\n",
       "  'ForecastDividendPerShare3rdQuarter': '',\n",
       "  'ForecastDividendPerShareFiscalYearEnd': '26.0',\n",
       "  'ForecastDividendPerShareAnnual': '52.0',\n",
       "  'ForecastDistributionsPerUnit(REIT)': '',\n",
       "  'ForecastTotalDividendPaidAnnual': '',\n",
       "  'ForecastPayoutRatioAnnual': '',\n",
       "  'NextYearForecastDividendPerShare1stQuarter': '',\n",
       "  'NextYearForecastDividendPerShare2ndQuarter': '',\n",
       "  'NextYearForecastDividendPerShare3rdQuarter': '',\n",
       "  'NextYearForecastDividendPerShareFiscalYearEnd': '',\n",
       "  'NextYearForecastDividendPerShareAnnual': '',\n",
       "  'NextYearForecastDistributionsPerUnit(REIT)': '',\n",
       "  'NextYearForecastPayoutRatioAnnual': '',\n",
       "  'ForecastNetSales2ndQuarter': '',\n",
       "  'ForecastOperatingProfit2ndQuarter': '',\n",
       "  'ForecastOrdinaryProfit2ndQuarter': '',\n",
       "  'ForecastProfit2ndQuarter': '',\n",
       "  'ForecastEarningsPerShare2ndQuarter': '',\n",
       "  'NextYearForecastNetSales2ndQuarter': '',\n",
       "  'NextYearForecastOperatingProfit2ndQuarter': '',\n",
       "  'NextYearForecastOrdinaryProfit2ndQuarter': '',\n",
       "  'NextYearForecastProfit2ndQuarter': '',\n",
       "  'NextYearForecastEarningsPerShare2ndQuarter': '',\n",
       "  'ForecastNetSales': '132500000000',\n",
       "  'ForecastOperatingProfit': '65500000000',\n",
       "  'ForecastOrdinaryProfit': '',\n",
       "  'ForecastProfit': '45000000000',\n",
       "  'ForecastEarningsPerShare': '85.42',\n",
       "  'NextYearForecastNetSales': '',\n",
       "  'NextYearForecastOperatingProfit': '',\n",
       "  'NextYearForecastOrdinaryProfit': '',\n",
       "  'NextYearForecastProfit': '',\n",
       "  'NextYearForecastEarningsPerShare': '',\n",
       "  'MaterialChangesInSubsidiaries': 'false',\n",
       "  'ChangesBasedOnRevisionsOfAccountingStandard': 'false',\n",
       "  'ChangesOtherThanOnesBasedOnRevisionsOfAccountingStandard': 'false',\n",
       "  'ChangesInAccountingEstimates': 'false',\n",
       "  'RetrospectiveRestatement': '',\n",
       "  'NumberOfIssuedAndOutstandingSharesAtTheEndOfFiscalYearIncludingTreasuryStock': '528578441',\n",
       "  'NumberOfTreasuryStockAtTheEndOfFiscalYear': '1938843',\n",
       "  'AverageNumberOfShares': '527204054',\n",
       "  'NonConsolidatedNetSales': '',\n",
       "  'NonConsolidatedOperatingProfit': '',\n",
       "  'NonConsolidatedOrdinaryProfit': '',\n",
       "  'NonConsolidatedProfit': '',\n",
       "  'NonConsolidatedEarningsPerShare': '',\n",
       "  'NonConsolidatedTotalAssets': '',\n",
       "  'NonConsolidatedEquity': '',\n",
       "  'NonConsolidatedEquityToAssetRatio': '',\n",
       "  'NonConsolidatedBookValuePerShare': '',\n",
       "  'ForecastNonConsolidatedNetSales2ndQuarter': '',\n",
       "  'ForecastNonConsolidatedOperatingProfit2ndQuarter': '',\n",
       "  'ForecastNonConsolidatedOrdinaryProfit2ndQuarter': '',\n",
       "  'ForecastNonConsolidatedProfit2ndQuarter': '',\n",
       "  'ForecastNonConsolidatedEarningsPerShare2ndQuarter': '',\n",
       "  'NextYearForecastNonConsolidatedNetSales2ndQuarter': '',\n",
       "  'NextYearForecastNonConsolidatedOperatingProfit2ndQuarter': '',\n",
       "  'NextYearForecastNonConsolidatedOrdinaryProfit2ndQuarter': '',\n",
       "  'NextYearForecastNonConsolidatedProfit2ndQuarter': '',\n",
       "  'NextYearForecastNonConsolidatedEarningsPerShare2ndQuarter': '',\n",
       "  'ForecastNonConsolidatedNetSales': '',\n",
       "  'ForecastNonConsolidatedOperatingProfit': '',\n",
       "  'ForecastNonConsolidatedOrdinaryProfit': '',\n",
       "  'ForecastNonConsolidatedProfit': '',\n",
       "  'ForecastNonConsolidatedEarningsPerShare': '',\n",
       "  'NextYearForecastNonConsolidatedNetSales': '',\n",
       "  'NextYearForecastNonConsolidatedOperatingProfit': '',\n",
       "  'NextYearForecastNonConsolidatedOrdinaryProfit': '',\n",
       "  'NextYearForecastNonConsolidatedProfit': '',\n",
       "  'NextYearForecastNonConsolidatedEarningsPerShare': ''},\n",
       " {'DisclosedDate': '2022-10-27',\n",
       "  'DisclosedTime': '12:00:00',\n",
       "  'LocalCode': '86970',\n",
       "  'DisclosureNumber': '20221026549969',\n",
       "  'TypeOfDocument': '2QFinancialStatements_Consolidated_IFRS',\n",
       "  'TypeOfCurrentPeriod': '2Q',\n",
       "  'CurrentPeriodStartDate': '2022-04-01',\n",
       "  'CurrentPeriodEndDate': '2022-09-30',\n",
       "  'CurrentFiscalYearStartDate': '2022-04-01',\n",
       "  'CurrentFiscalYearEndDate': '2023-03-31',\n",
       "  'NextFiscalYearStartDate': '',\n",
       "  'NextFiscalYearEndDate': '',\n",
       "  'NetSales': '66486000000',\n",
       "  'OperatingProfit': '34127000000',\n",
       "  'OrdinaryProfit': '',\n",
       "  'Profit': '23189000000',\n",
       "  'EarningsPerShare': '44.01',\n",
       "  'DilutedEarningsPerShare': '',\n",
       "  'TotalAssets': '78465370000000',\n",
       "  'Equity': '321568000000',\n",
       "  'EquityToAssetRatio': '0.004',\n",
       "  'BookValuePerShare': '',\n",
       "  'CashFlowsFromOperatingActivities': '',\n",
       "  'CashFlowsFromInvestingActivities': '',\n",
       "  'CashFlowsFromFinancingActivities': '',\n",
       "  'CashAndEquivalents': '100127000000',\n",
       "  'ResultDividendPerShare1stQuarter': '',\n",
       "  'ResultDividendPerShare2ndQuarter': '26.0',\n",
       "  'ResultDividendPerShare3rdQuarter': '',\n",
       "  'ResultDividendPerShareFiscalYearEnd': '',\n",
       "  'ResultDividendPerShareAnnual': '',\n",
       "  'DistributionsPerUnit(REIT)': '',\n",
       "  'ResultTotalDividendPaidAnnual': '',\n",
       "  'ResultPayoutRatioAnnual': '',\n",
       "  'ForecastDividendPerShare1stQuarter': '',\n",
       "  'ForecastDividendPerShare2ndQuarter': '',\n",
       "  'ForecastDividendPerShare3rdQuarter': '',\n",
       "  'ForecastDividendPerShareFiscalYearEnd': '26.0',\n",
       "  'ForecastDividendPerShareAnnual': '52.0',\n",
       "  'ForecastDistributionsPerUnit(REIT)': '',\n",
       "  'ForecastTotalDividendPaidAnnual': '',\n",
       "  'ForecastPayoutRatioAnnual': '',\n",
       "  'NextYearForecastDividendPerShare1stQuarter': '',\n",
       "  'NextYearForecastDividendPerShare2ndQuarter': '',\n",
       "  'NextYearForecastDividendPerShare3rdQuarter': '',\n",
       "  'NextYearForecastDividendPerShareFiscalYearEnd': '',\n",
       "  'NextYearForecastDividendPerShareAnnual': '',\n",
       "  'NextYearForecastDistributionsPerUnit(REIT)': '',\n",
       "  'NextYearForecastPayoutRatioAnnual': '',\n",
       "  'ForecastNetSales2ndQuarter': '',\n",
       "  'ForecastOperatingProfit2ndQuarter': '',\n",
       "  'ForecastOrdinaryProfit2ndQuarter': '',\n",
       "  'ForecastProfit2ndQuarter': '',\n",
       "  'ForecastEarningsPerShare2ndQuarter': '',\n",
       "  'NextYearForecastNetSales2ndQuarter': '',\n",
       "  'NextYearForecastOperatingProfit2ndQuarter': '',\n",
       "  'NextYearForecastOrdinaryProfit2ndQuarter': '',\n",
       "  'NextYearForecastProfit2ndQuarter': '',\n",
       "  'NextYearForecastEarningsPerShare2ndQuarter': '',\n",
       "  'ForecastNetSales': '132500000000',\n",
       "  'ForecastOperatingProfit': '65500000000',\n",
       "  'ForecastOrdinaryProfit': '',\n",
       "  'ForecastProfit': '45000000000',\n",
       "  'ForecastEarningsPerShare': '85.42',\n",
       "  'NextYearForecastNetSales': '',\n",
       "  'NextYearForecastOperatingProfit': '',\n",
       "  'NextYearForecastOrdinaryProfit': '',\n",
       "  'NextYearForecastProfit': '',\n",
       "  'NextYearForecastEarningsPerShare': '',\n",
       "  'MaterialChangesInSubsidiaries': 'false',\n",
       "  'ChangesBasedOnRevisionsOfAccountingStandard': 'false',\n",
       "  'ChangesOtherThanOnesBasedOnRevisionsOfAccountingStandard': 'false',\n",
       "  'ChangesInAccountingEstimates': 'true',\n",
       "  'RetrospectiveRestatement': '',\n",
       "  'NumberOfIssuedAndOutstandingSharesAtTheEndOfFiscalYearIncludingTreasuryStock': '528578441',\n",
       "  'NumberOfTreasuryStockAtTheEndOfFiscalYear': '1861043',\n",
       "  'AverageNumberOfShares': '526953869',\n",
       "  'NonConsolidatedNetSales': '',\n",
       "  'NonConsolidatedOperatingProfit': '',\n",
       "  'NonConsolidatedOrdinaryProfit': '',\n",
       "  'NonConsolidatedProfit': '',\n",
       "  'NonConsolidatedEarningsPerShare': '',\n",
       "  'NonConsolidatedTotalAssets': '',\n",
       "  'NonConsolidatedEquity': '',\n",
       "  'NonConsolidatedEquityToAssetRatio': '',\n",
       "  'NonConsolidatedBookValuePerShare': '',\n",
       "  'ForecastNonConsolidatedNetSales2ndQuarter': '',\n",
       "  'ForecastNonConsolidatedOperatingProfit2ndQuarter': '',\n",
       "  'ForecastNonConsolidatedOrdinaryProfit2ndQuarter': '',\n",
       "  'ForecastNonConsolidatedProfit2ndQuarter': '',\n",
       "  'ForecastNonConsolidatedEarningsPerShare2ndQuarter': '',\n",
       "  'NextYearForecastNonConsolidatedNetSales2ndQuarter': '',\n",
       "  'NextYearForecastNonConsolidatedOperatingProfit2ndQuarter': '',\n",
       "  'NextYearForecastNonConsolidatedOrdinaryProfit2ndQuarter': '',\n",
       "  'NextYearForecastNonConsolidatedProfit2ndQuarter': '',\n",
       "  'NextYearForecastNonConsolidatedEarningsPerShare2ndQuarter': '',\n",
       "  'ForecastNonConsolidatedNetSales': '',\n",
       "  'ForecastNonConsolidatedOperatingProfit': '',\n",
       "  'ForecastNonConsolidatedOrdinaryProfit': '',\n",
       "  'ForecastNonConsolidatedProfit': '',\n",
       "  'ForecastNonConsolidatedEarningsPerShare': '',\n",
       "  'NextYearForecastNonConsolidatedNetSales': '',\n",
       "  'NextYearForecastNonConsolidatedOperatingProfit': '',\n",
       "  'NextYearForecastNonConsolidatedOrdinaryProfit': '',\n",
       "  'NextYearForecastNonConsolidatedProfit': '',\n",
       "  'NextYearForecastNonConsolidatedEarningsPerShare': ''},\n",
       " {'DisclosedDate': '2023-01-30',\n",
       "  'DisclosedTime': '12:00:00',\n",
       "  'LocalCode': '86970',\n",
       "  'DisclosureNumber': '20230127594871',\n",
       "  'TypeOfDocument': '3QFinancialStatements_Consolidated_IFRS',\n",
       "  'TypeOfCurrentPeriod': '3Q',\n",
       "  'CurrentPeriodStartDate': '2022-04-01',\n",
       "  'CurrentPeriodEndDate': '2022-12-31',\n",
       "  'CurrentFiscalYearStartDate': '2022-04-01',\n",
       "  'CurrentFiscalYearEndDate': '2023-03-31',\n",
       "  'NextFiscalYearStartDate': '',\n",
       "  'NextFiscalYearEndDate': '',\n",
       "  'NetSales': '100529000000',\n",
       "  'OperatingProfit': '51765000000',\n",
       "  'OrdinaryProfit': '',\n",
       "  'Profit': '35175000000',\n",
       "  'EarningsPerShare': '66.76',\n",
       "  'DilutedEarningsPerShare': '',\n",
       "  'TotalAssets': '79205861000000',\n",
       "  'Equity': '320021000000',\n",
       "  'EquityToAssetRatio': '0.004',\n",
       "  'BookValuePerShare': '',\n",
       "  'CashFlowsFromOperatingActivities': '',\n",
       "  'CashFlowsFromInvestingActivities': '',\n",
       "  'CashFlowsFromFinancingActivities': '',\n",
       "  'CashAndEquivalents': '91135000000',\n",
       "  'ResultDividendPerShare1stQuarter': '',\n",
       "  'ResultDividendPerShare2ndQuarter': '26.0',\n",
       "  'ResultDividendPerShare3rdQuarter': '',\n",
       "  'ResultDividendPerShareFiscalYearEnd': '',\n",
       "  'ResultDividendPerShareAnnual': '',\n",
       "  'DistributionsPerUnit(REIT)': '',\n",
       "  'ResultTotalDividendPaidAnnual': '',\n",
       "  'ResultPayoutRatioAnnual': '',\n",
       "  'ForecastDividendPerShare1stQuarter': '',\n",
       "  'ForecastDividendPerShare2ndQuarter': '',\n",
       "  'ForecastDividendPerShare3rdQuarter': '',\n",
       "  'ForecastDividendPerShareFiscalYearEnd': '36.0',\n",
       "  'ForecastDividendPerShareAnnual': '62.0',\n",
       "  'ForecastDistributionsPerUnit(REIT)': '',\n",
       "  'ForecastTotalDividendPaidAnnual': '',\n",
       "  'ForecastPayoutRatioAnnual': '',\n",
       "  'NextYearForecastDividendPerShare1stQuarter': '',\n",
       "  'NextYearForecastDividendPerShare2ndQuarter': '',\n",
       "  'NextYearForecastDividendPerShare3rdQuarter': '',\n",
       "  'NextYearForecastDividendPerShareFiscalYearEnd': '',\n",
       "  'NextYearForecastDividendPerShareAnnual': '',\n",
       "  'NextYearForecastDistributionsPerUnit(REIT)': '',\n",
       "  'NextYearForecastPayoutRatioAnnual': '',\n",
       "  'ForecastNetSales2ndQuarter': '',\n",
       "  'ForecastOperatingProfit2ndQuarter': '',\n",
       "  'ForecastOrdinaryProfit2ndQuarter': '',\n",
       "  'ForecastProfit2ndQuarter': '',\n",
       "  'ForecastEarningsPerShare2ndQuarter': '',\n",
       "  'NextYearForecastNetSales2ndQuarter': '',\n",
       "  'NextYearForecastOperatingProfit2ndQuarter': '',\n",
       "  'NextYearForecastOrdinaryProfit2ndQuarter': '',\n",
       "  'NextYearForecastProfit2ndQuarter': '',\n",
       "  'NextYearForecastEarningsPerShare2ndQuarter': '',\n",
       "  'ForecastNetSales': '132500000000',\n",
       "  'ForecastOperatingProfit': '65500000000',\n",
       "  'ForecastOrdinaryProfit': '',\n",
       "  'ForecastProfit': '45000000000',\n",
       "  'ForecastEarningsPerShare': '85.42',\n",
       "  'NextYearForecastNetSales': '',\n",
       "  'NextYearForecastOperatingProfit': '',\n",
       "  'NextYearForecastOrdinaryProfit': '',\n",
       "  'NextYearForecastProfit': '',\n",
       "  'NextYearForecastEarningsPerShare': '',\n",
       "  'MaterialChangesInSubsidiaries': 'false',\n",
       "  'ChangesBasedOnRevisionsOfAccountingStandard': 'false',\n",
       "  'ChangesOtherThanOnesBasedOnRevisionsOfAccountingStandard': 'false',\n",
       "  'ChangesInAccountingEstimates': 'true',\n",
       "  'RetrospectiveRestatement': '',\n",
       "  'NumberOfIssuedAndOutstandingSharesAtTheEndOfFiscalYearIncludingTreasuryStock': '528578441',\n",
       "  'NumberOfTreasuryStockAtTheEndOfFiscalYear': '1861043',\n",
       "  'AverageNumberOfShares': '526874759',\n",
       "  'NonConsolidatedNetSales': '',\n",
       "  'NonConsolidatedOperatingProfit': '',\n",
       "  'NonConsolidatedOrdinaryProfit': '',\n",
       "  'NonConsolidatedProfit': '',\n",
       "  'NonConsolidatedEarningsPerShare': '',\n",
       "  'NonConsolidatedTotalAssets': '',\n",
       "  'NonConsolidatedEquity': '',\n",
       "  'NonConsolidatedEquityToAssetRatio': '',\n",
       "  'NonConsolidatedBookValuePerShare': '',\n",
       "  'ForecastNonConsolidatedNetSales2ndQuarter': '',\n",
       "  'ForecastNonConsolidatedOperatingProfit2ndQuarter': '',\n",
       "  'ForecastNonConsolidatedOrdinaryProfit2ndQuarter': '',\n",
       "  'ForecastNonConsolidatedProfit2ndQuarter': '',\n",
       "  'ForecastNonConsolidatedEarningsPerShare2ndQuarter': '',\n",
       "  'NextYearForecastNonConsolidatedNetSales2ndQuarter': '',\n",
       "  'NextYearForecastNonConsolidatedOperatingProfit2ndQuarter': '',\n",
       "  'NextYearForecastNonConsolidatedOrdinaryProfit2ndQuarter': '',\n",
       "  'NextYearForecastNonConsolidatedProfit2ndQuarter': '',\n",
       "  'NextYearForecastNonConsolidatedEarningsPerShare2ndQuarter': '',\n",
       "  'ForecastNonConsolidatedNetSales': '',\n",
       "  'ForecastNonConsolidatedOperatingProfit': '',\n",
       "  'ForecastNonConsolidatedOrdinaryProfit': '',\n",
       "  'ForecastNonConsolidatedProfit': '',\n",
       "  'ForecastNonConsolidatedEarningsPerShare': '',\n",
       "  'NextYearForecastNonConsolidatedNetSales': '',\n",
       "  'NextYearForecastNonConsolidatedOperatingProfit': '',\n",
       "  'NextYearForecastNonConsolidatedOrdinaryProfit': '',\n",
       "  'NextYearForecastNonConsolidatedProfit': '',\n",
       "  'NextYearForecastNonConsolidatedEarningsPerShare': ''},\n",
       " {'DisclosedDate': '2023-03-22',\n",
       "  'DisclosedTime': '15:30:00',\n",
       "  'LocalCode': '86970',\n",
       "  'DisclosureNumber': '20230320533109',\n",
       "  'TypeOfDocument': 'EarnForecastRevision',\n",
       "  'TypeOfCurrentPeriod': 'FY',\n",
       "  'CurrentPeriodStartDate': '2022-04-01',\n",
       "  'CurrentPeriodEndDate': '2023-03-31',\n",
       "  'CurrentFiscalYearStartDate': '2022-04-01',\n",
       "  'CurrentFiscalYearEndDate': '2023-03-31',\n",
       "  'NextFiscalYearStartDate': '',\n",
       "  'NextFiscalYearEndDate': '',\n",
       "  'NetSales': '',\n",
       "  'OperatingProfit': '',\n",
       "  'OrdinaryProfit': '',\n",
       "  'Profit': '',\n",
       "  'EarningsPerShare': '',\n",
       "  'DilutedEarningsPerShare': '',\n",
       "  'TotalAssets': '',\n",
       "  'Equity': '',\n",
       "  'EquityToAssetRatio': '',\n",
       "  'BookValuePerShare': '',\n",
       "  'CashFlowsFromOperatingActivities': '',\n",
       "  'CashFlowsFromInvestingActivities': '',\n",
       "  'CashFlowsFromFinancingActivities': '',\n",
       "  'CashAndEquivalents': '',\n",
       "  'ResultDividendPerShare1stQuarter': '',\n",
       "  'ResultDividendPerShare2ndQuarter': '',\n",
       "  'ResultDividendPerShare3rdQuarter': '',\n",
       "  'ResultDividendPerShareFiscalYearEnd': '',\n",
       "  'ResultDividendPerShareAnnual': '',\n",
       "  'DistributionsPerUnit(REIT)': '',\n",
       "  'ResultTotalDividendPaidAnnual': '',\n",
       "  'ResultPayoutRatioAnnual': '',\n",
       "  'ForecastDividendPerShare1stQuarter': '',\n",
       "  'ForecastDividendPerShare2ndQuarter': '',\n",
       "  'ForecastDividendPerShare3rdQuarter': '',\n",
       "  'ForecastDividendPerShareFiscalYearEnd': '37.0',\n",
       "  'ForecastDividendPerShareAnnual': '63.0',\n",
       "  'ForecastDistributionsPerUnit(REIT)': '',\n",
       "  'ForecastTotalDividendPaidAnnual': '',\n",
       "  'ForecastPayoutRatioAnnual': '',\n",
       "  'NextYearForecastDividendPerShare1stQuarter': '',\n",
       "  'NextYearForecastDividendPerShare2ndQuarter': '',\n",
       "  'NextYearForecastDividendPerShare3rdQuarter': '',\n",
       "  'NextYearForecastDividendPerShareFiscalYearEnd': '',\n",
       "  'NextYearForecastDividendPerShareAnnual': '',\n",
       "  'NextYearForecastDistributionsPerUnit(REIT)': '',\n",
       "  'NextYearForecastPayoutRatioAnnual': '',\n",
       "  'ForecastNetSales2ndQuarter': '',\n",
       "  'ForecastOperatingProfit2ndQuarter': '',\n",
       "  'ForecastOrdinaryProfit2ndQuarter': '',\n",
       "  'ForecastProfit2ndQuarter': '',\n",
       "  'ForecastEarningsPerShare2ndQuarter': '',\n",
       "  'NextYearForecastNetSales2ndQuarter': '',\n",
       "  'NextYearForecastOperatingProfit2ndQuarter': '',\n",
       "  'NextYearForecastOrdinaryProfit2ndQuarter': '',\n",
       "  'NextYearForecastProfit2ndQuarter': '',\n",
       "  'NextYearForecastEarningsPerShare2ndQuarter': '',\n",
       "  'ForecastNetSales': '134000000000',\n",
       "  'ForecastOperatingProfit': '68000000000',\n",
       "  'ForecastOrdinaryProfit': '',\n",
       "  'ForecastProfit': '46300000000',\n",
       "  'ForecastEarningsPerShare': '87.93',\n",
       "  'NextYearForecastNetSales': '',\n",
       "  'NextYearForecastOperatingProfit': '',\n",
       "  'NextYearForecastOrdinaryProfit': '',\n",
       "  'NextYearForecastProfit': '',\n",
       "  'NextYearForecastEarningsPerShare': '',\n",
       "  'MaterialChangesInSubsidiaries': '',\n",
       "  'ChangesBasedOnRevisionsOfAccountingStandard': '',\n",
       "  'ChangesOtherThanOnesBasedOnRevisionsOfAccountingStandard': '',\n",
       "  'ChangesInAccountingEstimates': '',\n",
       "  'RetrospectiveRestatement': '',\n",
       "  'NumberOfIssuedAndOutstandingSharesAtTheEndOfFiscalYearIncludingTreasuryStock': '',\n",
       "  'NumberOfTreasuryStockAtTheEndOfFiscalYear': '',\n",
       "  'AverageNumberOfShares': '',\n",
       "  'NonConsolidatedNetSales': '',\n",
       "  'NonConsolidatedOperatingProfit': '',\n",
       "  'NonConsolidatedOrdinaryProfit': '',\n",
       "  'NonConsolidatedProfit': '',\n",
       "  'NonConsolidatedEarningsPerShare': '',\n",
       "  'NonConsolidatedTotalAssets': '',\n",
       "  'NonConsolidatedEquity': '',\n",
       "  'NonConsolidatedEquityToAssetRatio': '',\n",
       "  'NonConsolidatedBookValuePerShare': '',\n",
       "  'ForecastNonConsolidatedNetSales2ndQuarter': '',\n",
       "  'ForecastNonConsolidatedOperatingProfit2ndQuarter': '',\n",
       "  'ForecastNonConsolidatedOrdinaryProfit2ndQuarter': '',\n",
       "  'ForecastNonConsolidatedProfit2ndQuarter': '',\n",
       "  'ForecastNonConsolidatedEarningsPerShare2ndQuarter': '',\n",
       "  'NextYearForecastNonConsolidatedNetSales2ndQuarter': '',\n",
       "  'NextYearForecastNonConsolidatedOperatingProfit2ndQuarter': '',\n",
       "  'NextYearForecastNonConsolidatedOrdinaryProfit2ndQuarter': '',\n",
       "  'NextYearForecastNonConsolidatedProfit2ndQuarter': '',\n",
       "  'NextYearForecastNonConsolidatedEarningsPerShare2ndQuarter': '',\n",
       "  'ForecastNonConsolidatedNetSales': '',\n",
       "  'ForecastNonConsolidatedOperatingProfit': '',\n",
       "  'ForecastNonConsolidatedOrdinaryProfit': '',\n",
       "  'ForecastNonConsolidatedProfit': '',\n",
       "  'ForecastNonConsolidatedEarningsPerShare': '',\n",
       "  'NextYearForecastNonConsolidatedNetSales': '',\n",
       "  'NextYearForecastNonConsolidatedOperatingProfit': '',\n",
       "  'NextYearForecastNonConsolidatedOrdinaryProfit': '',\n",
       "  'NextYearForecastNonConsolidatedProfit': '',\n",
       "  'NextYearForecastNonConsolidatedEarningsPerShare': ''},\n",
       " {'DisclosedDate': '2023-04-27',\n",
       "  'DisclosedTime': '12:00:00',\n",
       "  'LocalCode': '86970',\n",
       "  'DisclosureNumber': '20230425552021',\n",
       "  'TypeOfDocument': 'FYFinancialStatements_Consolidated_IFRS',\n",
       "  'TypeOfCurrentPeriod': 'FY',\n",
       "  'CurrentPeriodStartDate': '2022-04-01',\n",
       "  'CurrentPeriodEndDate': '2023-03-31',\n",
       "  'CurrentFiscalYearStartDate': '2022-04-01',\n",
       "  'CurrentFiscalYearEndDate': '2023-03-31',\n",
       "  'NextFiscalYearStartDate': '2023-04-01',\n",
       "  'NextFiscalYearEndDate': '2024-03-31',\n",
       "  'NetSales': '133991000000',\n",
       "  'OperatingProfit': '68253000000',\n",
       "  'OrdinaryProfit': '',\n",
       "  'Profit': '46342000000',\n",
       "  'EarningsPerShare': '88.03',\n",
       "  'DilutedEarningsPerShare': '',\n",
       "  'TotalAssets': '82187392000000',\n",
       "  'Equity': '321809000000',\n",
       "  'EquityToAssetRatio': '0.004',\n",
       "  'BookValuePerShare': '599.47',\n",
       "  'CashFlowsFromOperatingActivities': '66878000000',\n",
       "  'CashFlowsFromInvestingActivities': '-8522000000',\n",
       "  'CashFlowsFromFinancingActivities': '-52898000000',\n",
       "  'CashAndEquivalents': '98812000000',\n",
       "  'ResultDividendPerShare1stQuarter': '',\n",
       "  'ResultDividendPerShare2ndQuarter': '26.0',\n",
       "  'ResultDividendPerShare3rdQuarter': '',\n",
       "  'ResultDividendPerShareFiscalYearEnd': '37.0',\n",
       "  'ResultDividendPerShareAnnual': '63.0',\n",
       "  'DistributionsPerUnit(REIT)': '',\n",
       "  'ResultTotalDividendPaidAnnual': '33114000000',\n",
       "  'ResultPayoutRatioAnnual': '0.716',\n",
       "  'ForecastDividendPerShare1stQuarter': '',\n",
       "  'ForecastDividendPerShare2ndQuarter': '',\n",
       "  'ForecastDividendPerShare3rdQuarter': '',\n",
       "  'ForecastDividendPerShareFiscalYearEnd': '',\n",
       "  'ForecastDividendPerShareAnnual': '',\n",
       "  'ForecastDistributionsPerUnit(REIT)': '',\n",
       "  'ForecastTotalDividendPaidAnnual': '',\n",
       "  'ForecastPayoutRatioAnnual': '',\n",
       "  'NextYearForecastDividendPerShare1stQuarter': '',\n",
       "  'NextYearForecastDividendPerShare2ndQuarter': '28.0',\n",
       "  'NextYearForecastDividendPerShare3rdQuarter': '',\n",
       "  'NextYearForecastDividendPerShareFiscalYearEnd': '29.0',\n",
       "  'NextYearForecastDividendPerShareAnnual': '57.0',\n",
       "  'NextYearForecastDistributionsPerUnit(REIT)': '',\n",
       "  'NextYearForecastPayoutRatioAnnual': '0.607',\n",
       "  'ForecastNetSales2ndQuarter': '',\n",
       "  'ForecastOperatingProfit2ndQuarter': '',\n",
       "  'ForecastOrdinaryProfit2ndQuarter': '',\n",
       "  'ForecastProfit2ndQuarter': '',\n",
       "  'ForecastEarningsPerShare2ndQuarter': '',\n",
       "  'NextYearForecastNetSales2ndQuarter': '',\n",
       "  'NextYearForecastOperatingProfit2ndQuarter': '',\n",
       "  'NextYearForecastOrdinaryProfit2ndQuarter': '',\n",
       "  'NextYearForecastProfit2ndQuarter': '',\n",
       "  'NextYearForecastEarningsPerShare2ndQuarter': '',\n",
       "  'ForecastNetSales': '',\n",
       "  'ForecastOperatingProfit': '',\n",
       "  'ForecastOrdinaryProfit': '',\n",
       "  'ForecastProfit': '',\n",
       "  'ForecastEarningsPerShare': '',\n",
       "  'NextYearForecastNetSales': '134500000000',\n",
       "  'NextYearForecastOperatingProfit': '68500000000',\n",
       "  'NextYearForecastOrdinaryProfit': '',\n",
       "  'NextYearForecastProfit': '49000000000',\n",
       "  'NextYearForecastEarningsPerShare': '93.93',\n",
       "  'MaterialChangesInSubsidiaries': 'false',\n",
       "  'ChangesBasedOnRevisionsOfAccountingStandard': 'false',\n",
       "  'ChangesOtherThanOnesBasedOnRevisionsOfAccountingStandard': 'false',\n",
       "  'ChangesInAccountingEstimates': 'true',\n",
       "  'RetrospectiveRestatement': '',\n",
       "  'NumberOfIssuedAndOutstandingSharesAtTheEndOfFiscalYearIncludingTreasuryStock': '528578441',\n",
       "  'NumberOfTreasuryStockAtTheEndOfFiscalYear': '6891928',\n",
       "  'AverageNumberOfShares': '526414670',\n",
       "  'NonConsolidatedNetSales': '37975000000',\n",
       "  'NonConsolidatedOperatingProfit': '30787000000',\n",
       "  'NonConsolidatedOrdinaryProfit': '31029000000',\n",
       "  'NonConsolidatedProfit': '30387000000',\n",
       "  'NonConsolidatedEarningsPerShare': '57.73',\n",
       "  'NonConsolidatedTotalAssets': '211678000000',\n",
       "  'NonConsolidatedEquity': '102440000000',\n",
       "  'NonConsolidatedEquityToAssetRatio': '0.484',\n",
       "  'NonConsolidatedBookValuePerShare': '196.36',\n",
       "  'ForecastNonConsolidatedNetSales2ndQuarter': '',\n",
       "  'ForecastNonConsolidatedOperatingProfit2ndQuarter': '',\n",
       "  'ForecastNonConsolidatedOrdinaryProfit2ndQuarter': '',\n",
       "  'ForecastNonConsolidatedProfit2ndQuarter': '',\n",
       "  'ForecastNonConsolidatedEarningsPerShare2ndQuarter': '',\n",
       "  'NextYearForecastNonConsolidatedNetSales2ndQuarter': '',\n",
       "  'NextYearForecastNonConsolidatedOperatingProfit2ndQuarter': '',\n",
       "  'NextYearForecastNonConsolidatedOrdinaryProfit2ndQuarter': '',\n",
       "  'NextYearForecastNonConsolidatedProfit2ndQuarter': '',\n",
       "  'NextYearForecastNonConsolidatedEarningsPerShare2ndQuarter': '',\n",
       "  'ForecastNonConsolidatedNetSales': '',\n",
       "  'ForecastNonConsolidatedOperatingProfit': '',\n",
       "  'ForecastNonConsolidatedOrdinaryProfit': '',\n",
       "  'ForecastNonConsolidatedProfit': '',\n",
       "  'ForecastNonConsolidatedEarningsPerShare': '',\n",
       "  'NextYearForecastNonConsolidatedNetSales': '',\n",
       "  'NextYearForecastNonConsolidatedOperatingProfit': '',\n",
       "  'NextYearForecastNonConsolidatedOrdinaryProfit': '',\n",
       "  'NextYearForecastNonConsolidatedProfit': '',\n",
       "  'NextYearForecastNonConsolidatedEarningsPerShare': ''},\n",
       " {'DisclosedDate': '2023-07-28',\n",
       "  'DisclosedTime': '12:00:00',\n",
       "  'LocalCode': '86970',\n",
       "  'DisclosureNumber': '20230727528570',\n",
       "  'TypeOfDocument': '1QFinancialStatements_Consolidated_IFRS',\n",
       "  'TypeOfCurrentPeriod': '1Q',\n",
       "  'CurrentPeriodStartDate': '2023-04-01',\n",
       "  'CurrentPeriodEndDate': '2023-06-30',\n",
       "  'CurrentFiscalYearStartDate': '2023-04-01',\n",
       "  'CurrentFiscalYearEndDate': '2024-03-31',\n",
       "  'NextFiscalYearStartDate': '',\n",
       "  'NextFiscalYearEndDate': '',\n",
       "  'NetSales': '36953000000',\n",
       "  'OperatingProfit': '25038000000',\n",
       "  'OrdinaryProfit': '',\n",
       "  'Profit': '17736000000',\n",
       "  'EarningsPerShare': '34.08',\n",
       "  'DilutedEarningsPerShare': '',\n",
       "  'TotalAssets': '74174323000000',\n",
       "  'Equity': '317374000000',\n",
       "  'EquityToAssetRatio': '0.004',\n",
       "  'BookValuePerShare': '',\n",
       "  'CashFlowsFromOperatingActivities': '',\n",
       "  'CashFlowsFromInvestingActivities': '',\n",
       "  'CashFlowsFromFinancingActivities': '',\n",
       "  'CashAndEquivalents': '85844000000',\n",
       "  'ResultDividendPerShare1stQuarter': '',\n",
       "  'ResultDividendPerShare2ndQuarter': '',\n",
       "  'ResultDividendPerShare3rdQuarter': '',\n",
       "  'ResultDividendPerShareFiscalYearEnd': '',\n",
       "  'ResultDividendPerShareAnnual': '',\n",
       "  'DistributionsPerUnit(REIT)': '',\n",
       "  'ResultTotalDividendPaidAnnual': '',\n",
       "  'ResultPayoutRatioAnnual': '',\n",
       "  'ForecastDividendPerShare1stQuarter': '',\n",
       "  'ForecastDividendPerShare2ndQuarter': '28.0',\n",
       "  'ForecastDividendPerShare3rdQuarter': '',\n",
       "  'ForecastDividendPerShareFiscalYearEnd': '29.0',\n",
       "  'ForecastDividendPerShareAnnual': '57.0',\n",
       "  'ForecastDistributionsPerUnit(REIT)': '',\n",
       "  'ForecastTotalDividendPaidAnnual': '',\n",
       "  'ForecastPayoutRatioAnnual': '',\n",
       "  'NextYearForecastDividendPerShare1stQuarter': '',\n",
       "  'NextYearForecastDividendPerShare2ndQuarter': '',\n",
       "  'NextYearForecastDividendPerShare3rdQuarter': '',\n",
       "  'NextYearForecastDividendPerShareFiscalYearEnd': '',\n",
       "  'NextYearForecastDividendPerShareAnnual': '',\n",
       "  'NextYearForecastDistributionsPerUnit(REIT)': '',\n",
       "  'NextYearForecastPayoutRatioAnnual': '',\n",
       "  'ForecastNetSales2ndQuarter': '',\n",
       "  'ForecastOperatingProfit2ndQuarter': '',\n",
       "  'ForecastOrdinaryProfit2ndQuarter': '',\n",
       "  'ForecastProfit2ndQuarter': '',\n",
       "  'ForecastEarningsPerShare2ndQuarter': '',\n",
       "  'NextYearForecastNetSales2ndQuarter': '',\n",
       "  'NextYearForecastOperatingProfit2ndQuarter': '',\n",
       "  'NextYearForecastOrdinaryProfit2ndQuarter': '',\n",
       "  'NextYearForecastProfit2ndQuarter': '',\n",
       "  'NextYearForecastEarningsPerShare2ndQuarter': '',\n",
       "  'ForecastNetSales': '134500000000',\n",
       "  'ForecastOperatingProfit': '68500000000',\n",
       "  'ForecastOrdinaryProfit': '',\n",
       "  'ForecastProfit': '49000000000',\n",
       "  'ForecastEarningsPerShare': '94.19',\n",
       "  'NextYearForecastNetSales': '',\n",
       "  'NextYearForecastOperatingProfit': '',\n",
       "  'NextYearForecastOrdinaryProfit': '',\n",
       "  'NextYearForecastProfit': '',\n",
       "  'NextYearForecastEarningsPerShare': '',\n",
       "  'MaterialChangesInSubsidiaries': 'false',\n",
       "  'ChangesBasedOnRevisionsOfAccountingStandard': 'false',\n",
       "  'ChangesOtherThanOnesBasedOnRevisionsOfAccountingStandard': 'false',\n",
       "  'ChangesInAccountingEstimates': 'false',\n",
       "  'RetrospectiveRestatement': '',\n",
       "  'NumberOfIssuedAndOutstandingSharesAtTheEndOfFiscalYearIncludingTreasuryStock': '528578441',\n",
       "  'NumberOfTreasuryStockAtTheEndOfFiscalYear': '8384491',\n",
       "  'AverageNumberOfShares': '520398562',\n",
       "  'NonConsolidatedNetSales': '',\n",
       "  'NonConsolidatedOperatingProfit': '',\n",
       "  'NonConsolidatedOrdinaryProfit': '',\n",
       "  'NonConsolidatedProfit': '',\n",
       "  'NonConsolidatedEarningsPerShare': '',\n",
       "  'NonConsolidatedTotalAssets': '',\n",
       "  'NonConsolidatedEquity': '',\n",
       "  'NonConsolidatedEquityToAssetRatio': '',\n",
       "  'NonConsolidatedBookValuePerShare': '',\n",
       "  'ForecastNonConsolidatedNetSales2ndQuarter': '',\n",
       "  'ForecastNonConsolidatedOperatingProfit2ndQuarter': '',\n",
       "  'ForecastNonConsolidatedOrdinaryProfit2ndQuarter': '',\n",
       "  'ForecastNonConsolidatedProfit2ndQuarter': '',\n",
       "  'ForecastNonConsolidatedEarningsPerShare2ndQuarter': '',\n",
       "  'NextYearForecastNonConsolidatedNetSales2ndQuarter': '',\n",
       "  'NextYearForecastNonConsolidatedOperatingProfit2ndQuarter': '',\n",
       "  'NextYearForecastNonConsolidatedOrdinaryProfit2ndQuarter': '',\n",
       "  'NextYearForecastNonConsolidatedProfit2ndQuarter': '',\n",
       "  'NextYearForecastNonConsolidatedEarningsPerShare2ndQuarter': '',\n",
       "  'ForecastNonConsolidatedNetSales': '',\n",
       "  'ForecastNonConsolidatedOperatingProfit': '',\n",
       "  'ForecastNonConsolidatedOrdinaryProfit': '',\n",
       "  'ForecastNonConsolidatedProfit': '',\n",
       "  'ForecastNonConsolidatedEarningsPerShare': '',\n",
       "  'NextYearForecastNonConsolidatedNetSales': '',\n",
       "  'NextYearForecastNonConsolidatedOperatingProfit': '',\n",
       "  'NextYearForecastNonConsolidatedOrdinaryProfit': '',\n",
       "  'NextYearForecastNonConsolidatedProfit': '',\n",
       "  'NextYearForecastNonConsolidatedEarningsPerShare': ''},\n",
       " {'DisclosedDate': '2023-09-25',\n",
       "  'DisclosedTime': '15:30:00',\n",
       "  'LocalCode': '86970',\n",
       "  'DisclosureNumber': '20230922557389',\n",
       "  'TypeOfDocument': 'EarnForecastRevision',\n",
       "  'TypeOfCurrentPeriod': 'FY',\n",
       "  'CurrentPeriodStartDate': '2023-04-01',\n",
       "  'CurrentPeriodEndDate': '2024-03-31',\n",
       "  'CurrentFiscalYearStartDate': '2023-04-01',\n",
       "  'CurrentFiscalYearEndDate': '2024-03-31',\n",
       "  'NextFiscalYearStartDate': '',\n",
       "  'NextFiscalYearEndDate': '',\n",
       "  'NetSales': '',\n",
       "  'OperatingProfit': '',\n",
       "  'OrdinaryProfit': '',\n",
       "  'Profit': '',\n",
       "  'EarningsPerShare': '',\n",
       "  'DilutedEarningsPerShare': '',\n",
       "  'TotalAssets': '',\n",
       "  'Equity': '',\n",
       "  'EquityToAssetRatio': '',\n",
       "  'BookValuePerShare': '',\n",
       "  'CashFlowsFromOperatingActivities': '',\n",
       "  'CashFlowsFromInvestingActivities': '',\n",
       "  'CashFlowsFromFinancingActivities': '',\n",
       "  'CashAndEquivalents': '',\n",
       "  'ResultDividendPerShare1stQuarter': '',\n",
       "  'ResultDividendPerShare2ndQuarter': '',\n",
       "  'ResultDividendPerShare3rdQuarter': '',\n",
       "  'ResultDividendPerShareFiscalYearEnd': '',\n",
       "  'ResultDividendPerShareAnnual': '',\n",
       "  'DistributionsPerUnit(REIT)': '',\n",
       "  'ResultTotalDividendPaidAnnual': '',\n",
       "  'ResultPayoutRatioAnnual': '',\n",
       "  'ForecastDividendPerShare1stQuarter': '',\n",
       "  'ForecastDividendPerShare2ndQuarter': '31.0',\n",
       "  'ForecastDividendPerShare3rdQuarter': '',\n",
       "  'ForecastDividendPerShareFiscalYearEnd': '32.0',\n",
       "  'ForecastDividendPerShareAnnual': '63.0',\n",
       "  'ForecastDistributionsPerUnit(REIT)': '',\n",
       "  'ForecastTotalDividendPaidAnnual': '',\n",
       "  'ForecastPayoutRatioAnnual': '',\n",
       "  'NextYearForecastDividendPerShare1stQuarter': '',\n",
       "  'NextYearForecastDividendPerShare2ndQuarter': '',\n",
       "  'NextYearForecastDividendPerShare3rdQuarter': '',\n",
       "  'NextYearForecastDividendPerShareFiscalYearEnd': '',\n",
       "  'NextYearForecastDividendPerShareAnnual': '',\n",
       "  'NextYearForecastDistributionsPerUnit(REIT)': '',\n",
       "  'NextYearForecastPayoutRatioAnnual': '',\n",
       "  'ForecastNetSales2ndQuarter': '',\n",
       "  'ForecastOperatingProfit2ndQuarter': '',\n",
       "  'ForecastOrdinaryProfit2ndQuarter': '',\n",
       "  'ForecastProfit2ndQuarter': '',\n",
       "  'ForecastEarningsPerShare2ndQuarter': '',\n",
       "  'NextYearForecastNetSales2ndQuarter': '',\n",
       "  'NextYearForecastOperatingProfit2ndQuarter': '',\n",
       "  'NextYearForecastOrdinaryProfit2ndQuarter': '',\n",
       "  'NextYearForecastProfit2ndQuarter': '',\n",
       "  'NextYearForecastEarningsPerShare2ndQuarter': '',\n",
       "  'ForecastNetSales': '143000000000',\n",
       "  'ForecastOperatingProfit': '77000000000',\n",
       "  'ForecastOrdinaryProfit': '',\n",
       "  'ForecastProfit': '54000000000',\n",
       "  'ForecastEarningsPerShare': '103.8',\n",
       "  'NextYearForecastNetSales': '',\n",
       "  'NextYearForecastOperatingProfit': '',\n",
       "  'NextYearForecastOrdinaryProfit': '',\n",
       "  'NextYearForecastProfit': '',\n",
       "  'NextYearForecastEarningsPerShare': '',\n",
       "  'MaterialChangesInSubsidiaries': '',\n",
       "  'ChangesBasedOnRevisionsOfAccountingStandard': '',\n",
       "  'ChangesOtherThanOnesBasedOnRevisionsOfAccountingStandard': '',\n",
       "  'ChangesInAccountingEstimates': '',\n",
       "  'RetrospectiveRestatement': '',\n",
       "  'NumberOfIssuedAndOutstandingSharesAtTheEndOfFiscalYearIncludingTreasuryStock': '',\n",
       "  'NumberOfTreasuryStockAtTheEndOfFiscalYear': '',\n",
       "  'AverageNumberOfShares': '',\n",
       "  'NonConsolidatedNetSales': '',\n",
       "  'NonConsolidatedOperatingProfit': '',\n",
       "  'NonConsolidatedOrdinaryProfit': '',\n",
       "  'NonConsolidatedProfit': '',\n",
       "  'NonConsolidatedEarningsPerShare': '',\n",
       "  'NonConsolidatedTotalAssets': '',\n",
       "  'NonConsolidatedEquity': '',\n",
       "  'NonConsolidatedEquityToAssetRatio': '',\n",
       "  'NonConsolidatedBookValuePerShare': '',\n",
       "  'ForecastNonConsolidatedNetSales2ndQuarter': '',\n",
       "  'ForecastNonConsolidatedOperatingProfit2ndQuarter': '',\n",
       "  'ForecastNonConsolidatedOrdinaryProfit2ndQuarter': '',\n",
       "  'ForecastNonConsolidatedProfit2ndQuarter': '',\n",
       "  'ForecastNonConsolidatedEarningsPerShare2ndQuarter': '',\n",
       "  'NextYearForecastNonConsolidatedNetSales2ndQuarter': '',\n",
       "  'NextYearForecastNonConsolidatedOperatingProfit2ndQuarter': '',\n",
       "  'NextYearForecastNonConsolidatedOrdinaryProfit2ndQuarter': '',\n",
       "  'NextYearForecastNonConsolidatedProfit2ndQuarter': '',\n",
       "  'NextYearForecastNonConsolidatedEarningsPerShare2ndQuarter': '',\n",
       "  'ForecastNonConsolidatedNetSales': '',\n",
       "  'ForecastNonConsolidatedOperatingProfit': '',\n",
       "  'ForecastNonConsolidatedOrdinaryProfit': '',\n",
       "  'ForecastNonConsolidatedProfit': '',\n",
       "  'ForecastNonConsolidatedEarningsPerShare': '',\n",
       "  'NextYearForecastNonConsolidatedNetSales': '',\n",
       "  'NextYearForecastNonConsolidatedOperatingProfit': '',\n",
       "  'NextYearForecastNonConsolidatedOrdinaryProfit': '',\n",
       "  'NextYearForecastNonConsolidatedProfit': '',\n",
       "  'NextYearForecastNonConsolidatedEarningsPerShare': ''},\n",
       " {'DisclosedDate': '2023-10-26',\n",
       "  'DisclosedTime': '12:00:00',\n",
       "  'LocalCode': '86970',\n",
       "  'DisclosureNumber': '20231025571764',\n",
       "  'TypeOfDocument': '2QFinancialStatements_Consolidated_IFRS',\n",
       "  'TypeOfCurrentPeriod': '2Q',\n",
       "  'CurrentPeriodStartDate': '2023-04-01',\n",
       "  'CurrentPeriodEndDate': '2023-09-30',\n",
       "  'CurrentFiscalYearStartDate': '2023-04-01',\n",
       "  'CurrentFiscalYearEndDate': '2024-03-31',\n",
       "  'NextFiscalYearStartDate': '',\n",
       "  'NextFiscalYearEndDate': '',\n",
       "  'NetSales': '73385000000',\n",
       "  'OperatingProfit': '44499000000',\n",
       "  'OrdinaryProfit': '',\n",
       "  'Profit': '31432000000',\n",
       "  'EarningsPerShare': '60.41',\n",
       "  'DilutedEarningsPerShare': '',\n",
       "  'TotalAssets': '90775523000000',\n",
       "  'Equity': '331604000000',\n",
       "  'EquityToAssetRatio': '0.004',\n",
       "  'BookValuePerShare': '',\n",
       "  'CashFlowsFromOperatingActivities': '',\n",
       "  'CashFlowsFromInvestingActivities': '',\n",
       "  'CashFlowsFromFinancingActivities': '',\n",
       "  'CashAndEquivalents': '112181000000',\n",
       "  'ResultDividendPerShare1stQuarter': '',\n",
       "  'ResultDividendPerShare2ndQuarter': '31.0',\n",
       "  'ResultDividendPerShare3rdQuarter': '',\n",
       "  'ResultDividendPerShareFiscalYearEnd': '',\n",
       "  'ResultDividendPerShareAnnual': '',\n",
       "  'DistributionsPerUnit(REIT)': '',\n",
       "  'ResultTotalDividendPaidAnnual': '',\n",
       "  'ResultPayoutRatioAnnual': '',\n",
       "  'ForecastDividendPerShare1stQuarter': '',\n",
       "  'ForecastDividendPerShare2ndQuarter': '',\n",
       "  'ForecastDividendPerShare3rdQuarter': '',\n",
       "  'ForecastDividendPerShareFiscalYearEnd': '32.0',\n",
       "  'ForecastDividendPerShareAnnual': '63.0',\n",
       "  'ForecastDistributionsPerUnit(REIT)': '',\n",
       "  'ForecastTotalDividendPaidAnnual': '',\n",
       "  'ForecastPayoutRatioAnnual': '',\n",
       "  'NextYearForecastDividendPerShare1stQuarter': '',\n",
       "  'NextYearForecastDividendPerShare2ndQuarter': '',\n",
       "  'NextYearForecastDividendPerShare3rdQuarter': '',\n",
       "  'NextYearForecastDividendPerShareFiscalYearEnd': '',\n",
       "  'NextYearForecastDividendPerShareAnnual': '',\n",
       "  'NextYearForecastDistributionsPerUnit(REIT)': '',\n",
       "  'NextYearForecastPayoutRatioAnnual': '',\n",
       "  'ForecastNetSales2ndQuarter': '',\n",
       "  'ForecastOperatingProfit2ndQuarter': '',\n",
       "  'ForecastOrdinaryProfit2ndQuarter': '',\n",
       "  'ForecastProfit2ndQuarter': '',\n",
       "  'ForecastEarningsPerShare2ndQuarter': '',\n",
       "  'NextYearForecastNetSales2ndQuarter': '',\n",
       "  'NextYearForecastOperatingProfit2ndQuarter': '',\n",
       "  'NextYearForecastOrdinaryProfit2ndQuarter': '',\n",
       "  'NextYearForecastProfit2ndQuarter': '',\n",
       "  'NextYearForecastEarningsPerShare2ndQuarter': '',\n",
       "  'ForecastNetSales': '143000000000',\n",
       "  'ForecastOperatingProfit': '77000000000',\n",
       "  'ForecastOrdinaryProfit': '',\n",
       "  'ForecastProfit': '54000000000',\n",
       "  'ForecastEarningsPerShare': '103.78',\n",
       "  'NextYearForecastNetSales': '',\n",
       "  'NextYearForecastOperatingProfit': '',\n",
       "  'NextYearForecastOrdinaryProfit': '',\n",
       "  'NextYearForecastProfit': '',\n",
       "  'NextYearForecastEarningsPerShare': '',\n",
       "  'MaterialChangesInSubsidiaries': 'false',\n",
       "  'ChangesBasedOnRevisionsOfAccountingStandard': 'false',\n",
       "  'ChangesOtherThanOnesBasedOnRevisionsOfAccountingStandard': 'false',\n",
       "  'ChangesInAccountingEstimates': 'false',\n",
       "  'RetrospectiveRestatement': '',\n",
       "  'NumberOfIssuedAndOutstandingSharesAtTheEndOfFiscalYearIncludingTreasuryStock': '528578441',\n",
       "  'NumberOfTreasuryStockAtTheEndOfFiscalYear': '8275794',\n",
       "  'AverageNumberOfShares': '520342621',\n",
       "  'NonConsolidatedNetSales': '',\n",
       "  'NonConsolidatedOperatingProfit': '',\n",
       "  'NonConsolidatedOrdinaryProfit': '',\n",
       "  'NonConsolidatedProfit': '',\n",
       "  'NonConsolidatedEarningsPerShare': '',\n",
       "  'NonConsolidatedTotalAssets': '',\n",
       "  'NonConsolidatedEquity': '',\n",
       "  'NonConsolidatedEquityToAssetRatio': '',\n",
       "  'NonConsolidatedBookValuePerShare': '',\n",
       "  'ForecastNonConsolidatedNetSales2ndQuarter': '',\n",
       "  'ForecastNonConsolidatedOperatingProfit2ndQuarter': '',\n",
       "  'ForecastNonConsolidatedOrdinaryProfit2ndQuarter': '',\n",
       "  'ForecastNonConsolidatedProfit2ndQuarter': '',\n",
       "  'ForecastNonConsolidatedEarningsPerShare2ndQuarter': '',\n",
       "  'NextYearForecastNonConsolidatedNetSales2ndQuarter': '',\n",
       "  'NextYearForecastNonConsolidatedOperatingProfit2ndQuarter': '',\n",
       "  'NextYearForecastNonConsolidatedOrdinaryProfit2ndQuarter': '',\n",
       "  'NextYearForecastNonConsolidatedProfit2ndQuarter': '',\n",
       "  'NextYearForecastNonConsolidatedEarningsPerShare2ndQuarter': '',\n",
       "  'ForecastNonConsolidatedNetSales': '',\n",
       "  'ForecastNonConsolidatedOperatingProfit': '',\n",
       "  'ForecastNonConsolidatedOrdinaryProfit': '',\n",
       "  'ForecastNonConsolidatedProfit': '',\n",
       "  'ForecastNonConsolidatedEarningsPerShare': '',\n",
       "  'NextYearForecastNonConsolidatedNetSales': '',\n",
       "  'NextYearForecastNonConsolidatedOperatingProfit': '',\n",
       "  'NextYearForecastNonConsolidatedOrdinaryProfit': '',\n",
       "  'NextYearForecastNonConsolidatedProfit': '',\n",
       "  'NextYearForecastNonConsolidatedEarningsPerShare': ''}]"
      ]
     },
     "execution_count": 8,
     "metadata": {},
     "output_type": "execute_result"
    }
   ],
   "source": [
    "res = get_statements(idToken, 86970)\n",
    "res"
   ]
  },
  {
   "cell_type": "code",
   "execution_count": 9,
   "id": "7ce372dc",
   "metadata": {},
   "outputs": [],
   "source": [
    "paint_companies_statements = pd.concat(\n",
    "    [pd.DataFrame(get_statements(idToken, code)) for code in paint_companies.index]\n",
    ")\n",
    "\n",
    "for c in paint_companies_statements.filter(\n",
    "    regex=\"Sales|Assets|CashFlows|Profit|Equity|EarningsPerShare\"\n",
    ").columns:\n",
    "    paint_companies_statements[c] = pd.to_numeric(paint_companies_statements[c])\n",
    "\n",
    "for c in paint_companies_statements.filter(regex=\"Date\").columns:\n",
    "    paint_companies_statements[c] = pd.to_datetime(paint_companies_statements[c])"
   ]
  },
  {
   "cell_type": "code",
   "execution_count": 11,
   "id": "88244661",
   "metadata": {},
   "outputs": [
    {
     "data": {
      "text/html": [
       "<div>\n",
       "<style scoped>\n",
       "    .dataframe tbody tr th:only-of-type {\n",
       "        vertical-align: middle;\n",
       "    }\n",
       "\n",
       "    .dataframe tbody tr th {\n",
       "        vertical-align: top;\n",
       "    }\n",
       "\n",
       "    .dataframe thead th {\n",
       "        text-align: right;\n",
       "    }\n",
       "</style>\n",
       "<table border=\"1\" class=\"dataframe\">\n",
       "  <thead>\n",
       "    <tr style=\"text-align: right;\">\n",
       "      <th></th>\n",
       "      <th></th>\n",
       "      <th>DisclosedDate</th>\n",
       "      <th>DisclosedTime</th>\n",
       "      <th>LocalCode</th>\n",
       "      <th>DisclosureNumber</th>\n",
       "      <th>TypeOfDocument</th>\n",
       "      <th>TypeOfCurrentPeriod</th>\n",
       "      <th>CurrentPeriodStartDate</th>\n",
       "      <th>CurrentPeriodEndDate</th>\n",
       "      <th>CurrentFiscalYearStartDate</th>\n",
       "      <th>CurrentFiscalYearEndDate</th>\n",
       "      <th>...</th>\n",
       "      <th>ForecastNonConsolidatedOrdinaryProfit</th>\n",
       "      <th>ForecastNonConsolidatedProfit</th>\n",
       "      <th>ForecastNonConsolidatedEarningsPerShare</th>\n",
       "      <th>NextYearForecastNonConsolidatedNetSales</th>\n",
       "      <th>NextYearForecastNonConsolidatedOperatingProfit</th>\n",
       "      <th>NextYearForecastNonConsolidatedOrdinaryProfit</th>\n",
       "      <th>NextYearForecastNonConsolidatedProfit</th>\n",
       "      <th>NextYearForecastNonConsolidatedEarningsPerShare</th>\n",
       "      <th>決算期</th>\n",
       "      <th>会社名</th>\n",
       "    </tr>\n",
       "    <tr>\n",
       "      <th>LocalCode</th>\n",
       "      <th></th>\n",
       "      <th></th>\n",
       "      <th></th>\n",
       "      <th></th>\n",
       "      <th></th>\n",
       "      <th></th>\n",
       "      <th></th>\n",
       "      <th></th>\n",
       "      <th></th>\n",
       "      <th></th>\n",
       "      <th></th>\n",
       "      <th></th>\n",
       "      <th></th>\n",
       "      <th></th>\n",
       "      <th></th>\n",
       "      <th></th>\n",
       "      <th></th>\n",
       "      <th></th>\n",
       "      <th></th>\n",
       "      <th></th>\n",
       "      <th></th>\n",
       "      <th></th>\n",
       "    </tr>\n",
       "  </thead>\n",
       "  <tbody>\n",
       "    <tr>\n",
       "      <th rowspan=\"5\" valign=\"top\">46110</th>\n",
       "      <th>8</th>\n",
       "      <td>2023-11-09</td>\n",
       "      <td>14:00:00</td>\n",
       "      <td>46110</td>\n",
       "      <td>20231020569248</td>\n",
       "      <td>2QFinancialStatements_Consolidated_JP</td>\n",
       "      <td>2Q</td>\n",
       "      <td>2023-04-01</td>\n",
       "      <td>2023-09-30</td>\n",
       "      <td>2023-04-01</td>\n",
       "      <td>2024-03-31</td>\n",
       "      <td>...</td>\n",
       "      <td>NaN</td>\n",
       "      <td>NaN</td>\n",
       "      <td>NaN</td>\n",
       "      <td>NaN</td>\n",
       "      <td>NaN</td>\n",
       "      <td>NaN</td>\n",
       "      <td>NaN</td>\n",
       "      <td>NaN</td>\n",
       "      <td>2023-2Q</td>\n",
       "      <td>大日本塗料</td>\n",
       "    </tr>\n",
       "    <tr>\n",
       "      <th>7</th>\n",
       "      <td>2023-08-08</td>\n",
       "      <td>14:00:00</td>\n",
       "      <td>46110</td>\n",
       "      <td>20230721525034</td>\n",
       "      <td>1QFinancialStatements_Consolidated_JP</td>\n",
       "      <td>1Q</td>\n",
       "      <td>2023-04-01</td>\n",
       "      <td>2023-06-30</td>\n",
       "      <td>2023-04-01</td>\n",
       "      <td>2024-03-31</td>\n",
       "      <td>...</td>\n",
       "      <td>NaN</td>\n",
       "      <td>NaN</td>\n",
       "      <td>NaN</td>\n",
       "      <td>NaN</td>\n",
       "      <td>NaN</td>\n",
       "      <td>NaN</td>\n",
       "      <td>NaN</td>\n",
       "      <td>NaN</td>\n",
       "      <td>2023-1Q</td>\n",
       "      <td>大日本塗料</td>\n",
       "    </tr>\n",
       "    <tr>\n",
       "      <th>6</th>\n",
       "      <td>2023-05-11</td>\n",
       "      <td>14:00:00</td>\n",
       "      <td>46110</td>\n",
       "      <td>20230421551091</td>\n",
       "      <td>FYFinancialStatements_Consolidated_JP</td>\n",
       "      <td>FY</td>\n",
       "      <td>2022-04-01</td>\n",
       "      <td>2023-03-31</td>\n",
       "      <td>2022-04-01</td>\n",
       "      <td>2023-03-31</td>\n",
       "      <td>...</td>\n",
       "      <td>NaN</td>\n",
       "      <td>NaN</td>\n",
       "      <td>NaN</td>\n",
       "      <td>NaN</td>\n",
       "      <td>NaN</td>\n",
       "      <td>NaN</td>\n",
       "      <td>NaN</td>\n",
       "      <td>NaN</td>\n",
       "      <td>2023-FY</td>\n",
       "      <td>大日本塗料</td>\n",
       "    </tr>\n",
       "    <tr>\n",
       "      <th>5</th>\n",
       "      <td>2023-02-09</td>\n",
       "      <td>14:00:00</td>\n",
       "      <td>46110</td>\n",
       "      <td>20230123592325</td>\n",
       "      <td>3QFinancialStatements_Consolidated_JP</td>\n",
       "      <td>3Q</td>\n",
       "      <td>2022-04-01</td>\n",
       "      <td>2022-12-31</td>\n",
       "      <td>2022-04-01</td>\n",
       "      <td>2023-03-31</td>\n",
       "      <td>...</td>\n",
       "      <td>NaN</td>\n",
       "      <td>NaN</td>\n",
       "      <td>NaN</td>\n",
       "      <td>NaN</td>\n",
       "      <td>NaN</td>\n",
       "      <td>NaN</td>\n",
       "      <td>NaN</td>\n",
       "      <td>NaN</td>\n",
       "      <td>2023-3Q</td>\n",
       "      <td>大日本塗料</td>\n",
       "    </tr>\n",
       "    <tr>\n",
       "      <th>4</th>\n",
       "      <td>2022-10-27</td>\n",
       "      <td>14:00:00</td>\n",
       "      <td>46110</td>\n",
       "      <td>20221024548184</td>\n",
       "      <td>EarnForecastRevision</td>\n",
       "      <td>2Q</td>\n",
       "      <td>2022-04-01</td>\n",
       "      <td>2022-09-30</td>\n",
       "      <td>2022-04-01</td>\n",
       "      <td>2023-03-31</td>\n",
       "      <td>...</td>\n",
       "      <td>NaN</td>\n",
       "      <td>NaN</td>\n",
       "      <td>NaN</td>\n",
       "      <td>NaN</td>\n",
       "      <td>NaN</td>\n",
       "      <td>NaN</td>\n",
       "      <td>NaN</td>\n",
       "      <td>NaN</td>\n",
       "      <td>2022-2Q</td>\n",
       "      <td>大日本塗料</td>\n",
       "    </tr>\n",
       "    <tr>\n",
       "      <th>...</th>\n",
       "      <th>...</th>\n",
       "      <td>...</td>\n",
       "      <td>...</td>\n",
       "      <td>...</td>\n",
       "      <td>...</td>\n",
       "      <td>...</td>\n",
       "      <td>...</td>\n",
       "      <td>...</td>\n",
       "      <td>...</td>\n",
       "      <td>...</td>\n",
       "      <td>...</td>\n",
       "      <td>...</td>\n",
       "      <td>...</td>\n",
       "      <td>...</td>\n",
       "      <td>...</td>\n",
       "      <td>...</td>\n",
       "      <td>...</td>\n",
       "      <td>...</td>\n",
       "      <td>...</td>\n",
       "      <td>...</td>\n",
       "      <td>...</td>\n",
       "      <td>...</td>\n",
       "    </tr>\n",
       "    <tr>\n",
       "      <th rowspan=\"5\" valign=\"top\">46240</th>\n",
       "      <th>4</th>\n",
       "      <td>2023-02-09</td>\n",
       "      <td>13:00:00</td>\n",
       "      <td>46240</td>\n",
       "      <td>20230123592504</td>\n",
       "      <td>3QFinancialStatements_Consolidated_JP</td>\n",
       "      <td>3Q</td>\n",
       "      <td>2022-04-01</td>\n",
       "      <td>2022-12-31</td>\n",
       "      <td>2022-04-01</td>\n",
       "      <td>2023-03-31</td>\n",
       "      <td>...</td>\n",
       "      <td>NaN</td>\n",
       "      <td>NaN</td>\n",
       "      <td>NaN</td>\n",
       "      <td>NaN</td>\n",
       "      <td>NaN</td>\n",
       "      <td>NaN</td>\n",
       "      <td>NaN</td>\n",
       "      <td>NaN</td>\n",
       "      <td>2023-3Q</td>\n",
       "      <td>イサム塗料</td>\n",
       "    </tr>\n",
       "    <tr>\n",
       "      <th>3</th>\n",
       "      <td>2022-11-07</td>\n",
       "      <td>13:00:00</td>\n",
       "      <td>46240</td>\n",
       "      <td>20221024547981</td>\n",
       "      <td>2QFinancialStatements_Consolidated_JP</td>\n",
       "      <td>2Q</td>\n",
       "      <td>2022-04-01</td>\n",
       "      <td>2022-09-30</td>\n",
       "      <td>2022-04-01</td>\n",
       "      <td>2023-03-31</td>\n",
       "      <td>...</td>\n",
       "      <td>NaN</td>\n",
       "      <td>NaN</td>\n",
       "      <td>NaN</td>\n",
       "      <td>NaN</td>\n",
       "      <td>NaN</td>\n",
       "      <td>NaN</td>\n",
       "      <td>NaN</td>\n",
       "      <td>NaN</td>\n",
       "      <td>2022-2Q</td>\n",
       "      <td>イサム塗料</td>\n",
       "    </tr>\n",
       "    <tr>\n",
       "      <th>2</th>\n",
       "      <td>2022-08-05</td>\n",
       "      <td>13:00:00</td>\n",
       "      <td>46240</td>\n",
       "      <td>20220722503491</td>\n",
       "      <td>1QFinancialStatements_Consolidated_JP</td>\n",
       "      <td>1Q</td>\n",
       "      <td>2022-04-01</td>\n",
       "      <td>2022-06-30</td>\n",
       "      <td>2022-04-01</td>\n",
       "      <td>2023-03-31</td>\n",
       "      <td>...</td>\n",
       "      <td>NaN</td>\n",
       "      <td>NaN</td>\n",
       "      <td>NaN</td>\n",
       "      <td>NaN</td>\n",
       "      <td>NaN</td>\n",
       "      <td>NaN</td>\n",
       "      <td>NaN</td>\n",
       "      <td>NaN</td>\n",
       "      <td>2022-1Q</td>\n",
       "      <td>イサム塗料</td>\n",
       "    </tr>\n",
       "    <tr>\n",
       "      <th>1</th>\n",
       "      <td>2022-05-10</td>\n",
       "      <td>13:00:00</td>\n",
       "      <td>46240</td>\n",
       "      <td>20220426528461</td>\n",
       "      <td>FYFinancialStatements_Consolidated_JP</td>\n",
       "      <td>FY</td>\n",
       "      <td>2021-04-01</td>\n",
       "      <td>2022-03-31</td>\n",
       "      <td>2021-04-01</td>\n",
       "      <td>2022-03-31</td>\n",
       "      <td>...</td>\n",
       "      <td>NaN</td>\n",
       "      <td>NaN</td>\n",
       "      <td>NaN</td>\n",
       "      <td>NaN</td>\n",
       "      <td>NaN</td>\n",
       "      <td>NaN</td>\n",
       "      <td>NaN</td>\n",
       "      <td>NaN</td>\n",
       "      <td>2022-FY</td>\n",
       "      <td>イサム塗料</td>\n",
       "    </tr>\n",
       "    <tr>\n",
       "      <th>0</th>\n",
       "      <td>2022-02-09</td>\n",
       "      <td>13:00:00</td>\n",
       "      <td>46240</td>\n",
       "      <td>20220124571237</td>\n",
       "      <td>3QFinancialStatements_Consolidated_JP</td>\n",
       "      <td>3Q</td>\n",
       "      <td>2021-04-01</td>\n",
       "      <td>2021-12-31</td>\n",
       "      <td>2021-04-01</td>\n",
       "      <td>2022-03-31</td>\n",
       "      <td>...</td>\n",
       "      <td>NaN</td>\n",
       "      <td>NaN</td>\n",
       "      <td>NaN</td>\n",
       "      <td>NaN</td>\n",
       "      <td>NaN</td>\n",
       "      <td>NaN</td>\n",
       "      <td>NaN</td>\n",
       "      <td>NaN</td>\n",
       "      <td>2022-3Q</td>\n",
       "      <td>イサム塗料</td>\n",
       "    </tr>\n",
       "  </tbody>\n",
       "</table>\n",
       "<p>91 rows × 108 columns</p>\n",
       "</div>"
      ],
      "text/plain": [
       "            DisclosedDate DisclosedTime LocalCode DisclosureNumber  \\\n",
       "LocalCode                                                            \n",
       "46110     8    2023-11-09      14:00:00     46110   20231020569248   \n",
       "          7    2023-08-08      14:00:00     46110   20230721525034   \n",
       "          6    2023-05-11      14:00:00     46110   20230421551091   \n",
       "          5    2023-02-09      14:00:00     46110   20230123592325   \n",
       "          4    2022-10-27      14:00:00     46110   20221024548184   \n",
       "...                   ...           ...       ...              ...   \n",
       "46240     4    2023-02-09      13:00:00     46240   20230123592504   \n",
       "          3    2022-11-07      13:00:00     46240   20221024547981   \n",
       "          2    2022-08-05      13:00:00     46240   20220722503491   \n",
       "          1    2022-05-10      13:00:00     46240   20220426528461   \n",
       "          0    2022-02-09      13:00:00     46240   20220124571237   \n",
       "\n",
       "                                    TypeOfDocument TypeOfCurrentPeriod  \\\n",
       "LocalCode                                                                \n",
       "46110     8  2QFinancialStatements_Consolidated_JP                  2Q   \n",
       "          7  1QFinancialStatements_Consolidated_JP                  1Q   \n",
       "          6  FYFinancialStatements_Consolidated_JP                  FY   \n",
       "          5  3QFinancialStatements_Consolidated_JP                  3Q   \n",
       "          4                   EarnForecastRevision                  2Q   \n",
       "...                                            ...                 ...   \n",
       "46240     4  3QFinancialStatements_Consolidated_JP                  3Q   \n",
       "          3  2QFinancialStatements_Consolidated_JP                  2Q   \n",
       "          2  1QFinancialStatements_Consolidated_JP                  1Q   \n",
       "          1  FYFinancialStatements_Consolidated_JP                  FY   \n",
       "          0  3QFinancialStatements_Consolidated_JP                  3Q   \n",
       "\n",
       "            CurrentPeriodStartDate CurrentPeriodEndDate  \\\n",
       "LocalCode                                                 \n",
       "46110     8             2023-04-01           2023-09-30   \n",
       "          7             2023-04-01           2023-06-30   \n",
       "          6             2022-04-01           2023-03-31   \n",
       "          5             2022-04-01           2022-12-31   \n",
       "          4             2022-04-01           2022-09-30   \n",
       "...                            ...                  ...   \n",
       "46240     4             2022-04-01           2022-12-31   \n",
       "          3             2022-04-01           2022-09-30   \n",
       "          2             2022-04-01           2022-06-30   \n",
       "          1             2021-04-01           2022-03-31   \n",
       "          0             2021-04-01           2021-12-31   \n",
       "\n",
       "            CurrentFiscalYearStartDate CurrentFiscalYearEndDate  ...  \\\n",
       "LocalCode                                                        ...   \n",
       "46110     8                 2023-04-01               2024-03-31  ...   \n",
       "          7                 2023-04-01               2024-03-31  ...   \n",
       "          6                 2022-04-01               2023-03-31  ...   \n",
       "          5                 2022-04-01               2023-03-31  ...   \n",
       "          4                 2022-04-01               2023-03-31  ...   \n",
       "...                                ...                      ...  ...   \n",
       "46240     4                 2022-04-01               2023-03-31  ...   \n",
       "          3                 2022-04-01               2023-03-31  ...   \n",
       "          2                 2022-04-01               2023-03-31  ...   \n",
       "          1                 2021-04-01               2022-03-31  ...   \n",
       "          0                 2021-04-01               2022-03-31  ...   \n",
       "\n",
       "            ForecastNonConsolidatedOrdinaryProfit  \\\n",
       "LocalCode                                           \n",
       "46110     8                                   NaN   \n",
       "          7                                   NaN   \n",
       "          6                                   NaN   \n",
       "          5                                   NaN   \n",
       "          4                                   NaN   \n",
       "...                                           ...   \n",
       "46240     4                                   NaN   \n",
       "          3                                   NaN   \n",
       "          2                                   NaN   \n",
       "          1                                   NaN   \n",
       "          0                                   NaN   \n",
       "\n",
       "            ForecastNonConsolidatedProfit  \\\n",
       "LocalCode                                   \n",
       "46110     8                           NaN   \n",
       "          7                           NaN   \n",
       "          6                           NaN   \n",
       "          5                           NaN   \n",
       "          4                           NaN   \n",
       "...                                   ...   \n",
       "46240     4                           NaN   \n",
       "          3                           NaN   \n",
       "          2                           NaN   \n",
       "          1                           NaN   \n",
       "          0                           NaN   \n",
       "\n",
       "             ForecastNonConsolidatedEarningsPerShare  \\\n",
       "LocalCode                                              \n",
       "46110     8                                      NaN   \n",
       "          7                                      NaN   \n",
       "          6                                      NaN   \n",
       "          5                                      NaN   \n",
       "          4                                      NaN   \n",
       "...                                              ...   \n",
       "46240     4                                      NaN   \n",
       "          3                                      NaN   \n",
       "          2                                      NaN   \n",
       "          1                                      NaN   \n",
       "          0                                      NaN   \n",
       "\n",
       "             NextYearForecastNonConsolidatedNetSales  \\\n",
       "LocalCode                                              \n",
       "46110     8                                      NaN   \n",
       "          7                                      NaN   \n",
       "          6                                      NaN   \n",
       "          5                                      NaN   \n",
       "          4                                      NaN   \n",
       "...                                              ...   \n",
       "46240     4                                      NaN   \n",
       "          3                                      NaN   \n",
       "          2                                      NaN   \n",
       "          1                                      NaN   \n",
       "          0                                      NaN   \n",
       "\n",
       "             NextYearForecastNonConsolidatedOperatingProfit  \\\n",
       "LocalCode                                                     \n",
       "46110     8                                             NaN   \n",
       "          7                                             NaN   \n",
       "          6                                             NaN   \n",
       "          5                                             NaN   \n",
       "          4                                             NaN   \n",
       "...                                                     ...   \n",
       "46240     4                                             NaN   \n",
       "          3                                             NaN   \n",
       "          2                                             NaN   \n",
       "          1                                             NaN   \n",
       "          0                                             NaN   \n",
       "\n",
       "             NextYearForecastNonConsolidatedOrdinaryProfit  \\\n",
       "LocalCode                                                    \n",
       "46110     8                                            NaN   \n",
       "          7                                            NaN   \n",
       "          6                                            NaN   \n",
       "          5                                            NaN   \n",
       "          4                                            NaN   \n",
       "...                                                    ...   \n",
       "46240     4                                            NaN   \n",
       "          3                                            NaN   \n",
       "          2                                            NaN   \n",
       "          1                                            NaN   \n",
       "          0                                            NaN   \n",
       "\n",
       "             NextYearForecastNonConsolidatedProfit  \\\n",
       "LocalCode                                            \n",
       "46110     8                                    NaN   \n",
       "          7                                    NaN   \n",
       "          6                                    NaN   \n",
       "          5                                    NaN   \n",
       "          4                                    NaN   \n",
       "...                                            ...   \n",
       "46240     4                                    NaN   \n",
       "          3                                    NaN   \n",
       "          2                                    NaN   \n",
       "          1                                    NaN   \n",
       "          0                                    NaN   \n",
       "\n",
       "             NextYearForecastNonConsolidatedEarningsPerShare      決算期    会社名  \n",
       "LocalCode                                                                     \n",
       "46110     8                                              NaN  2023-2Q  大日本塗料  \n",
       "          7                                              NaN  2023-1Q  大日本塗料  \n",
       "          6                                              NaN  2023-FY  大日本塗料  \n",
       "          5                                              NaN  2023-3Q  大日本塗料  \n",
       "          4                                              NaN  2022-2Q  大日本塗料  \n",
       "...                                                      ...      ...    ...  \n",
       "46240     4                                              NaN  2023-3Q  イサム塗料  \n",
       "          3                                              NaN  2022-2Q  イサム塗料  \n",
       "          2                                              NaN  2022-1Q  イサム塗料  \n",
       "          1                                              NaN  2022-FY  イサム塗料  \n",
       "          0                                              NaN  2022-3Q  イサム塗料  \n",
       "\n",
       "[91 rows x 108 columns]"
      ]
     },
     "execution_count": 11,
     "metadata": {},
     "output_type": "execute_result"
    }
   ],
   "source": [
    "sorted_data = paint_companies_statements.groupby([\"LocalCode\"]).apply(\n",
    "    lambda x: x.sort_values([\"DisclosureNumber\"], ascending=False)\n",
    ")\n",
    "sorted_data[\"決算期\"] = sorted_data.apply(\n",
    "    lambda row: f\"{row['DisclosedDate'].year}-{row['TypeOfCurrentPeriod']}\", axis=1\n",
    ")\n",
    "sorted_data[\"会社名\"] = [\n",
    "    paint_companies.at[code, \"CompanyName\"] for code in sorted_data[\"LocalCode\"]\n",
    "]\n",
    "sorted_data"
   ]
  },
  {
   "cell_type": "code",
   "execution_count": 12,
   "id": "fd7e17ce",
   "metadata": {},
   "outputs": [
    {
     "data": {
      "image/png": "[encoded data removed]",
      "text/plain": [
       "<Figure size 2000x500 with 1 Axes>"
      ]
     },
     "metadata": {},
     "output_type": "display_data"
    }
   ],
   "source": [
    "plt.figure(figsize=(20, 5))\n",
    "hue_order = [\n",
    "    \"2021-FY\",\n",
    "    \"2021-1Q\",\n",
    "    \"2021-2Q\",\n",
    "    \"2022-3Q\",\n",
    "    \"2022-FY\",\n",
    "    \"2022-1Q\",\n",
    "    \"2022-2Q\",\n",
    "    \"2023-3Q\",\n",
    "    \"2023-FY\",\n",
    "    \"2023-1Q\",\n",
    "    \"2023-2Q\",\n",
    "]\n",
    "ax = sns.barplot(\n",
    "    data=sorted_data,\n",
    "    x=\"会社名\",\n",
    "    y=\"EarningsPerShare\",\n",
    "    hue=\"決算期\",\n",
    "    hue_order=hue_order,\n",
    ")\n",
    "for c in ax.containers:\n",
    "    ax.bar_label(c, rotation=90, fontsize=10)\n",
    "\n",
    "plt.xticks(rotation=90)\n",
    "plt.legend(loc=\"upper left\", bbox_to_anchor=(1, 1))\n",
    "plt.show()"
   ]
  }
 ],
 "metadata": {
  "kernelspec": {
   "display_name": "Python 3 (ipykernel)",
   "language": "python",
   "name": "python3"
  },
  "language_info": {
   "codemirror_mode": {
    "name": "ipython",
    "version": 3
   },
   "file_extension": ".py",
   "mimetype": "text/x-python",
   "name": "python",
   "nbconvert_exporter": "python",
   "pygments_lexer": "ipython3",
   "version": "3.9.18"
  }
 },
 "nbformat": 4,
 "nbformat_minor": 5
}
