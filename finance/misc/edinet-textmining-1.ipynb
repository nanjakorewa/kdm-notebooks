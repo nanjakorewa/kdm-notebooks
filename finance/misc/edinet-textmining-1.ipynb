{
 "cells": [
  {
   "cell_type": "markdown",
   "id": "d254a1ca-b6a7-4185-a07f-ea369e8e0ee7",
   "metadata": {},
   "source": [
    "## テキストの分析をする"
   ]
  },
  {
   "cell_type": "code",
   "execution_count": 2,
   "id": "1543ee5f-c9b1-4ad7-932e-6bd571e32718",
   "metadata": {},
   "outputs": [],
   "source": [
    "import os\n",
    "import requests\n",
    "import pandas as pd\n",
    "import time\n",
    "import zipfile\n",
    "\n",
    "API_ENDPOINT = \"https://disclosure.edinet-fsa.go.jp/api/v2\"  # v2を使用する\n",
    "sd_dfs = []\n",
    "\n",
    "# データを取得する\n",
    "for date in [\"2023-06-20\", \"2023-06-21\", \"2023-06-22\", \"2023-06-23\"]:\n",
    "    time.sleep(1)\n",
    "    request_params = {\n",
    "        \"date\": date,\n",
    "        \"type\": 2,  # 1=メタデータのみ、2=提出書類一覧及びメタデータ\n",
    "        \"Subscription-Key\": os.environ.get(\n",
    "            \"EDINET_API_KEY\"\n",
    "        ),  # v1を使用する場合は不要, 2024年３月29日（金）まで利用可能\n",
    "    }\n",
    "\n",
    "    docs_submitted_json = requests.get(\n",
    "        f\"{API_ENDPOINT}/documents.json\", request_params\n",
    "    ).json()\n",
    "\n",
    "    sd_df = pd.DataFrame(docs_submitted_json[\"results\"])\n",
    "    sd_df = sd_df[sd_df[\"docDescription\"].str.contains(\"有価証券報告書\", na=False)]\n",
    "    sd_dfs.append(sd_df)\n",
    "\n",
    "sd_dfs = pd.concat(sd_dfs)"
   ]
  },
  {
   "cell_type": "markdown",
   "id": "f7a1c469-02dc-44f4-b26d-8657b96c83d4",
   "metadata": {},
   "source": [
    "### 取得したデータの確認"
   ]
  },
  {
   "cell_type": "code",
   "execution_count": 20,
   "id": "063cd9f8-f83d-4aae-9ec6-56d4b2e050c8",
   "metadata": {},
   "outputs": [
    {
     "data": {
      "text/html": [
       "<div>\n",
       "<style scoped>\n",
       "    .dataframe tbody tr th:only-of-type {\n",
       "        vertical-align: middle;\n",
       "    }\n",
       "\n",
       "    .dataframe tbody tr th {\n",
       "        vertical-align: top;\n",
       "    }\n",
       "\n",
       "    .dataframe thead th {\n",
       "        text-align: right;\n",
       "    }\n",
       "</style>\n",
       "<table border=\"1\" class=\"dataframe\">\n",
       "  <thead>\n",
       "    <tr style=\"text-align: right;\">\n",
       "      <th></th>\n",
       "      <th>seqNumber</th>\n",
       "      <th>docID</th>\n",
       "      <th>edinetCode</th>\n",
       "      <th>secCode</th>\n",
       "      <th>JCN</th>\n",
       "      <th>filerName</th>\n",
       "      <th>fundCode</th>\n",
       "      <th>ordinanceCode</th>\n",
       "      <th>formCode</th>\n",
       "      <th>docTypeCode</th>\n",
       "      <th>...</th>\n",
       "      <th>opeDateTime</th>\n",
       "      <th>withdrawalStatus</th>\n",
       "      <th>docInfoEditStatus</th>\n",
       "      <th>disclosureStatus</th>\n",
       "      <th>xbrlFlag</th>\n",
       "      <th>pdfFlag</th>\n",
       "      <th>attachDocFlag</th>\n",
       "      <th>englishDocFlag</th>\n",
       "      <th>csvFlag</th>\n",
       "      <th>legalStatus</th>\n",
       "    </tr>\n",
       "  </thead>\n",
       "  <tbody>\n",
       "    <tr>\n",
       "      <th>326</th>\n",
       "      <td>327</td>\n",
       "      <td>S100QZLI</td>\n",
       "      <td>E04236</td>\n",
       "      <td>91040</td>\n",
       "      <td>4010401082896</td>\n",
       "      <td>株式会社商船三井</td>\n",
       "      <td>None</td>\n",
       "      <td>010</td>\n",
       "      <td>030000</td>\n",
       "      <td>120</td>\n",
       "      <td>...</td>\n",
       "      <td>None</td>\n",
       "      <td>0</td>\n",
       "      <td>0</td>\n",
       "      <td>0</td>\n",
       "      <td>1</td>\n",
       "      <td>1</td>\n",
       "      <td>1</td>\n",
       "      <td>0</td>\n",
       "      <td>1</td>\n",
       "      <td>1</td>\n",
       "    </tr>\n",
       "    <tr>\n",
       "      <th>410</th>\n",
       "      <td>411</td>\n",
       "      <td>S100R01E</td>\n",
       "      <td>E04235</td>\n",
       "      <td>91010</td>\n",
       "      <td>7010001023785</td>\n",
       "      <td>日本郵船株式会社</td>\n",
       "      <td>None</td>\n",
       "      <td>010</td>\n",
       "      <td>030000</td>\n",
       "      <td>120</td>\n",
       "      <td>...</td>\n",
       "      <td>None</td>\n",
       "      <td>0</td>\n",
       "      <td>0</td>\n",
       "      <td>0</td>\n",
       "      <td>1</td>\n",
       "      <td>1</td>\n",
       "      <td>1</td>\n",
       "      <td>0</td>\n",
       "      <td>1</td>\n",
       "      <td>1</td>\n",
       "    </tr>\n",
       "    <tr>\n",
       "      <th>816</th>\n",
       "      <td>817</td>\n",
       "      <td>S100QZPH</td>\n",
       "      <td>E04237</td>\n",
       "      <td>91070</td>\n",
       "      <td>8140001005720</td>\n",
       "      <td>川崎汽船株式会社</td>\n",
       "      <td>None</td>\n",
       "      <td>010</td>\n",
       "      <td>030000</td>\n",
       "      <td>120</td>\n",
       "      <td>...</td>\n",
       "      <td>None</td>\n",
       "      <td>0</td>\n",
       "      <td>0</td>\n",
       "      <td>0</td>\n",
       "      <td>1</td>\n",
       "      <td>1</td>\n",
       "      <td>1</td>\n",
       "      <td>0</td>\n",
       "      <td>1</td>\n",
       "      <td>1</td>\n",
       "    </tr>\n",
       "  </tbody>\n",
       "</table>\n",
       "<p>3 rows × 29 columns</p>\n",
       "</div>"
      ],
      "text/plain": [
       "     seqNumber     docID edinetCode secCode            JCN filerName fundCode  \\\n",
       "326        327  S100QZLI     E04236   91040  4010401082896  株式会社商船三井     None   \n",
       "410        411  S100R01E     E04235   91010  7010001023785  日本郵船株式会社     None   \n",
       "816        817  S100QZPH     E04237   91070  8140001005720  川崎汽船株式会社     None   \n",
       "\n",
       "    ordinanceCode formCode docTypeCode  ... opeDateTime withdrawalStatus  \\\n",
       "326           010   030000         120  ...        None                0   \n",
       "410           010   030000         120  ...        None                0   \n",
       "816           010   030000         120  ...        None                0   \n",
       "\n",
       "    docInfoEditStatus disclosureStatus xbrlFlag pdfFlag attachDocFlag  \\\n",
       "326                 0                0        1       1             1   \n",
       "410                 0                0        1       1             1   \n",
       "816                 0                0        1       1             1   \n",
       "\n",
       "    englishDocFlag csvFlag legalStatus  \n",
       "326              0       1           1  \n",
       "410              0       1           1  \n",
       "816              0       1           1  \n",
       "\n",
       "[3 rows x 29 columns]"
      ]
     },
     "execution_count": 20,
     "metadata": {},
     "output_type": "execute_result"
    }
   ],
   "source": [
    "海運３社 = sd_dfs[sd_dfs[\"secCode\"].isin([\"91040\", \"91070\", \"91010\"])]  # 証券コード\n",
    "海運３社"
   ]
  },
  {
   "cell_type": "code",
   "execution_count": 23,
   "id": "03aef5e7-3eb4-40a3-90a6-5df2d38a379c",
   "metadata": {},
   "outputs": [
    {
     "name": "stdout",
     "output_type": "stream",
     "text": [
      "S100QZLIのデータを取得中\n"
     ]
    }
   ],
   "source": [
    "def save_csv(docID, doc_type=1):\n",
    "    print(f\"{docID}のデータを取得中\")\n",
    "    time.sleep(5)\n",
    "\n",
    "    r = requests.get(\n",
    "        f\"{API_ENDPOINT}/documents/{docID}\",\n",
    "        {\n",
    "            \"type\": doc_type,\n",
    "            \"Subscription-Key\": os.environ.get(\"EDINET_API_KEY\"),\n",
    "        },\n",
    "    )\n",
    "\n",
    "    if r is None:\n",
    "        print(\"データの取得に失敗しました。csvFlag==1かどうか確認してください。\")\n",
    "    else:\n",
    "        os.makedirs(f\"{docID}\", exist_ok=True)\n",
    "        temp_zip = \"uuid_A345E318_0C3A_4D32_B55B_CC1A84F3A7B2.zip\"\n",
    "\n",
    "        with open(temp_zip, \"wb\") as f:\n",
    "            for chunk in r.iter_content(chunk_size=1024):\n",
    "                f.write(chunk)\n",
    "\n",
    "        with zipfile.ZipFile(temp_zip) as z:\n",
    "            z.extractall(f\"{docID}\")\n",
    "\n",
    "        os.remove(temp_zip)\n",
    "\n",
    "\n",
    "save_csv(\"S100QZLI\")"
   ]
  },
  {
   "cell_type": "code",
   "execution_count": 68,
   "id": "1108337f-c9cd-48ce-a7d8-14f6a3c64fac",
   "metadata": {},
   "outputs": [
    {
     "data": {
      "text/html": [
       "560.0"
      ],
      "text/plain": [
       "<IPython.core.display.HTML object>"
      ]
     },
     "execution_count": 68,
     "metadata": {},
     "output_type": "execute_result"
    }
   ],
   "source": [
    "from edinet_xbrl.edinet_xbrl_parser import EdinetXbrlParser\n",
    "\n",
    "parser = EdinetXbrlParser()\n",
    "parsed_xbrl = parser.parse_file(\n",
    "    r\"S100QZLI\\XBRL\\PublicDoc\\jpcrp030000-asr-001_E04236-000_2023-03-31_01_2023-06-20.xbrl\"\n",
    ")\n",
    "\n",
    "key = \"jpcrp_cor:DividendPaidPerShareSummaryOfBusinessResults\"\n",
    "context_ref = \"CurrentYearDuration_NonConsolidatedMember\"\n",
    "summary_of_business_info = parsed_xbrl.get_data_by_context_ref(key, context_ref)\n",
    "summary_of_business = summary_of_business_info.get_value()\n",
    "\n",
    "from IPython.display import HTML\n",
    "\n",
    "HTML(summary_of_business)"
   ]
  },
  {
   "cell_type": "code",
   "execution_count": 67,
   "id": "d4be45ae-76f2-46be-9d55-822d89d82f23",
   "metadata": {},
   "outputs": [],
   "source": [
    "summary_of_business_info"
   ]
  },
  {
   "cell_type": "code",
   "execution_count": 46,
   "id": "ff0cee0f-10d4-4133-bb05-2f8e0e348bd8",
   "metadata": {},
   "outputs": [
    {
     "ename": "SyntaxError",
     "evalue": "EOL while scanning string literal (1213690431.py, line 1)",
     "output_type": "error",
     "traceback": [
      "\u001b[1;36m  Cell \u001b[1;32mIn[46], line 1\u001b[1;36m\u001b[0m\n\u001b[1;33m    parsed_xbrl = parser.parse_file(r\"C:\\Users\\nanja-win-ms\\workspace\\K_DM_book\\kdm-notebooks\\finance\\misc\\S100QZLI\\XBRL\\PublicDoc\\jpcrp030000-asr-001_E04236-000_2023-03-31_01_2023-06-20_cal.xml\"\"\u001b[0m\n\u001b[1;37m                                                                                                                                                                                                    ^\u001b[0m\n\u001b[1;31mSyntaxError\u001b[0m\u001b[1;31m:\u001b[0m EOL while scanning string literal\n"
     ]
    }
   ],
   "source": [
    "list_jpcrp_cor_tag = [\n",
    "    \"NetSalesSummaryOfBusinessResults\",  # 売上高\n",
    "    \"OrdinaryIncomeLossSummaryOfBusinessResults\",  # 経常利益\n",
    "    \"NetIncomeLossSummaryOfBusinessResults\",  # 当期純利益\n",
    "    \"NetAssetsSummaryOfBusinessResults\",  # 純資産額\n",
    "    \"TotalAssetsSummaryOfBusinessResults\",  # 総資産額\n",
    "    \"NetAssetsPerShareSummaryOfBusinessResults\",  # 1株当たり純資産額\n",
    "    \"DividendPaidPerShareSummaryOfBusinessResults\",  # 1株当たり配当額\n",
    "    \"InterimDividendPaidPerShareSummaryOfBusinessResults\",  # 1株当たり中間配当額\n",
    "    \"BasicEarningsLossPerShareSummaryOfBusinessResults\",  # 1株当たり当期純利益\n",
    "    \"EquityToAssetRatioSummaryOfBusinessResults\",  # 自己資本比率\n",
    "    \"RateOfReturnOnEquitySummaryOfBusinessResults\",  # 自己資本利益率\n",
    "    \"PriceEarningsRatioSummaryOfBusinessResults\",  # 株価収益率\n",
    "    \"PayoutRatioSummaryOfBusinessResults\",  # 配当性向\n",
    "    \"TotalShareholderReturn\",  # 株主総利回り\n",
    "]"
   ]
  },
  {
   "cell_type": "code",
   "execution_count": null,
   "id": "c5faad55-1dc0-406c-acce-029c28df2739",
   "metadata": {},
   "outputs": [],
   "source": []
  }
 ],
 "metadata": {
  "kernelspec": {
   "display_name": "Python 3 (ipykernel)",
   "language": "python",
   "name": "python3"
  },
  "language_info": {
   "codemirror_mode": {
    "name": "ipython",
    "version": 3
   },
   "file_extension": ".py",
   "mimetype": "text/x-python",
   "name": "python",
   "nbconvert_exporter": "python",
   "pygments_lexer": "ipython3",
   "version": "3.9.18"
  }
 },
 "nbformat": 4,
 "nbformat_minor": 5
}
