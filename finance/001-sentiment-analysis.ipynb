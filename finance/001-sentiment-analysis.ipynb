{
 "cells": [
  {
   "cell_type": "markdown",
   "id": "85796bce",
   "metadata": {},
   "source": [
    "# テキストの感情分析\n",
    "『[SiEBERT - English-Language Sentiment Classification](https://www.sciencedirect.com/science/article/pii/S0167811622000477?via%3Dihub)』のモデルを使って英文の感情分類をします。\n",
    "\n",
    "```\n",
    "Hartmann, Jochen and Heitmann, Mark and Siebert, Christian and Schamp, Christina,\n",
    "\"More than a feeling: Accuracy and Application of Sentiment Analysis\", International Journal of Research in Marketing(2022)\n",
    "```"
   ]
  },
  {
   "cell_type": "code",
   "execution_count": 1,
   "id": "57194aa0",
   "metadata": {},
   "outputs": [],
   "source": [
    "import numpy as np\n",
    "from transformers import pipeline\n",
    "from IPython.display import HTML\n",
    "\n",
    "sentiment_pipeline = pipeline(\n",
    "    \"sentiment-analysis\", model=\"siebert/sentiment-roberta-large-english\"\n",
    ")"
   ]
  },
  {
   "cell_type": "markdown",
   "id": "8f691421",
   "metadata": {},
   "source": [
    "## テキストの各文の感情を分析してみる\n",
    "英文の各文章の感情をポジティブ・ネガティブで分類してみたいと思います。\n",
    "テキスト全体を「.」で区切ることで、一文ごとに分けています。\n",
    "\n",
    "ここでは[Petrobras Webcast – 3rd Quarter Results 2022 November 5, 2022](https://www.investidorpetrobras.com.br/en/results-and-announcements/results-center/)の文字起こしデータを使用しています。"
   ]
  },
  {
   "cell_type": "code",
   "execution_count": 2,
   "id": "3b459b95",
   "metadata": {
    "scrolled": true
   },
   "outputs": [],
   "source": [
    "transcript = \"\"\"Hello!Hello!Hello!Hello!Hello!\"\"\"\n",
    "ts_list = [ts for ts in transcript.split(\".\") if len(ts) > 20]\n",
    "scores = sentiment_pipeline(ts_list)"
   ]
  },
  {
   "cell_type": "code",
   "execution_count": 3,
   "id": "00271ea3",
   "metadata": {},
   "outputs": [
    {
     "data": {
      "text/html": [
       "[score=0.9976] <span style='color:rgb(100,235,100);font-weight:bold;'>Hello!Hello!Hello!Hello!Hello!</span>"
      ],
      "text/plain": [
       "<IPython.core.display.HTML object>"
      ]
     },
     "metadata": {},
     "output_type": "display_data"
    }
   ],
   "source": [
    "for t, s in zip(ts_list, scores):\n",
    "    score = np.round(float(s[\"score\"]), 4)  # 感情スコア\n",
    "    font_weight = \"bold\" if score > 0.995 else \"normal\"  # 表示する文字の太さ\n",
    "\n",
    "    # 感情ごとに色を分けて表示\n",
    "    if s[\"label\"] == \"NEGATIVE\":\n",
    "        r = 255 - 10 * int(1000 - score * 1000)\n",
    "        display(\n",
    "            HTML(\n",
    "                f\"[score={score}] <span style='color:rgb({r},100,100);font-weight:{font_weight};'>{t}</span>\"\n",
    "            )\n",
    "        )\n",
    "    elif s[\"label\"] == \"POSITIVE\":\n",
    "        g = 255 - 10 * int(1000 - score * 1000)\n",
    "        display(\n",
    "            HTML(\n",
    "                f\"[score={score}] <span style='color:rgb(100,{g},100);font-weight:{font_weight};'>{t}</span>\"\n",
    "            )\n",
    "        )"
   ]
  }
 ],
 "metadata": {
  "kernelspec": {
   "display_name": "Python 3 (ipykernel)",
   "language": "python",
   "name": "python3"
  },
  "language_info": {
   "codemirror_mode": {
    "name": "ipython",
    "version": 3
   },
   "file_extension": ".py",
   "mimetype": "text/x-python",
   "name": "python",
   "nbconvert_exporter": "python",
   "pygments_lexer": "ipython3",
   "version": "3.9.12"
  }
 },
 "nbformat": 4,
 "nbformat_minor": 5
}
