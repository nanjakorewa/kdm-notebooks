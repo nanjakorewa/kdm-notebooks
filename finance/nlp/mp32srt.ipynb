{
 "cells": [
  {
   "cell_type": "code",
   "execution_count": 1,
   "id": "fb3e25c1",
   "metadata": {},
   "outputs": [],
   "source": [
    "import warnings\n",
    "import whisper\n",
    "from transformers import pipeline\n",
    "\n",
    "warnings.simplefilter(\"ignore\")"
   ]
  },
  {
   "cell_type": "markdown",
   "id": "60609ecd",
   "metadata": {},
   "source": [
    "## whisperを使って音声認識を実行する"
   ]
  },
  {
   "cell_type": "code",
   "execution_count": 2,
   "id": "dd95ac40",
   "metadata": {},
   "outputs": [
    {
     "data": {
      "text/plain": [
       "\" Hi and welcome to FlexLng's TURD Quater Highlights. Revenue's 4D Quater came in at 91 million in line with previous guidance of approximately 90 million. Ernings was strong, net income and adjusted net income was 47.42 million, translating into Ernings per share and adjusted Ernings per share of 88.79 respectively. Freight market during the quarter boomed and this affected both short term and long term rates positively. During the quarter we had three ships commencing new time charters. In June we announced seven year time charters for both flex and the price and flex amber and these ships commenced these new long term charters in July replacing shorter term contracts. We also had flexor aura delivered to Chenier at the end of the quarter as the final fifth ships under our agreement with Chenier. During the quarter of CFO has been busy refinancing under our balance sheet optimization program phase two we had the target of raising an additional 100 million of cash and with this 630 million refinancing for four of our ships we have already secured a cash release of 110 million. We also have three additional ships to be refinanced and the ambition for our balance sheet optimization program has no been increased to 300 million in total. So we released 137 million for phase one. We are today announcing we are releasing 110. We still have three more ships to refinance so we do think we will minimum raise 300 million of cash in total for this program. For next quarter we expect slightly better numbers. This is driven by flex Artemis which is on a variable higher contract tied to the spot market rates so we expect revenues of 95 to 98 million for Q4 also in line with previous guidance of 90 to 100 million. Next year we have 100% contract coverage and we have minimum 91% coverage for 2024. We have two ships which could possibly come open in 2024. The chargers have extension option to them so the first fully open ship we have in our portfolio is actually middle of 2026. Given our strong contract coverage of various sound financial positions, healthy earnings the board has therefore decided once again to declare an ordinary quarterly dividend of 75 cents per share. Yet today we have thus declared $2.75 per share which is in line with our earnings per share of 2.76. This includes the special dividend of 50 cents paid out last quarter. If we include the dividend for Q4 last year we paid out $3.5 the last four quarters which gives our investors a yield of around 10% given today's share price. So please join our full video webcast at 3 o'clock European time, 9 o'clock US time and I hope you can join as we will give some more detail on the market and the company in general.\""
      ]
     },
     "execution_count": 2,
     "metadata": {},
     "output_type": "execute_result"
    }
   ],
   "source": [
    "model = whisper.load_model(\"base\")\n",
    "result = model.transcribe(\"FlexLNG_Q3_2022_Key_Takeaways.mp3\")\n",
    "result[\"text\"]"
   ]
  },
  {
   "cell_type": "markdown",
   "id": "b14ec099",
   "metadata": {},
   "source": [
    "## 日本語を英語に翻訳する"
   ]
  },
  {
   "cell_type": "code",
   "execution_count": 3,
   "id": "564c1e29",
   "metadata": {},
   "outputs": [],
   "source": [
    "MAX_LENGTH = 400  # モデルに入力することができる文字数の上限\n",
    "translator = pipeline(\"translation\", model=\"staka/fugumt-en-ja\")\n",
    "translated_text = []\n",
    "\n",
    "for t in result[\"text\"].split(\". \"):\n",
    "    translated_text.append(translator(t[:MAX_LENGTH])[0][\"translation_text\"])"
   ]
  },
  {
   "cell_type": "code",
   "execution_count": 4,
   "id": "5c8bb079",
   "metadata": {},
   "outputs": [
    {
     "data": {
      "text/plain": [
       "['Flexingの第3四半期ハイライトへようこそ。',\n",
       " 'Revenueの4D Quaterは9100万で、前回のガイダンスで約9000万だった。',\n",
       " 'Erningsは好調で、純利益と調整済み純利益は47.42百万で、それぞれ1株当たりErningsに翻訳され、調整済みErningsは88.79だった。',\n",
       " '第4四半期の貨物市場は急成長し、短期と長期の両方にプラスの影響を与えました。',\n",
       " '四半期中は3隻の船が新船のチャーターを開始し',\n",
       " '6月にフレックスと価格とフレックスアンバーの両方の7年間のチャーターを発表し、これらの船は短期契約の代わりに7月にこれらの新しい長期チャーターを開始しました。',\n",
       " 'また、第4四半期末には、シェニエとの契約により、最終第5船としてフレクサーオーラをチェニエに納入しました。',\n",
       " 'CFOの四半期中は、バランスシート最適化プログラムフェーズ2の下で再融資に忙しかったため、追加の1億ドルの現金を調達する目標がありました。この6億3000万の資金を4隻の船舶に調達することで、すでに1億1000万の現金リリースを確保しています。',\n",
       " 'また、新たに3隻の船舶をリファイナンスし、バランスシート最適化プログラムの目標を3億に引き上げることはできません。',\n",
       " 'フェーズ1では1億3700万ドルを',\n",
       " '本日 110を発売すると発表しました',\n",
       " '我々はこのプログラムのために合計で3億の現金を最小に調達すると思いますので、我々はまだ再融資する3つの船を持っています。',\n",
       " '次の四半期はもう少し良い数字が期待できます',\n",
       " 'これはFlex Artemis(フレックス・アルテミス)が主導し、スポット市場レートに結びついた可変的な高い契約を結んでいるため、前回の9000万から1億のガイダンスに沿って、第4四半期の収益は9500万から9800万に達すると予想しています。',\n",
       " '来年は100%の契約カバレッジがあり、2024年には最低91%のカバレッジがあります。',\n",
       " '2024年には2隻の船が',\n",
       " '充電器には拡張オプションがあるので、当社のポートフォリオにある最初の完全にオープンな船は2026年半ばです。',\n",
       " 'さまざまな健全な財務ポジションの強力な契約範囲を考えると、取締役会は1株当たり75セントの通常の四半期配当を宣言することを再び決定しました。',\n",
       " 'しかし今日、私たちは1株当たり2.75ドルを宣言しました。これは1株当たり利益2.76ドルに相当します。',\n",
       " 'これには、前四半期に支払われた50セントの特別配当が含まれます。',\n",
       " '昨年第4四半期の配当を含め、最後の4四半期に3.5ドルを支払った場合、投資家は今日の株価から約10%の利回りを得ることができます。',\n",
       " 'だから、3時ヨーロッパ時間、9時米国時間に私たちの完全なビデオウェブキャストに参加してください、私は私たちが市場と会社全般についていくつかの詳細を与えるようにあなたが参加できることを願っています。']"
      ]
     },
     "execution_count": 4,
     "metadata": {},
     "output_type": "execute_result"
    }
   ],
   "source": [
    "translated_text"
   ]
  }
 ],
 "metadata": {
  "kernelspec": {
   "display_name": "Python 3 (ipykernel)",
   "language": "python",
   "name": "python3"
  },
  "language_info": {
   "codemirror_mode": {
    "name": "ipython",
    "version": 3
   },
   "file_extension": ".py",
   "mimetype": "text/x-python",
   "name": "python",
   "nbconvert_exporter": "python",
   "pygments_lexer": "ipython3",
   "version": "3.9.15"
  }
 },
 "nbformat": 4,
 "nbformat_minor": 5
}
