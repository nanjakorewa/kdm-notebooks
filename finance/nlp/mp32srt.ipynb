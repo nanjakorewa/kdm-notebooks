{
 "cells": [
  {
   "cell_type": "code",
   "execution_count": null,
   "id": "fb3e25c1",
   "metadata": {},
   "outputs": [],
   "source": [
    "import warnings\n",
    "import whisper\n",
    "from transformers import pipeline\n",
    "\n",
    "warnings.simplefilter(\"ignore\")"
   ]
  },
  {
   "cell_type": "markdown",
   "id": "60609ecd",
   "metadata": {},
   "source": [
    "## whisperを使って音声認識を実行する"
   ]
  },
  {
   "cell_type": "code",
   "execution_count": null,
   "id": "dd95ac40",
   "metadata": {},
   "outputs": [],
   "source": [
    "model = whisper.load_model(\"base\")\n",
    "result = model.transcribe(\"FlexLNG_Q3_2022_Key_Takeaways.mp3\")\n",
    "result[\"text\"]"
   ]
  },
  {
   "cell_type": "markdown",
   "id": "b14ec099",
   "metadata": {},
   "source": [
    "## 日本語を英語に翻訳する\n",
    "- 使用するモデル：[staka/fugumt-en-ja ](https://staka.jp/wordpress/?p=413)\n",
    "- [Hugging Face](https://huggingface.co/staka/fugumt-en-ja)\n",
    "\n",
    "翻訳の正しさは保証されておらず、また本コードも動作や出力に関しては一切の責任を負えません。"
   ]
  },
  {
   "cell_type": "code",
   "execution_count": null,
   "id": "564c1e29",
   "metadata": {},
   "outputs": [],
   "source": [
    "MAX_LENGTH = 400  # モデルに入力することができる文字数の上限\n",
    "translator = pipeline(\"translation\", model=\"staka/fugumt-en-ja\")\n",
    "translated_text = []\n",
    "\n",
    "for t in result[\"text\"].split(\". \"):\n",
    "    translated_text.append(translator(t[:MAX_LENGTH])[0][\"translation_text\"])"
   ]
  },
  {
   "cell_type": "code",
   "execution_count": null,
   "id": "5c8bb079",
   "metadata": {},
   "outputs": [],
   "source": [
    "translated_text"
   ]
  }
 ],
 "metadata": {
  "kernelspec": {
   "display_name": "Python 3 (ipykernel)",
   "language": "python",
   "name": "python3"
  },
  "language_info": {
   "codemirror_mode": {
    "name": "ipython",
    "version": 3
   },
   "file_extension": ".py",
   "mimetype": "text/x-python",
   "name": "python",
   "nbconvert_exporter": "python",
   "pygments_lexer": "ipython3",
   "version": "3.9.15"
  }
 },
 "nbformat": 4,
 "nbformat_minor": 5
}
