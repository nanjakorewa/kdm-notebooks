{
 "cells": [
  {
   "cell_type": "markdown",
   "metadata": {},
   "source": [
    "# KShape\n",
    "```{hint}\n",
    "- [tslearn.clustering.KShape](https://tslearn.readthedocs.io/en/stable/gen_modules/clustering/tslearn.clustering.KShape.html)\n",
    "- [tslearn.generators.random_walsk](https://tslearn.readthedocs.io/en/stable/gen_modules/generators/tslearn.generators.random_walks.html)\n",
    "```\n",
    "\n",
    "KShape[1]を使って時系列を、その形状をもとにクラスタリングしてみます。\n",
    "\n",
    "[1] J. Paparrizos & L. Gravano. k-Shape: Efficient and Accurate Clustering of Time Series. SIGMOD 2015. pp. 1855-1870. \n"
   ]
  },
  {
   "cell_type": "code",
   "execution_count": 1,
   "metadata": {},
   "outputs": [
    {
     "data": {
      "text/plain": [
       "(3, 32, 1)"
      ]
     },
     "execution_count": 1,
     "metadata": {},
     "output_type": "execute_result"
    }
   ],
   "source": [
    "from tslearn.generators import random_walks\n",
    "from tslearn.preprocessing import TimeSeriesScalerMeanVariance\n",
    "from tslearn.clustering import KShape\n",
    "\n",
    "X = random_walks(n_ts=50, sz=32, d=1)\n",
    "X = TimeSeriesScalerMeanVariance(mu=0.0, std=1.0).fit_transform(X)\n",
    "ks = KShape(n_clusters=3, n_init=1, random_state=0).fit(X)\n",
    "ks.cluster_centers_.shape"
   ]
  }
 ],
 "metadata": {
  "interpreter": {
   "hash": "2fd46f8ce36935685c97dea28ae1706c4157d99151da2536348ae32fb54d6c57"
  },
  "kernelspec": {
   "display_name": "Python 3.8.5 ('dm-timeseries-6zBNI3SZ-py3.8')",
   "language": "python",
   "name": "python3"
  },
  "language_info": {
   "codemirror_mode": {
    "name": "ipython",
    "version": 3
   },
   "file_extension": ".py",
   "mimetype": "text/x-python",
   "name": "python",
   "nbconvert_exporter": "python",
   "pygments_lexer": "ipython3",
   "version": "3.8.5"
  },
  "orig_nbformat": 4
 },
 "nbformat": 4,
 "nbformat_minor": 2
}
