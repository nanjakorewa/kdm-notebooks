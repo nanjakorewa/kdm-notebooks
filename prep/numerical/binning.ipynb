{
 "cells": [
  {
   "cell_type": "markdown",
   "id": "0a504d89",
   "metadata": {},
   "source": [
    "# 数値を複数のビンに分ける"
   ]
  },
  {
   "cell_type": "code",
   "execution_count": 1,
   "id": "a3b0ba9b",
   "metadata": {},
   "outputs": [
    {
     "data": {
      "text/html": [
       "<div>\n",
       "<style scoped>\n",
       "    .dataframe tbody tr th:only-of-type {\n",
       "        vertical-align: middle;\n",
       "    }\n",
       "\n",
       "    .dataframe tbody tr th {\n",
       "        vertical-align: top;\n",
       "    }\n",
       "\n",
       "    .dataframe thead th {\n",
       "        text-align: right;\n",
       "    }\n",
       "</style>\n",
       "<table border=\"1\" class=\"dataframe\">\n",
       "  <thead>\n",
       "    <tr style=\"text-align: right;\">\n",
       "      <th></th>\n",
       "      <th>元号</th>\n",
       "      <th>和暦</th>\n",
       "      <th>西暦</th>\n",
       "      <th>人口総数</th>\n",
       "      <th>町名</th>\n",
       "    </tr>\n",
       "  </thead>\n",
       "  <tbody>\n",
       "    <tr>\n",
       "      <th>0</th>\n",
       "      <td>大正</td>\n",
       "      <td>9.0</td>\n",
       "      <td>1920.0</td>\n",
       "      <td>394748</td>\n",
       "      <td>A町</td>\n",
       "    </tr>\n",
       "    <tr>\n",
       "      <th>1</th>\n",
       "      <td>大正</td>\n",
       "      <td>9.0</td>\n",
       "      <td>1920.0</td>\n",
       "      <td>31421</td>\n",
       "      <td>B町</td>\n",
       "    </tr>\n",
       "    <tr>\n",
       "      <th>2</th>\n",
       "      <td>大正</td>\n",
       "      <td>9.0</td>\n",
       "      <td>1920.0</td>\n",
       "      <td>226993</td>\n",
       "      <td>C町</td>\n",
       "    </tr>\n",
       "    <tr>\n",
       "      <th>3</th>\n",
       "      <td>大正</td>\n",
       "      <td>9.0</td>\n",
       "      <td>1920.0</td>\n",
       "      <td>253689</td>\n",
       "      <td>D町</td>\n",
       "    </tr>\n",
       "    <tr>\n",
       "      <th>4</th>\n",
       "      <td>大正</td>\n",
       "      <td>9.0</td>\n",
       "      <td>1920.0</td>\n",
       "      <td>288602</td>\n",
       "      <td>E町</td>\n",
       "    </tr>\n",
       "  </tbody>\n",
       "</table>\n",
       "</div>"
      ],
      "text/plain": [
       "   元号   和暦      西暦    人口総数  町名\n",
       "0  大正  9.0  1920.0  394748  A町\n",
       "1  大正  9.0  1920.0   31421  B町\n",
       "2  大正  9.0  1920.0  226993  C町\n",
       "3  大正  9.0  1920.0  253689  D町\n",
       "4  大正  9.0  1920.0  288602  E町"
      ]
     },
     "execution_count": 1,
     "metadata": {},
     "output_type": "execute_result"
    }
   ],
   "source": [
    "import numpy as np\n",
    "import pandas as pd\n",
    "\n",
    "df = pd.read_csv(\"../data/sample.csv\")\n",
    "df.head()"
   ]
  },
  {
   "cell_type": "markdown",
   "id": "ddfa6f8b",
   "metadata": {},
   "source": [
    "# データを各分位点でビン化\n",
    "```{hint}\n",
    "[pandas.qcut](https://pandas.pydata.org/pandas-docs/stable/reference/api/pandas.qcut.html)\n",
    "```\n",
    "\n",
    "データをソートした時に、全体のX％でどれくらいの値になるかを基準としてビニング。\n",
    "```\n",
    "0.0        46.0\n",
    "0.1     18002.9 <- 10%の値\n",
    "0.2     20476.8\n",
    "0.3     22755.0\n",
    "0.4     26204.8\n",
    "0.5     30824.0\n",
    "0.6     45622.6\n",
    "0.7     89873.9\n",
    "0.8    245544.0\n",
    "0.9    290714.1 <- 90%の値\n",
    "1.0    765403.0\n",
    "```"
   ]
  },
  {
   "cell_type": "code",
   "execution_count": 2,
   "id": "44c5d474",
   "metadata": {},
   "outputs": [
    {
     "data": {
      "text/html": [
       "<div>\n",
       "<style scoped>\n",
       "    .dataframe tbody tr th:only-of-type {\n",
       "        vertical-align: middle;\n",
       "    }\n",
       "\n",
       "    .dataframe tbody tr th {\n",
       "        vertical-align: top;\n",
       "    }\n",
       "\n",
       "    .dataframe thead th {\n",
       "        text-align: right;\n",
       "    }\n",
       "</style>\n",
       "<table border=\"1\" class=\"dataframe\">\n",
       "  <thead>\n",
       "    <tr style=\"text-align: right;\">\n",
       "      <th></th>\n",
       "      <th>人口総数</th>\n",
       "      <th>人口総数_ビン化</th>\n",
       "    </tr>\n",
       "  </thead>\n",
       "  <tbody>\n",
       "    <tr>\n",
       "      <th>0</th>\n",
       "      <td>394748</td>\n",
       "      <td>(294187.0, 765403.0]</td>\n",
       "    </tr>\n",
       "    <tr>\n",
       "      <th>1</th>\n",
       "      <td>31421</td>\n",
       "      <td>(28169.0, 34470.0]</td>\n",
       "    </tr>\n",
       "    <tr>\n",
       "      <th>2</th>\n",
       "      <td>226993</td>\n",
       "      <td>(214984.0, 249929.0]</td>\n",
       "    </tr>\n",
       "    <tr>\n",
       "      <th>3</th>\n",
       "      <td>253689</td>\n",
       "      <td>(249929.0, 294187.0]</td>\n",
       "    </tr>\n",
       "    <tr>\n",
       "      <th>4</th>\n",
       "      <td>288602</td>\n",
       "      <td>(249929.0, 294187.0]</td>\n",
       "    </tr>\n",
       "  </tbody>\n",
       "</table>\n",
       "</div>"
      ],
      "text/plain": [
       "     人口総数              人口総数_ビン化\n",
       "0  394748  (294187.0, 765403.0]\n",
       "1   31421    (28169.0, 34470.0]\n",
       "2  226993  (214984.0, 249929.0]\n",
       "3  253689  (249929.0, 294187.0]\n",
       "4  288602  (249929.0, 294187.0]"
      ]
     },
     "execution_count": 2,
     "metadata": {},
     "output_type": "execute_result"
    }
   ],
   "source": [
    "df[\"人口総数_ビン化\"] = pd.qcut(df[\"人口総数\"], q=11)\n",
    "df[[\"人口総数\", \"人口総数_ビン化\"]].head()"
   ]
  }
 ],
 "metadata": {
  "kernelspec": {
   "display_name": "Python 3 (ipykernel)",
   "language": "python",
   "name": "python3"
  },
  "language_info": {
   "codemirror_mode": {
    "name": "ipython",
    "version": 3
   },
   "file_extension": ".py",
   "mimetype": "text/x-python",
   "name": "python",
   "nbconvert_exporter": "python",
   "pygments_lexer": "ipython3",
   "version": "3.8.5"
  }
 },
 "nbformat": 4,
 "nbformat_minor": 5
}
