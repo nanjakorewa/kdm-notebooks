{
 "cells": [
  {
   "cell_type": "markdown",
   "id": "2b335dcd",
   "metadata": {},
   "source": [
    "# Ordered Target Statistics\n",
    "参考文献：Prokhorenkova, Liudmila, et al. \"CatBoost: unbiased boosting with categorical features.\" arXiv preprint arXiv:1706.09516 (2017).\n",
    "\n",
    "\n",
    "## サンプルデータ\n",
    "「人口総数」を予測したいとして、「元号」をエンコードしたいとします。"
   ]
  },
  {
   "cell_type": "code",
   "execution_count": 1,
   "id": "1ba591c9",
   "metadata": {},
   "outputs": [
    {
     "data": {
      "text/html": [
       "<div>\n",
       "<style scoped>\n",
       "    .dataframe tbody tr th:only-of-type {\n",
       "        vertical-align: middle;\n",
       "    }\n",
       "\n",
       "    .dataframe tbody tr th {\n",
       "        vertical-align: top;\n",
       "    }\n",
       "\n",
       "    .dataframe thead th {\n",
       "        text-align: right;\n",
       "    }\n",
       "</style>\n",
       "<table border=\"1\" class=\"dataframe\">\n",
       "  <thead>\n",
       "    <tr style=\"text-align: right;\">\n",
       "      <th></th>\n",
       "      <th>元号</th>\n",
       "      <th>和暦</th>\n",
       "      <th>西暦</th>\n",
       "      <th>人口総数</th>\n",
       "      <th>町名</th>\n",
       "    </tr>\n",
       "  </thead>\n",
       "  <tbody>\n",
       "    <tr>\n",
       "      <th>0</th>\n",
       "      <td>大正</td>\n",
       "      <td>9.0</td>\n",
       "      <td>1920.0</td>\n",
       "      <td>394748</td>\n",
       "      <td>A町</td>\n",
       "    </tr>\n",
       "    <tr>\n",
       "      <th>1</th>\n",
       "      <td>大正</td>\n",
       "      <td>9.0</td>\n",
       "      <td>1920.0</td>\n",
       "      <td>31421</td>\n",
       "      <td>B町</td>\n",
       "    </tr>\n",
       "    <tr>\n",
       "      <th>2</th>\n",
       "      <td>大正</td>\n",
       "      <td>9.0</td>\n",
       "      <td>1920.0</td>\n",
       "      <td>226993</td>\n",
       "      <td>C町</td>\n",
       "    </tr>\n",
       "    <tr>\n",
       "      <th>3</th>\n",
       "      <td>大正</td>\n",
       "      <td>9.0</td>\n",
       "      <td>1920.0</td>\n",
       "      <td>253689</td>\n",
       "      <td>D町</td>\n",
       "    </tr>\n",
       "    <tr>\n",
       "      <th>4</th>\n",
       "      <td>大正</td>\n",
       "      <td>9.0</td>\n",
       "      <td>1920.0</td>\n",
       "      <td>288602</td>\n",
       "      <td>E町</td>\n",
       "    </tr>\n",
       "  </tbody>\n",
       "</table>\n",
       "</div>"
      ],
      "text/plain": [
       "   元号   和暦      西暦    人口総数  町名\n",
       "0  大正  9.0  1920.0  394748  A町\n",
       "1  大正  9.0  1920.0   31421  B町\n",
       "2  大正  9.0  1920.0  226993  C町\n",
       "3  大正  9.0  1920.0  253689  D町\n",
       "4  大正  9.0  1920.0  288602  E町"
      ]
     },
     "execution_count": 1,
     "metadata": {},
     "output_type": "execute_result"
    }
   ],
   "source": [
    "import pandas as pd\n",
    "\n",
    "X = pd.read_csv(\"../data/sample.csv\")\n",
    "TARGET_NAME = \"人口総数\"\n",
    "FEATURE_NAME = \"元号\"\n",
    "X.head()"
   ]
  },
  {
   "cell_type": "markdown",
   "id": "2c52cc39",
   "metadata": {},
   "source": [
    "## Ordered Target Statistics\n",
    "\n",
    "```{hint}\n",
    "- [category_encoders.cat_boost.CatBoostEncoder](http://contrib.scikit-learn.org/category_encoders/catboost.html)\n",
    "- [sklearn.compose.make_column_transformer](https://scikit-learn.org/stable/modules/generated/sklearn.compose.make_column_transformer.html)\n",
    "```"
   ]
  },
  {
   "cell_type": "code",
   "execution_count": 2,
   "id": "b5cd6706",
   "metadata": {},
   "outputs": [],
   "source": [
    "from category_encoders.cat_boost import CatBoostEncoder\n",
    "from sklearn.compose import make_column_transformer\n",
    "\n",
    "c_ots = CatBoostEncoder()\n",
    "\n",
    "y = X[TARGET_NAME]\n",
    "X[f\"{FEATURE_NAME}_ots\"] = c_ots.fit_transform(X[FEATURE_NAME], y)"
   ]
  },
  {
   "cell_type": "markdown",
   "id": "d857ed11",
   "metadata": {},
   "source": [
    "## 結果を確認する\n",
    "カテゴリ変数の列が `CatBoostEncoder` でエンコードされていることを確認します。"
   ]
  },
  {
   "cell_type": "code",
   "execution_count": 3,
   "id": "79bb3203",
   "metadata": {},
   "outputs": [
    {
     "data": {
      "text/html": [
       "<div>\n",
       "<style scoped>\n",
       "    .dataframe tbody tr th:only-of-type {\n",
       "        vertical-align: middle;\n",
       "    }\n",
       "\n",
       "    .dataframe tbody tr th {\n",
       "        vertical-align: top;\n",
       "    }\n",
       "\n",
       "    .dataframe thead th {\n",
       "        text-align: right;\n",
       "    }\n",
       "</style>\n",
       "<table border=\"1\" class=\"dataframe\">\n",
       "  <thead>\n",
       "    <tr style=\"text-align: right;\">\n",
       "      <th></th>\n",
       "      <th>元号</th>\n",
       "      <th>元号_ots</th>\n",
       "    </tr>\n",
       "  </thead>\n",
       "  <tbody>\n",
       "    <tr>\n",
       "      <th>0</th>\n",
       "      <td>大正</td>\n",
       "      <td>109247.087755</td>\n",
       "    </tr>\n",
       "    <tr>\n",
       "      <th>1</th>\n",
       "      <td>大正</td>\n",
       "      <td>251997.543878</td>\n",
       "    </tr>\n",
       "    <tr>\n",
       "      <th>2</th>\n",
       "      <td>大正</td>\n",
       "      <td>178472.029252</td>\n",
       "    </tr>\n",
       "    <tr>\n",
       "      <th>3</th>\n",
       "      <td>大正</td>\n",
       "      <td>190602.271939</td>\n",
       "    </tr>\n",
       "    <tr>\n",
       "      <th>4</th>\n",
       "      <td>大正</td>\n",
       "      <td>203219.617551</td>\n",
       "    </tr>\n",
       "    <tr>\n",
       "      <th>...</th>\n",
       "      <td>...</td>\n",
       "      <td>...</td>\n",
       "    </tr>\n",
       "    <tr>\n",
       "      <th>975</th>\n",
       "      <td>平成</td>\n",
       "      <td>101664.388810</td>\n",
       "    </tr>\n",
       "    <tr>\n",
       "      <th>976</th>\n",
       "      <td>平成</td>\n",
       "      <td>101406.646760</td>\n",
       "    </tr>\n",
       "    <tr>\n",
       "      <th>977</th>\n",
       "      <td>平成</td>\n",
       "      <td>101126.513717</td>\n",
       "    </tr>\n",
       "    <tr>\n",
       "      <th>978</th>\n",
       "      <td>平成</td>\n",
       "      <td>100845.716013</td>\n",
       "    </tr>\n",
       "    <tr>\n",
       "      <th>979</th>\n",
       "      <td>平成</td>\n",
       "      <td>100588.073626</td>\n",
       "    </tr>\n",
       "  </tbody>\n",
       "</table>\n",
       "<p>980 rows × 2 columns</p>\n",
       "</div>"
      ],
      "text/plain": [
       "     元号         元号_ots\n",
       "0    大正  109247.087755\n",
       "1    大正  251997.543878\n",
       "2    大正  178472.029252\n",
       "3    大正  190602.271939\n",
       "4    大正  203219.617551\n",
       "..   ..            ...\n",
       "975  平成  101664.388810\n",
       "976  平成  101406.646760\n",
       "977  平成  101126.513717\n",
       "978  平成  100845.716013\n",
       "979  平成  100588.073626\n",
       "\n",
       "[980 rows x 2 columns]"
      ]
     },
     "execution_count": 3,
     "metadata": {},
     "output_type": "execute_result"
    }
   ],
   "source": [
    "X[[FEATURE_NAME, f\"{FEATURE_NAME}_ots\"]]"
   ]
  },
  {
   "cell_type": "markdown",
   "id": "bb85c1de",
   "metadata": {},
   "source": [
    "## エンコード結果の分布を確認する"
   ]
  },
  {
   "cell_type": "code",
   "execution_count": 6,
   "id": "109f5ce2",
   "metadata": {},
   "outputs": [
    {
     "data": {
      "text/plain": [
       "<matplotlib.legend.Legend at 0x7fcb0c7e5a30>"
      ]
     },
     "execution_count": 6,
     "metadata": {},
     "output_type": "execute_result"
    },
    {
     "data": {
      "image/png": "[encoded data removed]",
      "text/plain": [
       "<Figure size 576x288 with 1 Axes>"
      ]
     },
     "metadata": {
      "needs_background": "light"
     },
     "output_type": "display_data"
    }
   ],
   "source": [
    "import matplotlib.pyplot as plt\n",
    "import japanize_matplotlib\n",
    "\n",
    "plt.figure(figsize=(8, 4))\n",
    "for i, ci in enumerate(X[FEATURE_NAME].unique()):\n",
    "    plt.hist(\n",
    "        X.query(f\"{FEATURE_NAME}=='{ci}'\")[f\"{FEATURE_NAME}_ots\"], label=ci, alpha=0.5\n",
    "    )\n",
    "\n",
    "plt.title(\"エンコードされた結果の分布\")\n",
    "plt.legend(title=FEATURE_NAME)"
   ]
  }
 ],
 "metadata": {
  "kernelspec": {
   "display_name": "Python 3 (ipykernel)",
   "language": "python",
   "name": "python3"
  },
  "language_info": {
   "codemirror_mode": {
    "name": "ipython",
    "version": 3
   },
   "file_extension": ".py",
   "mimetype": "text/x-python",
   "name": "python",
   "nbconvert_exporter": "python",
   "pygments_lexer": "ipython3",
   "version": "3.8.5"
  }
 },
 "nbformat": 4,
 "nbformat_minor": 5
}
