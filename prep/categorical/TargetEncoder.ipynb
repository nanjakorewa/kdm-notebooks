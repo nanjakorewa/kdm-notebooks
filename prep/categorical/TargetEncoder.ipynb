{
 "cells": [
  {
   "cell_type": "markdown",
   "id": "2b335dcd",
   "metadata": {},
   "source": [
    "# Target Encoder\n",
    "\n",
    "## サンプルデータ\n",
    "「人口総数」を予測したいとして、「元号」をエンコードしたいとします。"
   ]
  },
  {
   "cell_type": "code",
   "execution_count": 1,
   "id": "1ba591c9",
   "metadata": {},
   "outputs": [
    {
     "data": {
      "text/html": [
       "<div>\n",
       "<style scoped>\n",
       "    .dataframe tbody tr th:only-of-type {\n",
       "        vertical-align: middle;\n",
       "    }\n",
       "\n",
       "    .dataframe tbody tr th {\n",
       "        vertical-align: top;\n",
       "    }\n",
       "\n",
       "    .dataframe thead th {\n",
       "        text-align: right;\n",
       "    }\n",
       "</style>\n",
       "<table border=\"1\" class=\"dataframe\">\n",
       "  <thead>\n",
       "    <tr style=\"text-align: right;\">\n",
       "      <th></th>\n",
       "      <th>元号</th>\n",
       "      <th>和暦</th>\n",
       "      <th>西暦</th>\n",
       "      <th>人口総数</th>\n",
       "      <th>町名</th>\n",
       "    </tr>\n",
       "  </thead>\n",
       "  <tbody>\n",
       "    <tr>\n",
       "      <th>0</th>\n",
       "      <td>大正</td>\n",
       "      <td>9.0</td>\n",
       "      <td>1920.0</td>\n",
       "      <td>394748</td>\n",
       "      <td>A町</td>\n",
       "    </tr>\n",
       "    <tr>\n",
       "      <th>1</th>\n",
       "      <td>大正</td>\n",
       "      <td>9.0</td>\n",
       "      <td>1920.0</td>\n",
       "      <td>31421</td>\n",
       "      <td>B町</td>\n",
       "    </tr>\n",
       "    <tr>\n",
       "      <th>2</th>\n",
       "      <td>大正</td>\n",
       "      <td>9.0</td>\n",
       "      <td>1920.0</td>\n",
       "      <td>226993</td>\n",
       "      <td>C町</td>\n",
       "    </tr>\n",
       "    <tr>\n",
       "      <th>3</th>\n",
       "      <td>大正</td>\n",
       "      <td>9.0</td>\n",
       "      <td>1920.0</td>\n",
       "      <td>253689</td>\n",
       "      <td>D町</td>\n",
       "    </tr>\n",
       "    <tr>\n",
       "      <th>4</th>\n",
       "      <td>大正</td>\n",
       "      <td>9.0</td>\n",
       "      <td>1920.0</td>\n",
       "      <td>288602</td>\n",
       "      <td>E町</td>\n",
       "    </tr>\n",
       "  </tbody>\n",
       "</table>\n",
       "</div>"
      ],
      "text/plain": [
       "   元号   和暦      西暦    人口総数  町名\n",
       "0  大正  9.0  1920.0  394748  A町\n",
       "1  大正  9.0  1920.0   31421  B町\n",
       "2  大正  9.0  1920.0  226993  C町\n",
       "3  大正  9.0  1920.0  253689  D町\n",
       "4  大正  9.0  1920.0  288602  E町"
      ]
     },
     "execution_count": 1,
     "metadata": {},
     "output_type": "execute_result"
    }
   ],
   "source": [
    "import pandas as pd\n",
    "\n",
    "X = pd.read_csv(\"../data/sample.csv\")\n",
    "TARGET_NAME = \"人口総数\"\n",
    "FEATURE_NAME = \"元号\"\n",
    "X.head()"
   ]
  },
  {
   "cell_type": "markdown",
   "id": "2c52cc39",
   "metadata": {},
   "source": [
    "## TargetEncoder\n",
    "\n",
    "```{hint}\n",
    "- [category_encoders.target_encoder.TargetEncoder](http://contrib.scikit-learn.org/category_encoders/targetencoder.html)\n",
    "- [sklearn.compose.make_column_transformer](https://scikit-learn.org/stable/modules/generated/sklearn.compose.make_column_transformer.html)\n",
    "```"
   ]
  },
  {
   "cell_type": "code",
   "execution_count": 2,
   "id": "b5cd6706",
   "metadata": {},
   "outputs": [],
   "source": [
    "from category_encoders.target_encoder import TargetEncoder\n",
    "\n",
    "c_te = TargetEncoder()\n",
    "\n",
    "y = X[TARGET_NAME]\n",
    "X[f\"{FEATURE_NAME}_te\"] = c_te.fit_transform(X[FEATURE_NAME], y)"
   ]
  },
  {
   "cell_type": "markdown",
   "id": "d857ed11",
   "metadata": {},
   "source": [
    "## 結果を確認する\n",
    "カテゴリ変数の列が `TargetEncoder` でエンコードされていることを確認します。\n",
    "この方法は、目的変数の平均値をそのままエンコードに使用します。つまり、あるデータをエンコードするために**そのデータの目的変数の情報**を使用しています(leakage[1]と呼びます)。そのため、データ数が少ない場合は特に、実際に将来のデータに対して予測した場合とCVで評価した場合を比較すると、CV時に誤差が少なく見積もられる可能性がある点に注意して下さい。\n",
    "\n",
    "[1] Kaufman, Shachar, et al. \"Leakage in data mining: Formulation, detection, and avoidance.\" ACM Transactions on Knowledge Discovery from Data (TKDD) 6.4 (2012): 1-21."
   ]
  },
  {
   "cell_type": "code",
   "execution_count": 3,
   "id": "79bb3203",
   "metadata": {},
   "outputs": [
    {
     "data": {
      "text/html": [
       "<div>\n",
       "<style scoped>\n",
       "    .dataframe tbody tr th:only-of-type {\n",
       "        vertical-align: middle;\n",
       "    }\n",
       "\n",
       "    .dataframe tbody tr th {\n",
       "        vertical-align: top;\n",
       "    }\n",
       "\n",
       "    .dataframe thead th {\n",
       "        text-align: right;\n",
       "    }\n",
       "</style>\n",
       "<table border=\"1\" class=\"dataframe\">\n",
       "  <thead>\n",
       "    <tr style=\"text-align: right;\">\n",
       "      <th></th>\n",
       "      <th>元号</th>\n",
       "      <th>元号_te</th>\n",
       "    </tr>\n",
       "  </thead>\n",
       "  <tbody>\n",
       "    <tr>\n",
       "      <th>0</th>\n",
       "      <td>大正</td>\n",
       "      <td>144791.552083</td>\n",
       "    </tr>\n",
       "    <tr>\n",
       "      <th>1</th>\n",
       "      <td>大正</td>\n",
       "      <td>144791.552083</td>\n",
       "    </tr>\n",
       "    <tr>\n",
       "      <th>2</th>\n",
       "      <td>大正</td>\n",
       "      <td>144791.552083</td>\n",
       "    </tr>\n",
       "    <tr>\n",
       "      <th>3</th>\n",
       "      <td>大正</td>\n",
       "      <td>144791.552083</td>\n",
       "    </tr>\n",
       "    <tr>\n",
       "      <th>4</th>\n",
       "      <td>大正</td>\n",
       "      <td>144791.552083</td>\n",
       "    </tr>\n",
       "    <tr>\n",
       "      <th>...</th>\n",
       "      <td>...</td>\n",
       "      <td>...</td>\n",
       "    </tr>\n",
       "    <tr>\n",
       "      <th>975</th>\n",
       "      <td>平成</td>\n",
       "      <td>100294.140000</td>\n",
       "    </tr>\n",
       "    <tr>\n",
       "      <th>976</th>\n",
       "      <td>平成</td>\n",
       "      <td>100294.140000</td>\n",
       "    </tr>\n",
       "    <tr>\n",
       "      <th>977</th>\n",
       "      <td>平成</td>\n",
       "      <td>100294.140000</td>\n",
       "    </tr>\n",
       "    <tr>\n",
       "      <th>978</th>\n",
       "      <td>平成</td>\n",
       "      <td>100294.140000</td>\n",
       "    </tr>\n",
       "    <tr>\n",
       "      <th>979</th>\n",
       "      <td>平成</td>\n",
       "      <td>100294.140000</td>\n",
       "    </tr>\n",
       "  </tbody>\n",
       "</table>\n",
       "<p>980 rows × 2 columns</p>\n",
       "</div>"
      ],
      "text/plain": [
       "     元号          元号_te\n",
       "0    大正  144791.552083\n",
       "1    大正  144791.552083\n",
       "2    大正  144791.552083\n",
       "3    大正  144791.552083\n",
       "4    大正  144791.552083\n",
       "..   ..            ...\n",
       "975  平成  100294.140000\n",
       "976  平成  100294.140000\n",
       "977  平成  100294.140000\n",
       "978  平成  100294.140000\n",
       "979  平成  100294.140000\n",
       "\n",
       "[980 rows x 2 columns]"
      ]
     },
     "execution_count": 3,
     "metadata": {},
     "output_type": "execute_result"
    }
   ],
   "source": [
    "X[[FEATURE_NAME, f\"{FEATURE_NAME}_te\"]]"
   ]
  },
  {
   "cell_type": "markdown",
   "id": "bb85c1de",
   "metadata": {},
   "source": [
    "## 元号ごとの平均値\n",
    "元号ごとのターゲットの平均値を用いてエンコードされていることを確認します"
   ]
  },
  {
   "cell_type": "code",
   "execution_count": 4,
   "id": "109f5ce2",
   "metadata": {},
   "outputs": [
    {
     "data": {
      "text/plain": [
       "元号\n",
       "大正    144791.552083\n",
       "平成    100294.140000\n",
       "昭和    108003.279110\n",
       "Name: 人口総数, dtype: float64"
      ]
     },
     "execution_count": 4,
     "metadata": {},
     "output_type": "execute_result"
    }
   ],
   "source": [
    "X.groupby(FEATURE_NAME).agg(\"mean\")[TARGET_NAME]"
   ]
  }
 ],
 "metadata": {
  "kernelspec": {
   "display_name": "Python 3 (ipykernel)",
   "language": "python",
   "name": "python3"
  },
  "language_info": {
   "codemirror_mode": {
    "name": "ipython",
    "version": 3
   },
   "file_extension": ".py",
   "mimetype": "text/x-python",
   "name": "python",
   "nbconvert_exporter": "python",
   "pygments_lexer": "ipython3",
   "version": "3.8.5"
  }
 },
 "nbformat": 4,
 "nbformat_minor": 5
}
