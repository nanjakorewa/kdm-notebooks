{
 "cells": [
  {
   "cell_type": "markdown",
   "id": "2d4b30f5",
   "metadata": {},
   "source": [
    "# テーブルの列を列名のパターンマッチで選択\n",
    "## サンプルデータ"
   ]
  },
  {
   "cell_type": "code",
   "execution_count": 1,
   "id": "7542a696",
   "metadata": {},
   "outputs": [
    {
     "data": {
      "text/html": [
       "<div>\n",
       "<style scoped>\n",
       "    .dataframe tbody tr th:only-of-type {\n",
       "        vertical-align: middle;\n",
       "    }\n",
       "\n",
       "    .dataframe tbody tr th {\n",
       "        vertical-align: top;\n",
       "    }\n",
       "\n",
       "    .dataframe thead th {\n",
       "        text-align: right;\n",
       "    }\n",
       "</style>\n",
       "<table border=\"1\" class=\"dataframe\">\n",
       "  <thead>\n",
       "    <tr style=\"text-align: right;\">\n",
       "      <th></th>\n",
       "      <th>元号</th>\n",
       "      <th>和暦</th>\n",
       "      <th>西暦</th>\n",
       "      <th>人口総数</th>\n",
       "      <th>町名</th>\n",
       "    </tr>\n",
       "  </thead>\n",
       "  <tbody>\n",
       "    <tr>\n",
       "      <th>0</th>\n",
       "      <td>大正</td>\n",
       "      <td>9.0</td>\n",
       "      <td>1920.0</td>\n",
       "      <td>394748</td>\n",
       "      <td>A町</td>\n",
       "    </tr>\n",
       "    <tr>\n",
       "      <th>1</th>\n",
       "      <td>大正</td>\n",
       "      <td>9.0</td>\n",
       "      <td>1920.0</td>\n",
       "      <td>31421</td>\n",
       "      <td>B町</td>\n",
       "    </tr>\n",
       "    <tr>\n",
       "      <th>2</th>\n",
       "      <td>大正</td>\n",
       "      <td>9.0</td>\n",
       "      <td>1920.0</td>\n",
       "      <td>226993</td>\n",
       "      <td>C町</td>\n",
       "    </tr>\n",
       "    <tr>\n",
       "      <th>3</th>\n",
       "      <td>大正</td>\n",
       "      <td>9.0</td>\n",
       "      <td>1920.0</td>\n",
       "      <td>253689</td>\n",
       "      <td>D町</td>\n",
       "    </tr>\n",
       "    <tr>\n",
       "      <th>4</th>\n",
       "      <td>大正</td>\n",
       "      <td>9.0</td>\n",
       "      <td>1920.0</td>\n",
       "      <td>288602</td>\n",
       "      <td>E町</td>\n",
       "    </tr>\n",
       "  </tbody>\n",
       "</table>\n",
       "</div>"
      ],
      "text/plain": [
       "   元号   和暦      西暦    人口総数  町名\n",
       "0  大正  9.0  1920.0  394748  A町\n",
       "1  大正  9.0  1920.0   31421  B町\n",
       "2  大正  9.0  1920.0  226993  C町\n",
       "3  大正  9.0  1920.0  253689  D町\n",
       "4  大正  9.0  1920.0  288602  E町"
      ]
     },
     "execution_count": 1,
     "metadata": {},
     "output_type": "execute_result"
    }
   ],
   "source": [
    "import pandas as pd\n",
    "\n",
    "X = pd.read_csv(\"../data/sample.csv\")\n",
    "X.head()"
   ]
  },
  {
   "cell_type": "markdown",
   "id": "ca2abbd6",
   "metadata": {},
   "source": [
    "## sklearn.compose.make_column_selector\n",
    "[sklearn.compose.make_column_selector](https://scikit-learn.org/stable/modules/generated/sklearn.compose.make_column_selector.html)\n",
    "を使用します。`pattern=\"暦\"`で暦が含まれる列を選択し、StandardScalerを適用します。"
   ]
  },
  {
   "cell_type": "code",
   "execution_count": 2,
   "id": "6020beaa",
   "metadata": {},
   "outputs": [
    {
     "data": {
      "text/html": [
       "<div>\n",
       "<style scoped>\n",
       "    .dataframe tbody tr th:only-of-type {\n",
       "        vertical-align: middle;\n",
       "    }\n",
       "\n",
       "    .dataframe tbody tr th {\n",
       "        vertical-align: top;\n",
       "    }\n",
       "\n",
       "    .dataframe thead th {\n",
       "        text-align: right;\n",
       "    }\n",
       "</style>\n",
       "<table border=\"1\" class=\"dataframe\">\n",
       "  <thead>\n",
       "    <tr style=\"text-align: right;\">\n",
       "      <th></th>\n",
       "      <th>0</th>\n",
       "      <th>1</th>\n",
       "    </tr>\n",
       "  </thead>\n",
       "  <tbody>\n",
       "    <tr>\n",
       "      <th>0</th>\n",
       "      <td>-0.946623</td>\n",
       "      <td>-1.665466</td>\n",
       "    </tr>\n",
       "    <tr>\n",
       "      <th>1</th>\n",
       "      <td>-0.946623</td>\n",
       "      <td>-1.665466</td>\n",
       "    </tr>\n",
       "    <tr>\n",
       "      <th>2</th>\n",
       "      <td>-0.946623</td>\n",
       "      <td>-1.665466</td>\n",
       "    </tr>\n",
       "    <tr>\n",
       "      <th>3</th>\n",
       "      <td>-0.946623</td>\n",
       "      <td>-1.665466</td>\n",
       "    </tr>\n",
       "    <tr>\n",
       "      <th>4</th>\n",
       "      <td>-0.946623</td>\n",
       "      <td>-1.665466</td>\n",
       "    </tr>\n",
       "  </tbody>\n",
       "</table>\n",
       "</div>"
      ],
      "text/plain": [
       "          0         1\n",
       "0 -0.946623 -1.665466\n",
       "1 -0.946623 -1.665466\n",
       "2 -0.946623 -1.665466\n",
       "3 -0.946623 -1.665466\n",
       "4 -0.946623 -1.665466"
      ]
     },
     "execution_count": 2,
     "metadata": {},
     "output_type": "execute_result"
    }
   ],
   "source": [
    "from sklearn.preprocessing import StandardScaler\n",
    "from sklearn.compose import make_column_transformer\n",
    "from sklearn.compose import make_column_selector\n",
    "\n",
    "n_ss = StandardScaler()\n",
    "\n",
    "# 暦が含まれる列のみスケーリング\n",
    "ct = make_column_transformer(\n",
    "    (n_ss, make_column_selector(pattern=\"暦\")), sparse_threshold=0\n",
    ")\n",
    "X_transform = ct.fit_transform(X)\n",
    "\n",
    "# 変換後のテーブル\n",
    "pd.DataFrame(X_transform).head()"
   ]
  }
 ],
 "metadata": {
  "kernelspec": {
   "display_name": "Python 3 (ipykernel)",
   "language": "python",
   "name": "python3"
  },
  "language_info": {
   "codemirror_mode": {
    "name": "ipython",
    "version": 3
   },
   "file_extension": ".py",
   "mimetype": "text/x-python",
   "name": "python",
   "nbconvert_exporter": "python",
   "pygments_lexer": "ipython3",
   "version": "3.8.5"
  }
 },
 "nbformat": 4,
 "nbformat_minor": 5
}
