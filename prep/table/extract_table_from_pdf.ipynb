{
 "cells": [
  {
   "cell_type": "markdown",
   "id": "08d69f8d",
   "metadata": {},
   "source": [
    "# pdfからテーブルを抽出する\n",
    "<iframe width=\"560\" height=\"315\" src=\"https://www.youtube.com/embed/iuBG4s-xbOo\" title=\"YouTube video player\" frameborder=\"0\" allow=\"accelerometer; autoplay; clipboard-write; encrypted-media; gyroscope; picture-in-picture\" allowfullscreen></iframe>\n",
    "\n",
    "## camelotを使う場合\n",
    "### 必要なライブラリをインストール\n",
    "今回はCamelotというライブラリを使ってpdfからテーブルを抽出します。\n",
    "`opencv-contrib-python`、`camelot`、`tabula-py`が必要なので適宜インストールします。\n",
    "\n",
    "```\n",
    "poetry add opencv-contrib-python camelot tabula-py ghostscript\n",
    "```\n",
    "\n",
    "Ghostscriptというソフトウェアも必要なのでインストールします。\n",
    "OSによってインストール方法が異なるので注意してください。\n",
    "インストール方法は[こちら](https://camelot-py.readthedocs.io/en/master/user/install-deps.html)を参照してください。\n",
    "\n",
    "### ghostscriptがインストールされているか確認する"
   ]
  },
  {
   "cell_type": "code",
   "execution_count": 1,
   "id": "243e1666",
   "metadata": {},
   "outputs": [
    {
     "data": {
      "text/plain": [
       "'/usr/local/lib/libgs.dylib'"
      ]
     },
     "execution_count": 1,
     "metadata": {},
     "output_type": "execute_result"
    }
   ],
   "source": [
    "from ctypes.util import find_library\n",
    "\n",
    "find_library(\"gs\")  # gsが実行可能ならば /usr/local/lib/libgs.dylibなどの表示がされます"
   ]
  },
  {
   "cell_type": "markdown",
   "id": "38082b5b",
   "metadata": {},
   "source": [
    "### pdfからテーブルを抽出する\n",
    "例として[総務省のページで公開されている「政策ごとの予算との対応について」のpdf](https://www.soumu.go.jp/menu_yosan/yosan.html#r4)からテーブルを抽出します。テーブルがパースできたことがわかります。\n",
    "\n",
    "※jupyterbookでエラーが出る場合があるためコメントアウトしています"
   ]
  },
  {
   "cell_type": "code",
   "execution_count": 2,
   "id": "c58b503b",
   "metadata": {},
   "outputs": [],
   "source": [
    "import camelot\n",
    "\n",
    "# pdfを読み込んでテーブルを抽出\n",
    "# pdf_name = \"000788423.pdf\"\n",
    "# tables = camelot.read_pdf(pdf_name)\n",
    "# print(\"パースできたテーブル数\", tables.n)\n",
    "\n",
    "# 先頭５行のみ表示\n",
    "# tables[0].df.head()"
   ]
  },
  {
   "cell_type": "markdown",
   "id": "ec7aa09e",
   "metadata": {},
   "source": [
    "今度はFLEX LNGという会社の決算情報をパースしてみます。\n",
    "データは[FLEXLNG｜Investor Home](https://www.flexlng.com/investor-home/)で取得したファイルで実行しています。\n",
    "今後はテーブルのパースに失敗してしましました。"
   ]
  },
  {
   "cell_type": "code",
   "execution_count": 3,
   "id": "57431adb",
   "metadata": {},
   "outputs": [
    {
     "name": "stdout",
     "output_type": "stream",
     "text": [
      "パースできたテーブル数 0\n"
     ]
    }
   ],
   "source": [
    "# pdfを読み込んでテーブルを抽出\n",
    "pdf_name = \"flex-lng-earnings-release-q3-2021.pdf\"\n",
    "tables = camelot.read_pdf(pdf_name)\n",
    "print(\"パースできたテーブル数\", tables.n)\n",
    "# 先頭５行のみ表示\n",
    "# tables[0].df.head()"
   ]
  },
  {
   "cell_type": "markdown",
   "id": "1451252b",
   "metadata": {},
   "source": [
    "## tabula-py を使う場合\n",
    "`poetry add tabula-py`などとしてtabulaをインストールしてください。\n",
    "tabulaはバックグラウンドで[tabula-java\n",
    "](https://github.com/tabulapdf/tabula-java)を使用していますが、Javaのバージョンが古い場合こちらがエラーになる場合があるようです。\n",
    "\n",
    "参考文献：[subprocess.CalledProcessError While extracting table from PDF using tabula-py](https://github.com/chezou/tabula-py/issues/206)"
   ]
  },
  {
   "cell_type": "code",
   "execution_count": 4,
   "id": "d93f1a1d",
   "metadata": {},
   "outputs": [
    {
     "data": {
      "text/html": [
       "<div>\n",
       "<style scoped>\n",
       "    .dataframe tbody tr th:only-of-type {\n",
       "        vertical-align: middle;\n",
       "    }\n",
       "\n",
       "    .dataframe tbody tr th {\n",
       "        vertical-align: top;\n",
       "    }\n",
       "\n",
       "    .dataframe thead th {\n",
       "        text-align: right;\n",
       "    }\n",
       "</style>\n",
       "<table border=\"1\" class=\"dataframe\">\n",
       "  <thead>\n",
       "    <tr style=\"text-align: right;\">\n",
       "      <th></th>\n",
       "      <th>ASSETS</th>\n",
       "      <th>Unnamed: 0</th>\n",
       "      <th>Unnamed: 1</th>\n",
       "      <th>Unnamed: 2</th>\n",
       "      <th>Unnamed: 3</th>\n",
       "    </tr>\n",
       "  </thead>\n",
       "  <tbody>\n",
       "    <tr>\n",
       "      <th>0</th>\n",
       "      <td>Current assets</td>\n",
       "      <td>NaN</td>\n",
       "      <td>NaN</td>\n",
       "      <td>NaN</td>\n",
       "      <td>NaN</td>\n",
       "    </tr>\n",
       "    <tr>\n",
       "      <th>1</th>\n",
       "      <td>Cash and cash equivalents</td>\n",
       "      <td>4</td>\n",
       "      <td>138,116</td>\n",
       "      <td>144,151</td>\n",
       "      <td>128,878</td>\n",
       "    </tr>\n",
       "    <tr>\n",
       "      <th>2</th>\n",
       "      <td>Restricted cash</td>\n",
       "      <td>4</td>\n",
       "      <td>47</td>\n",
       "      <td>56</td>\n",
       "      <td>84</td>\n",
       "    </tr>\n",
       "    <tr>\n",
       "      <th>3</th>\n",
       "      <td>Inventory</td>\n",
       "      <td>NaN</td>\n",
       "      <td>5,915</td>\n",
       "      <td>4,075</td>\n",
       "      <td>3,656</td>\n",
       "    </tr>\n",
       "    <tr>\n",
       "      <th>4</th>\n",
       "      <td>Other current assets</td>\n",
       "      <td>5</td>\n",
       "      <td>12,503</td>\n",
       "      <td>8,886</td>\n",
       "      <td>25,061</td>\n",
       "    </tr>\n",
       "  </tbody>\n",
       "</table>\n",
       "</div>"
      ],
      "text/plain": [
       "                      ASSETS Unnamed: 0 Unnamed: 1 Unnamed: 2 Unnamed: 3\n",
       "0             Current assets        NaN        NaN        NaN        NaN\n",
       "1  Cash and cash equivalents          4    138,116    144,151    128,878\n",
       "2            Restricted cash          4         47         56         84\n",
       "3                  Inventory        NaN      5,915      4,075      3,656\n",
       "4       Other current assets          5     12,503      8,886     25,061"
      ]
     },
     "execution_count": 4,
     "metadata": {},
     "output_type": "execute_result"
    }
   ],
   "source": [
    "from tabula import read_pdf\n",
    "\n",
    "tables = read_pdf(\"flex-lng-earnings-release-q3-2021.pdf\", pages=\"all\")\n",
    "data = tables[1]\n",
    "data.head()"
   ]
  },
  {
   "cell_type": "markdown",
   "id": "de3c73bf",
   "metadata": {},
   "source": [
    "### パースしたテーブルを可視化する\n",
    "tabulateでパースしたテーブルは文字列になっているので、そこから数値を読み取ります。"
   ]
  },
  {
   "cell_type": "code",
   "execution_count": 5,
   "id": "5f37cd21",
   "metadata": {},
   "outputs": [
    {
     "data": {
      "image/png": "[encoded data removed]",
      "text/plain": [
       "<Figure size 432x288 with 1 Axes>"
      ]
     },
     "metadata": {
      "needs_background": "light"
     },
     "output_type": "display_data"
    }
   ],
   "source": [
    "import matplotlib.pyplot as plt\n",
    "\n",
    "d = data.query(\"ASSETS=='Cash and cash equivalents'\").iloc[0][2:]\n",
    "\n",
    "# パースしたテーブルは文字列になっているので数値に変換する\n",
    "d = [int(v.replace(\",\", \"\")) for v in d]\n",
    "\n",
    "# プロット\n",
    "plt.bar([0, 1, 2], d)\n",
    "plt.xticks([0, 1, 2], [\"2021 Sep 30\", \"2021 June 30\", \"2020 Dec 31\"])\n",
    "plt.show()"
   ]
  }
 ],
 "metadata": {
  "kernelspec": {
   "display_name": "Python 3 (ipykernel)",
   "language": "python",
   "name": "python3"
  },
  "language_info": {
   "codemirror_mode": {
    "name": "ipython",
    "version": 3
   },
   "file_extension": ".py",
   "mimetype": "text/x-python",
   "name": "python",
   "nbconvert_exporter": "python",
   "pygments_lexer": "ipython3",
   "version": "3.8.5"
  }
 },
 "nbformat": 4,
 "nbformat_minor": 5
}
