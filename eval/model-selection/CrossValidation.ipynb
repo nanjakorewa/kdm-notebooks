{
 "cells": [
  {
   "cell_type": "markdown",
   "id": "d5fae2b1",
   "metadata": {},
   "source": [
    "# 交差検証\n",
    "\n",
    "> *標本データを分割し、その一部をまず解析して、残る部分でその解析のテストを行い、解析自身の妥当性の検証・確認に当てる手法* [交差検証 出典: フリー百科事典『ウィキペディア（Wikipedia）』](https://ja.wikipedia.org/wiki/%E4%BA%A4%E5%B7%AE%E6%A4%9C%E8%A8%BC)"
   ]
  },
  {
   "cell_type": "code",
   "execution_count": 1,
   "id": "d57bf550",
   "metadata": {},
   "outputs": [],
   "source": [
    "import numpy as np\n",
    "import matplotlib.pyplot as plt\n",
    "from sklearn.datasets import make_classification\n",
    "from sklearn.ensemble import RandomForestClassifier\n",
    "from sklearn.model_selection import train_test_split\n",
    "from sklearn.model_selection import cross_validate\n",
    "from sklearn.metrics import roc_auc_score"
   ]
  },
  {
   "cell_type": "code",
   "execution_count": 2,
   "id": "d1cbb72b",
   "metadata": {
    "tags": [
     "hide-input"
    ]
   },
   "outputs": [],
   "source": [
    "RND = 777\n",
    "np.random.seed(RND)  # 乱数を固定するため\n",
    "\n",
    "# 表示する文字サイズを調整\n",
    "plt.rc(\"font\", size=20)\n",
    "plt.rc(\"legend\", fontsize=16)\n",
    "plt.rc(\"xtick\", labelsize=14)\n",
    "plt.rc(\"ytick\", labelsize=14)\n",
    "\n",
    "# youtube動画を表示\n",
    "import IPython.display\n",
    "\n",
    "# IPython.display.YouTubeVideo(\"XXX\", width=\"500px\")"
   ]
  },
  {
   "cell_type": "markdown",
   "id": "21fbfd42",
   "metadata": {},
   "source": [
    "# サンプルデータに対してモデルを作成し交差検証\n",
    "## 実験用データ"
   ]
  },
  {
   "cell_type": "code",
   "execution_count": 3,
   "id": "e1538bc5",
   "metadata": {},
   "outputs": [],
   "source": [
    "X, y = make_classification(\n",
    "    n_samples=300,\n",
    "    n_classes=2,\n",
    "    n_informative=4,\n",
    "    n_features=6,\n",
    "    weights=[0.2, 0.8],\n",
    "    n_clusters_per_class=2,\n",
    "    shuffle=True,\n",
    "    random_state=RND,\n",
    ")\n",
    "\n",
    "train_valid_X, test_X, train_valid_y, test_y = train_test_split(\n",
    "    X, y, test_size=0.2, stratify=y, random_state=RND\n",
    ")"
   ]
  },
  {
   "cell_type": "markdown",
   "id": "16effbb0",
   "metadata": {},
   "source": [
    "## 交差検証なしの場合のテストデータでのモデル精度\n",
    "一度だけ `train_test_split` を実行してそのテストデータで評価します。"
   ]
  },
  {
   "cell_type": "code",
   "execution_count": 4,
   "id": "ddd23c07",
   "metadata": {},
   "outputs": [
    {
     "name": "stdout",
     "output_type": "stream",
     "text": [
      "ROC-AUC = 0.5277777777777778\n"
     ]
    }
   ],
   "source": [
    "train_X, valid_X, train_y, valid_y = train_test_split(\n",
    "    train_valid_X, train_valid_y, test_size=0.2, random_state=RND\n",
    ")\n",
    "\n",
    "model = RandomForestClassifier(max_depth=4, random_state=RND)\n",
    "model.fit(train_X, train_y)\n",
    "pred_y = model.predict(valid_X)\n",
    "rocauc = roc_auc_score(valid_y, pred_y)\n",
    "print(f\"ROC-AUC = {rocauc}\")"
   ]
  },
  {
   "cell_type": "markdown",
   "id": "a8d134e9",
   "metadata": {},
   "source": [
    "## 交差検証時のスコア\n",
    "データを１０分割して交差検証をして、ROC-AUCの平均値を指標として使用します。[sklearn.model_selection.cross_val_score](https://scikit-learn.org/stable/modules/generated/sklearn.model_selection.cross_val_score.html)を用いると複数の評価指標で簡単に交差検証のスコアを算出できます。\n",
    "以下の例では、ROC-AUCとAccuracyを交差検証して求めます。"
   ]
  },
  {
   "cell_type": "code",
   "execution_count": 5,
   "id": "7802d7f7",
   "metadata": {},
   "outputs": [
    {
     "name": "stdout",
     "output_type": "stream",
     "text": [
      "roc_auc 0.8443019943019943\n",
      "accuracy 0.8583333333333334\n"
     ]
    }
   ],
   "source": [
    "metrics = (\"roc_auc\", \"accuracy\")\n",
    "model = RandomForestClassifier(max_depth=4, random_state=RND)\n",
    "cv_scores = cross_validate(\n",
    "    model, train_valid_X, train_valid_y, cv=5, scoring=metrics, return_train_score=True\n",
    ")\n",
    "\n",
    "for m in metrics:\n",
    "    cv_m = cv_scores[f\"test_{m}\"]\n",
    "    print(f\"{m} {np.mean(cv_m)}\")"
   ]
  },
  {
   "cell_type": "markdown",
   "id": "e8e57a4b",
   "metadata": {},
   "source": [
    "## テストデータでの性能"
   ]
  },
  {
   "cell_type": "code",
   "execution_count": 6,
   "id": "e696006c",
   "metadata": {},
   "outputs": [
    {
     "name": "stdout",
     "output_type": "stream",
     "text": [
      "test ROC-AUC = 0.8125000000000001\n"
     ]
    }
   ],
   "source": [
    "model = RandomForestClassifier(max_depth=4, random_state=RND).fit(\n",
    "    train_valid_X, train_valid_y\n",
    ")\n",
    "pred_y = model.predict(test_X)\n",
    "rocauc = roc_auc_score(test_y, pred_y)\n",
    "print(f\"test ROC-AUC = {rocauc}\")"
   ]
  }
 ],
 "metadata": {
  "celltoolbar": "Tags",
  "interpreter": {
   "hash": "3e872d456ee3bfa52420e46082e425868e5ba1727ebb3a9802f940a4cc7cbb75"
  },
  "kernelspec": {
   "display_name": "Python 3 (ipykernel)",
   "language": "python",
   "name": "python3"
  },
  "language_info": {
   "codemirror_mode": {
    "name": "ipython",
    "version": 3
   },
   "file_extension": ".py",
   "mimetype": "text/x-python",
   "name": "python",
   "nbconvert_exporter": "python",
   "pygments_lexer": "ipython3",
   "version": "3.8.5"
  }
 },
 "nbformat": 4,
 "nbformat_minor": 5
}
