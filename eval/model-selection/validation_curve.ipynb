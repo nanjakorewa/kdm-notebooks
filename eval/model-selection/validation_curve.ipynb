{
 "cells": [
  {
   "cell_type": "markdown",
   "id": "d5fae2b1",
   "metadata": {},
   "source": [
    "# 検証曲線\n",
    "```{hint}\n",
    "[sklearn.model_selection.validation_curve](https://scikit-learn.org/stable/modules/generated/sklearn.model_selection.validation_curve.html)\n",
    "```\n",
    "モデルの訓練データへの適合度と検証用データへの予測性能を同時に比較するための便利機能。"
   ]
  },
  {
   "cell_type": "code",
   "execution_count": 1,
   "id": "d57bf550",
   "metadata": {},
   "outputs": [],
   "source": [
    "import numpy as np\n",
    "import matplotlib.pyplot as plt\n",
    "from sklearn.datasets import make_classification\n",
    "from sklearn.ensemble import RandomForestClassifier\n",
    "from sklearn.model_selection import train_test_split\n",
    "from sklearn.model_selection import KFold, StratifiedKFold\n",
    "from sklearn.model_selection import validation_curve\n",
    "from sklearn.metrics import roc_auc_score"
   ]
  },
  {
   "cell_type": "code",
   "execution_count": 2,
   "id": "e53e6188",
   "metadata": {
    "tags": [
     "hide-input"
    ]
   },
   "outputs": [],
   "source": [
    "RND = 777\n",
    "np.random.seed(RND)  # 乱数を固定するため\n",
    "\n",
    "# 表示する文字サイズを調整\n",
    "plt.rc(\"font\", size=20)\n",
    "plt.rc(\"legend\", fontsize=16)\n",
    "plt.rc(\"xtick\", labelsize=14)\n",
    "plt.rc(\"ytick\", labelsize=14)\n",
    "\n",
    "# youtube動画を表示\n",
    "import IPython.display\n",
    "\n",
    "# IPython.display.YouTubeVideo(\"XXX\", width=\"500px\")"
   ]
  },
  {
   "cell_type": "markdown",
   "id": "21fbfd42",
   "metadata": {},
   "source": [
    "# サンプルデータに対してモデルを作成し交差検証\n",
    "## 実験用データ"
   ]
  },
  {
   "cell_type": "code",
   "execution_count": 3,
   "id": "e1538bc5",
   "metadata": {},
   "outputs": [],
   "source": [
    "X, y = make_classification(\n",
    "    n_samples=1000,\n",
    "    n_classes=2,\n",
    "    n_informative=4,\n",
    "    n_clusters_per_class=3,\n",
    "    random_state=RND,\n",
    ")\n",
    "\n",
    "# TODO"
   ]
  }
 ],
 "metadata": {
  "celltoolbar": "Tags",
  "interpreter": {
   "hash": "3e872d456ee3bfa52420e46082e425868e5ba1727ebb3a9802f940a4cc7cbb75"
  },
  "kernelspec": {
   "display_name": "Python 3 (ipykernel)",
   "language": "python",
   "name": "python3"
  },
  "language_info": {
   "codemirror_mode": {
    "name": "ipython",
    "version": 3
   },
   "file_extension": ".py",
   "mimetype": "text/x-python",
   "name": "python",
   "nbconvert_exporter": "python",
   "pygments_lexer": "ipython3",
   "version": "3.8.5"
  }
 },
 "nbformat": 4,
 "nbformat_minor": 5
}
